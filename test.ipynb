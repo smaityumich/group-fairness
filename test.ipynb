{
 "cells": [
  {
   "cell_type": "code",
   "execution_count": 3,
   "metadata": {},
   "outputs": [],
   "source": [
    "import numpy as np\n",
    "import tensorflow as tf\n",
    "from adult_modified import preprocess_adult_data\n",
    "\n",
    "seed = 1\n",
    "dataset_orig_train, dataset_orig_test = preprocess_adult_data(seed = seed)"
   ]
  },
  {
   "cell_type": "code",
   "execution_count": 4,
   "metadata": {},
   "outputs": [
    {
     "output_type": "execute_result",
     "data": {
      "text/plain": "               instance weights  features                             \\\n                                                                       \n                                      age education-num capital-gain   \ninstance names                                                         \n13237                       1.0 -1.175586     -1.607059    -0.147413   \n23644                       1.0  0.264770     -0.435784    -0.147413   \n178                         1.0 -1.554628     -0.435784    -0.147413   \n16741                       1.0 -0.341696     -0.435784    -0.147413   \n28620                       1.0 -0.948162     -0.435784    -0.147413   \n...                         ...       ...           ...          ...   \n47211                       1.0 -1.099778      1.125916    -0.147413   \n35106                       1.0  0.264770      1.125916    -0.147413   \n5661                        1.0 -1.478820     -2.387908    -0.147413   \n13155                       1.0 -1.630436     -1.607059    -0.147413   \n35636                       1.0 -0.569120     -0.435784    -0.147413   \n\n                                                                   \\\n                                                                    \n               capital-loss hours-per-week workclass_ Federal-gov   \ninstance names                                                      \n13237             -0.219069       1.599468                    0.0   \n23644             -0.219069      -0.075697                    0.0   \n178               -0.219069      -2.420928                    0.0   \n16741              4.084490      -0.494488                    0.0   \n28620             -0.219069      -0.075697                    0.0   \n...                     ...            ...                    ...   \n47211             -0.219069       0.761886                    0.0   \n35106             -0.219069      -0.075697                    0.0   \n5661               3.743174      -0.745763                    0.0   \n13155             -0.219069      -1.750862                    0.0   \n35636             -0.219069      -0.326971                    0.0   \n\n                                                        \\\n                                                         \n               workclass_ Local-gov workclass_ Private   \ninstance names                                           \n13237                           0.0                1.0   \n23644                           0.0                0.0   \n178                             0.0                1.0   \n16741                           1.0                0.0   \n28620                           0.0                1.0   \n...                             ...                ...   \n47211                           0.0                1.0   \n35106                           0.0                1.0   \n5661                            0.0                1.0   \n13155                           0.0                1.0   \n35636                           0.0                0.0   \n\n                                        ...                               \\\n                                        ...                                \n               workclass_ Self-emp-inc  ... occupation_ Transport-moving   \ninstance names                          ...                                \n13237                              0.0  ...                          0.0   \n23644                              1.0  ...                          0.0   \n178                                0.0  ...                          0.0   \n16741                              0.0  ...                          0.0   \n28620                              0.0  ...                          0.0   \n...                                ...  ...                          ...   \n47211                              0.0  ...                          0.0   \n35106                              0.0  ...                          0.0   \n5661                               0.0  ...                          0.0   \n13155                              0.0  ...                          0.0   \n35636                              0.0  ...                          0.0   \n\n                                                                  \\\n                                                                   \n               relationship_ Husband relationship_ Not-in-family   \ninstance names                                                     \n13237                            0.0                         0.0   \n23644                            1.0                         0.0   \n178                              0.0                         0.0   \n16741                            0.0                         0.0   \n28620                            1.0                         0.0   \n...                              ...                         ...   \n47211                            0.0                         1.0   \n35106                            1.0                         0.0   \n5661                             0.0                         0.0   \n13155                            0.0                         0.0   \n35636                            0.0                         1.0   \n\n                                                                     \\\n                                                                      \n               relationship_ Other-relative relationship_ Own-child   \ninstance names                                                        \n13237                                   0.0                     0.0   \n23644                                   0.0                     0.0   \n178                                     0.0                     1.0   \n16741                                   0.0                     0.0   \n28620                                   0.0                     0.0   \n...                                     ...                     ...   \n47211                                   0.0                     0.0   \n35106                                   0.0                     0.0   \n5661                                    0.0                     1.0   \n13155                                   0.0                     1.0   \n35636                                   0.0                     0.0   \n\n                                                                               \\\n                                                          protected attribute   \n               relationship_ Unmarried relationship_ Wife           sex_ Male   \ninstance names                                                                  \n13237                              1.0                0.0                 1.0   \n23644                              0.0                0.0                 1.0   \n178                                0.0                0.0                 1.0   \n16741                              0.0                1.0                 0.0   \n28620                              0.0                0.0                 1.0   \n...                                ...                ...                 ...   \n47211                              0.0                0.0                 0.0   \n35106                              0.0                0.0                 1.0   \n5661                               0.0                0.0                 1.0   \n13155                              0.0                0.0                 0.0   \n35636                              0.0                0.0                 0.0   \n\n                           labels  \n                                   \n               race_ White         \ninstance names                     \n13237                  1.0    0.0  \n23644                  1.0    0.0  \n178                    1.0    0.0  \n16741                  1.0    0.0  \n28620                  1.0    0.0  \n...                    ...    ...  \n47211                  1.0    0.0  \n35106                  1.0    0.0  \n5661                   1.0    0.0  \n13155                  1.0    0.0  \n35636                  0.0    0.0  \n\n[9045 rows x 43 columns]"
     },
     "metadata": {},
     "execution_count": 4
    }
   ],
   "source": [
    "dataset_orig_test"
   ]
  },
  {
   "cell_type": "code",
   "execution_count": 9,
   "metadata": {},
   "outputs": [],
   "source": [
    "x_train = dataset_orig_train.features"
   ]
  },
  {
   "cell_type": "code",
   "execution_count": 1,
   "metadata": {},
   "outputs": [
    {
     "output_type": "stream",
     "name": "stdout",
     "text": "parameter:time-20200513-134357-expt_id-771334-lr-0.0005-w_reg-1.0-l2_reg-0\nWARNING:tensorflow:From /Users/smaity/Library/Python/3.7/lib/python/site-packages/tensorflow_core/python/ops/array_grad.py:563: _EagerTensorBase.cpu (from tensorflow.python.framework.ops) is deprecated and will be removed in a future version.\nInstructions for updating:\nUse tf.identity instead.\nTest accuracy for step 0: 0.5102266669273376\n\nTest GAP RMS for step 0: 0.07435241989602592\n\nTest balenced accuracy for step 0: 0.6124019920825958\n\nTest accuracy for step 250: 0.8347153067588806\n\nTest GAP RMS for step 250: 0.1343446198737928\n\nTest balenced accuracy for step 250: 0.7466579042375088\n\nTest accuracy for step 500: 0.844112753868103\n\nTest GAP RMS for step 500: 0.08099763179749658\n\nTest balenced accuracy for step 500: 0.7682999968528748\n\nTest accuracy for step 750: 0.8475400805473328\n\nTest GAP RMS for step 750: 0.07100816792763001\n\nTest balenced accuracy for step 750: 0.7739595770835876\n\nFinal test accuracy: 0.8488667607307434\n\nFinal test GAP RMS: 0.06350603187263354\n\nFinal test balenced accuracy: 0.7629517801105976\n\n\n"
    }
   ],
   "source": [
    "from adult_experiment import *"
   ]
  },
  {
   "cell_type": "code",
   "execution_count": 2,
   "metadata": {},
   "outputs": [],
   "source": [
    "x, y, group = data_test\n",
    "logits = experiment.classifier(x)"
   ]
  },
  {
   "cell_type": "code",
   "execution_count": 3,
   "metadata": {},
   "outputs": [],
   "source": [
    "predictions = tf.cast(tf.argmax(logits, axis = 1), dtype = tf.int32)"
   ]
  },
  {
   "cell_type": "code",
   "execution_count": 4,
   "metadata": {},
   "outputs": [
    {
     "output_type": "execute_result",
     "data": {
      "text/plain": "<tf.Tensor: shape=(9045,), dtype=int32, numpy=array([0, 0, 0, ..., 0, 0, 0], dtype=int32)>"
     },
     "metadata": {},
     "execution_count": 4
    }
   ],
   "source": [
    "predictions"
   ]
  },
  {
   "cell_type": "code",
   "execution_count": 6,
   "metadata": {},
   "outputs": [
    {
     "output_type": "execute_result",
     "data": {
      "text/plain": "<tf.Tensor: shape=(9045,), dtype=int64, numpy=array([0, 0, 0, ..., 0, 0, 0])>"
     },
     "metadata": {},
     "execution_count": 6
    }
   ],
   "source": [
    "tf.argmax(logits, axis = 1)"
   ]
  },
  {
   "cell_type": "code",
   "execution_count": 7,
   "metadata": {},
   "outputs": [
    {
     "output_type": "execute_result",
     "data": {
      "text/plain": "<tf.Tensor: shape=(9045, 2), dtype=float32, numpy=\narray([[ 1.0128586 , -1.5647669 ],\n       [ 0.54416907, -0.78029585],\n       [ 2.3287683 , -2.4858282 ],\n       ...,\n       [ 2.2926817 , -2.7051296 ],\n       [ 1.9832346 , -2.3899448 ],\n       [ 1.2653949 , -1.225308  ]], dtype=float32)>"
     },
     "metadata": {},
     "execution_count": 7
    }
   ],
   "source": [
    "logits"
   ]
  },
  {
   "cell_type": "code",
   "execution_count": 8,
   "metadata": {},
   "outputs": [
    {
     "output_type": "execute_result",
     "data": {
      "text/plain": "<tf.Tensor: shape=(9045, 2), dtype=float32, numpy=\narray([[1., 0.],\n       [1., 0.],\n       [1., 0.],\n       ...,\n       [1., 0.],\n       [1., 0.],\n       [1., 0.]], dtype=float32)>"
     },
     "metadata": {},
     "execution_count": 8
    }
   ],
   "source": [
    "y"
   ]
  },
  {
   "cell_type": "code",
   "execution_count": 10,
   "metadata": {},
   "outputs": [
    {
     "output_type": "execute_result",
     "data": {
      "text/plain": "<tf.Tensor: shape=(), dtype=float32, numpy=0.24311775>"
     },
     "metadata": {},
     "execution_count": 10
    }
   ],
   "source": [
    "tf.reduce_mean(y[:,1])"
   ]
  },
  {
   "cell_type": "code",
   "execution_count": 12,
   "metadata": {},
   "outputs": [],
   "source": [
    "z = y[:, 1]"
   ]
  },
  {
   "cell_type": "code",
   "execution_count": 13,
   "metadata": {},
   "outputs": [
    {
     "output_type": "execute_result",
     "data": {
      "text/plain": "<tf.Tensor: shape=(2199,), dtype=float32, numpy=array([1., 1., 1., ..., 1., 1., 1.], dtype=float32)>"
     },
     "metadata": {},
     "execution_count": 13
    }
   ],
   "source": [
    "z[z == 1]"
   ]
  },
  {
   "cell_type": "code",
   "execution_count": 14,
   "metadata": {},
   "outputs": [
    {
     "output_type": "execute_result",
     "data": {
      "text/plain": "<tf.Tensor: shape=(9045,), dtype=int32, numpy=array([0, 0, 0, ..., 0, 0, 0], dtype=int32)>"
     },
     "metadata": {},
     "execution_count": 14
    }
   ],
   "source": [
    "predictions"
   ]
  },
  {
   "cell_type": "code",
   "execution_count": 15,
   "metadata": {},
   "outputs": [
    {
     "output_type": "execute_result",
     "data": {
      "text/plain": "<tf.Tensor: shape=(1578,), dtype=int32, numpy=array([1, 1, 1, ..., 1, 1, 1], dtype=int32)>"
     },
     "metadata": {},
     "execution_count": 15
    }
   ],
   "source": [
    "predictions[predictions == 1]"
   ]
  },
  {
   "cell_type": "code",
   "execution_count": 16,
   "metadata": {},
   "outputs": [],
   "source": [
    "label = 1"
   ]
  },
  {
   "cell_type": "code",
   "execution_count": 17,
   "metadata": {},
   "outputs": [],
   "source": [
    "predictions = tf.cast(tf.argmax(logits, axis = 1), dtype = tf.int32)\n",
    "y = tf.cast(y[:, 1], dtype = tf.int32)"
   ]
  },
  {
   "cell_type": "code",
   "execution_count": 18,
   "metadata": {},
   "outputs": [],
   "source": [
    "predictions_label = predictions[y == label]\n",
    "group_label = group[y == label]\n",
    "predictions_label0 = predictions_label[group_label == 0]\n",
    "predictions_label1 = predictions_label[group_label == 1]\n",
    "diff = tf.reduce_mean(predictions_label0) - tf.reduce_mean(predictions_label1)"
   ]
  },
  {
   "cell_type": "code",
   "execution_count": 19,
   "metadata": {},
   "outputs": [
    {
     "output_type": "execute_result",
     "data": {
      "text/plain": "<tf.Tensor: shape=(), dtype=int32, numpy=0>"
     },
     "metadata": {},
     "execution_count": 19
    }
   ],
   "source": [
    "diff"
   ]
  },
  {
   "cell_type": "code",
   "execution_count": 20,
   "metadata": {},
   "outputs": [
    {
     "output_type": "execute_result",
     "data": {
      "text/plain": "<tf.Tensor: shape=(317,), dtype=int32, numpy=\narray([0, 1, 1, 0, 1, 0, 0, 0, 0, 0, 0, 0, 0, 0, 1, 0, 0, 0, 1, 0, 1, 0,\n       1, 1, 1, 0, 1, 0, 0, 0, 1, 0, 0, 1, 0, 0, 1, 0, 0, 1, 1, 1, 1, 0,\n       1, 0, 0, 1, 1, 0, 0, 0, 0, 0, 0, 1, 1, 1, 0, 0, 1, 1, 0, 1, 0, 0,\n       1, 0, 0, 0, 0, 1, 0, 0, 0, 0, 0, 0, 0, 1, 1, 1, 1, 1, 1, 0, 0, 1,\n       0, 0, 0, 1, 0, 0, 0, 0, 0, 0, 0, 1, 0, 0, 0, 0, 0, 1, 0, 0, 1, 0,\n       1, 0, 1, 0, 0, 0, 0, 0, 0, 1, 0, 1, 0, 0, 0, 0, 0, 0, 0, 1, 1, 0,\n       0, 0, 1, 0, 1, 0, 0, 0, 1, 0, 1, 1, 0, 0, 0, 0, 0, 0, 0, 0, 1, 0,\n       1, 0, 1, 1, 0, 1, 0, 0, 0, 0, 0, 1, 0, 1, 0, 0, 1, 0, 1, 1, 1, 0,\n       0, 0, 1, 1, 0, 0, 1, 0, 0, 0, 1, 1, 0, 1, 1, 1, 0, 0, 0, 0, 0, 1,\n       0, 1, 1, 0, 1, 1, 0, 1, 0, 0, 1, 1, 0, 0, 0, 0, 0, 1, 1, 0, 0, 0,\n       0, 0, 1, 0, 0, 0, 1, 1, 1, 0, 1, 0, 1, 0, 0, 1, 0, 0, 0, 0, 1, 0,\n       0, 1, 0, 1, 0, 1, 0, 0, 1, 0, 0, 1, 0, 0, 1, 0, 0, 0, 0, 1, 0, 1,\n       1, 0, 1, 1, 0, 0, 0, 0, 1, 1, 0, 0, 0, 0, 0, 1, 1, 0, 1, 1, 0, 0,\n       0, 1, 0, 1, 1, 0, 0, 0, 0, 1, 0, 1, 1, 0, 0, 1, 0, 1, 1, 1, 1, 1,\n       0, 0, 1, 0, 0, 0, 0, 1, 1], dtype=int32)>"
     },
     "metadata": {},
     "execution_count": 20
    }
   ],
   "source": [
    "predictions_label0"
   ]
  },
  {
   "cell_type": "code",
   "execution_count": 21,
   "metadata": {},
   "outputs": [
    {
     "output_type": "execute_result",
     "data": {
      "text/plain": "<tf.Tensor: shape=(1882,), dtype=int32, numpy=array([1, 1, 1, ..., 1, 0, 1], dtype=int32)>"
     },
     "metadata": {},
     "execution_count": 21
    }
   ],
   "source": [
    "predictions_label1"
   ]
  },
  {
   "cell_type": "code",
   "execution_count": 22,
   "metadata": {},
   "outputs": [
    {
     "output_type": "execute_result",
     "data": {
      "text/plain": "<tf.Tensor: shape=(), dtype=int32, numpy=0>"
     },
     "metadata": {},
     "execution_count": 22
    }
   ],
   "source": [
    "tf.reduce_mean(predictions_label1)"
   ]
  },
  {
   "cell_type": "code",
   "execution_count": null,
   "metadata": {},
   "outputs": [],
   "source": []
  }
 ],
 "metadata": {
  "language_info": {
   "codemirror_mode": {
    "name": "ipython",
    "version": 3
   },
   "file_extension": ".py",
   "mimetype": "text/x-python",
   "name": "python",
   "nbconvert_exporter": "python",
   "pygments_lexer": "ipython3",
   "version": "3.7.4-final"
  },
  "orig_nbformat": 2,
  "kernelspec": {
   "name": "python37464bit48aa32fa6dba4f1bbd692e320b15fd93",
   "display_name": "Python 3.7.4 64-bit"
  }
 },
 "nbformat": 4,
 "nbformat_minor": 2
}