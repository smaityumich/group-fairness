{
 "cells": [
  {
   "cell_type": "code",
   "execution_count": 1,
   "metadata": {},
   "outputs": [],
   "source": [
    "import numpy as np\n",
    "import tensorflow as tf\n",
    "x_train, y_train, group_train = np.random.normal(size = (10000, 39)), np.random.binomial(1, 0.5, (10000, )), np.random.binomial(1, 0.5, (10000, 2))\n",
    "x_test, y_test, group_test = np.random.normal(size = (6000, 39)), np.random.binomial(1, 0.5, (6000, )), np.random.binomial(1, 0.5, (6000, 2))"
   ]
  },
  {
   "cell_type": "code",
   "execution_count": 2,
   "metadata": {},
   "outputs": [],
   "source": [
    "x_train, y_train, group_train = tf.cast(x_train, tf.float32), tf.one_hot(y_train, 2), tf.cast(group_train, tf.int32)\n",
    "x_test, y_test, group_test = tf.cast(x_test, tf.float32), tf.one_hot(y_test, 2), tf.cast(group_test, tf.int32)\n",
    "data_train = x_train, y_train, group_train\n",
    "data_test = x_test, y_test, group_test"
   ]
  },
  {
   "cell_type": "code",
   "execution_count": 3,
   "metadata": {},
   "outputs": [],
   "source": [
    "import itertools\n",
    "groups = list(itertools.product([0,1], [0,1]))\n",
    "groups = [list(x) for x in groups]\n",
    "groups = tf.cast(groups, tf.int32)"
   ]
  },
  {
   "cell_type": "code",
   "execution_count": 4,
   "metadata": {},
   "outputs": [
    {
     "output_type": "execute_result",
     "data": {
      "text/plain": "<tf.Tensor: shape=(4, 2), dtype=int32, numpy=\narray([[0, 0],\n       [0, 1],\n       [1, 0],\n       [1, 1]], dtype=int32)>"
     },
     "metadata": {},
     "execution_count": 4
    }
   ],
   "source": [
    "groups "
   ]
  },
  {
   "cell_type": "code",
   "execution_count": 5,
   "metadata": {},
   "outputs": [],
   "source": [
    "import setup2\n",
    "e = setup2.GroupFairness()\n",
    "e.set_graph(classifier_input_shape=(39,), n_groups=4)"
   ]
  },
  {
   "cell_type": "code",
   "execution_count": 6,
   "metadata": {},
   "outputs": [
    {
     "output_type": "stream",
     "name": "stdout",
     "text": "parameter:time-20200514-173229-expt_id-892473-lr-0.0001-w_reg-1.0-l2_reg-0\n"
    }
   ],
   "source": [
    "e.create_tensorboard()"
   ]
  },
  {
   "cell_type": "code",
   "execution_count": 7,
   "metadata": {},
   "outputs": [
    {
     "output_type": "stream",
     "name": "stdout",
     "text": "parameter:time-20200514-173229-expt_id-419980-lr-0.0001-w_reg-1.0-l2_reg-0\nWARNING:tensorflow:From /Users/smaity/Library/Python/3.7/lib/python/site-packages/tensorflow_core/python/ops/array_grad.py:563: _EagerTensorBase.cpu (from tensorflow.python.framework.ops) is deprecated and will be removed in a future version.\nInstructions for updating:\nUse tf.identity instead.\nTest accuracy for step 0: 0.4986666738986969\n\nTest GAP RMS for feature 0 and step 0: 0.00015069781511556357\n\nTest GAP RMS for feature 1 and step 0: 0.00012828434410039335\n\nTest balanced accuracy for step 0: 0.494412899017334\n\n\n"
    }
   ],
   "source": [
    "e.fit(data_train, data_test, groups)"
   ]
  },
  {
   "cell_type": "code",
   "execution_count": 9,
   "metadata": {},
   "outputs": [],
   "source": []
  },
  {
   "cell_type": "code",
   "execution_count": 1,
   "metadata": {},
   "outputs": [],
   "source": [
    "import numpy as np\n",
    "import tensorflow as tf\n",
    "from adult_modified import preprocess_adult_data\n",
    "import setup\n",
    "\n",
    "# Adult data processing\n",
    "seed = 1\n",
    "dataset_orig_train, dataset_orig_test = preprocess_adult_data(seed = seed)\n",
    "\n",
    "x_all_train, x_all_test = dataset_orig_train.features, dataset_orig_test.features"
   ]
  },
  {
   "cell_type": "code",
   "execution_count": 3,
   "metadata": {},
   "outputs": [
    {
     "output_type": "execute_result",
     "data": {
      "text/plain": "               instance weights  features                             \\\n                                                                       \n                                      age education-num capital-gain   \ninstance names                                                         \n42106                       1.0  1.022853     -0.045359    -0.147413   \n31714                       1.0  0.340579      1.125916    -0.147413   \n10772                       1.0  0.340579      1.125916    -0.147413   \n15825                       1.0 -0.493312     -0.826209    -0.147413   \n40653                       1.0 -0.493312     -0.826209    -0.147413   \n...                         ...       ...           ...          ...   \n37008                       1.0 -0.644929     -0.045359    -0.147413   \n43443                       1.0 -0.948162     -0.826209    -0.147413   \n20022                       1.0 -1.327203     -0.045359    -0.147413   \n43753                       1.0  0.947045      1.516340    -0.147413   \n28323                       1.0  1.098661     -1.997483    -0.147413   \n\n                                                                   \\\n                                                                    \n               capital-loss hours-per-week workclass_ Federal-gov   \ninstance names                                                      \n42106             -0.219069       0.678128                    0.0   \n31714             -0.219069      -0.494488                    0.0   \n10772             -0.219069       1.599468                    0.0   \n15825             -0.219069      -0.075697                    0.0   \n40653             -0.219069      -0.075697                    0.0   \n...                     ...            ...                    ...   \n37008             -0.219069      -0.075697                    1.0   \n43443             -0.219069      -0.075697                    0.0   \n20022             -0.219069      -1.750862                    0.0   \n43753             -0.219069      -0.075697                    0.0   \n28323             -0.219069      -0.075697                    0.0   \n\n                                                        \\\n                                                         \n               workclass_ Local-gov workclass_ Private   \ninstance names                                           \n42106                           0.0                1.0   \n31714                           0.0                1.0   \n10772                           0.0                0.0   \n15825                           0.0                1.0   \n40653                           0.0                1.0   \n...                             ...                ...   \n37008                           0.0                0.0   \n43443                           0.0                1.0   \n20022                           0.0                1.0   \n43753                           1.0                0.0   \n28323                           0.0                1.0   \n\n                                        ...                               \\\n                                        ...                                \n               workclass_ Self-emp-inc  ... occupation_ Transport-moving   \ninstance names                          ...                                \n42106                              0.0  ...                          0.0   \n31714                              0.0  ...                          0.0   \n10772                              0.0  ...                          0.0   \n15825                              0.0  ...                          0.0   \n40653                              0.0  ...                          0.0   \n...                                ...  ...                          ...   \n37008                              0.0  ...                          0.0   \n43443                              0.0  ...                          1.0   \n20022                              0.0  ...                          0.0   \n43753                              0.0  ...                          0.0   \n28323                              0.0  ...                          0.0   \n\n                                                                  \\\n                                                                   \n               relationship_ Husband relationship_ Not-in-family   \ninstance names                                                     \n42106                            0.0                         1.0   \n31714                            0.0                         0.0   \n10772                            0.0                         0.0   \n15825                            1.0                         0.0   \n40653                            0.0                         0.0   \n...                              ...                         ...   \n37008                            0.0                         0.0   \n43443                            0.0                         0.0   \n20022                            0.0                         0.0   \n43753                            1.0                         0.0   \n28323                            0.0                         1.0   \n\n                                                                     \\\n                                                                      \n               relationship_ Other-relative relationship_ Own-child   \ninstance names                                                        \n42106                                   0.0                     0.0   \n31714                                   0.0                     0.0   \n10772                                   0.0                     0.0   \n15825                                   0.0                     0.0   \n40653                                   0.0                     0.0   \n...                                     ...                     ...   \n37008                                   0.0                     0.0   \n43443                                   0.0                     0.0   \n20022                                   0.0                     1.0   \n43753                                   0.0                     0.0   \n28323                                   0.0                     0.0   \n\n                                                                               \\\n                                                          protected attribute   \n               relationship_ Unmarried relationship_ Wife           sex_ Male   \ninstance names                                                                  \n42106                              0.0                0.0                 0.0   \n31714                              1.0                0.0                 0.0   \n10772                              0.0                1.0                 0.0   \n15825                              0.0                0.0                 1.0   \n40653                              0.0                1.0                 0.0   \n...                                ...                ...                 ...   \n37008                              1.0                0.0                 0.0   \n43443                              1.0                0.0                 1.0   \n20022                              0.0                0.0                 0.0   \n43753                              0.0                0.0                 1.0   \n28323                              0.0                0.0                 1.0   \n\n                           labels  \n                                   \n               race_ White         \ninstance names                     \n42106                  1.0    0.0  \n31714                  0.0    1.0  \n10772                  0.0    0.0  \n15825                  1.0    0.0  \n40653                  1.0    0.0  \n...                    ...    ...  \n37008                  0.0    0.0  \n43443                  1.0    0.0  \n20022                  0.0    0.0  \n43753                  1.0    1.0  \n28323                  0.0    0.0  \n\n[36177 rows x 43 columns]"
     },
     "metadata": {},
     "execution_count": 3
    }
   ],
   "source": [
    "dataset_orig_train"
   ]
  },
  {
   "cell_type": "code",
   "execution_count": 1,
   "metadata": {},
   "outputs": [],
   "source": [
    "import numpy as np\n",
    "import tensorflow as tf\n",
    "from adult_modified import preprocess_adult_data\n",
    "import setup2\n",
    "\n",
    "# Adult data processing\n",
    "seed = 1\n",
    "dataset_orig_train, dataset_orig_test = preprocess_adult_data(seed = seed)\n",
    "\n",
    "all_train, all_test = dataset_orig_train.features, dataset_orig_test.features\n",
    "y_train, y_test = dataset_orig_train.labels.reshape((-1,)), dataset_orig_test.labels.reshape((-1,))\n",
    "y_train, y_test = y_train.astype('int32'), y_test.astype('int32')\n",
    "\n",
    "x_train = np.delete(all_train, [dataset_orig_test.feature_names.index(feat) for feat in ['sex_ Male', 'race_ White']], axis = 1)\n",
    "x_test = np.delete(all_test, [dataset_orig_test.feature_names.index(feat) for feat in ['sex_ Male', 'race_ White']], axis = 1)\n",
    "\n",
    "group_train = dataset_orig_train.features[:, [dataset_orig_test.feature_names.index(feat) for feat in ['sex_ Male', 'race_ White']]]\n",
    "group_test = dataset_orig_test.features[:, [dataset_orig_test.feature_names.index(feat) for feat in ['sex_ Male', 'race_ White']]]\n",
    "\n",
    "x_train, y_train, group_train = tf.cast(x_train, dtype = tf.float32),\\\n",
    "     tf.one_hot(y_train, 2), tf.cast(group_train, dtype = tf.int32)\n",
    "\n",
    "\n",
    "x_test, y_test, group_test = tf.cast(x_test, dtype = tf.float32),\\\n",
    "     tf.one_hot(y_test, 2), tf.cast(group_test, dtype = tf.int32)\n",
    "\n",
    "data_train = x_train, y_train, group_train\n",
    "data_test = x_test, y_test, group_test"
   ]
  },
  {
   "cell_type": "code",
   "execution_count": 2,
   "metadata": {},
   "outputs": [
    {
     "output_type": "execute_result",
     "data": {
      "text/plain": "<tf.Tensor: shape=(36177, 2), dtype=int32, numpy=\narray([[0, 1],\n       [0, 0],\n       [0, 0],\n       ...,\n       [0, 0],\n       [1, 1],\n       [1, 0]], dtype=int32)>"
     },
     "metadata": {},
     "execution_count": 2
    }
   ],
   "source": [
    "group_train"
   ]
  },
  {
   "cell_type": "code",
   "execution_count": 3,
   "metadata": {},
   "outputs": [
    {
     "output_type": "execute_result",
     "data": {
      "text/plain": "<tf.Tensor: shape=(36177, 2), dtype=float32, numpy=\narray([[1., 0.],\n       [0., 1.],\n       [1., 0.],\n       ...,\n       [1., 0.],\n       [0., 1.],\n       [1., 0.]], dtype=float32)>"
     },
     "metadata": {},
     "execution_count": 3
    }
   ],
   "source": [
    "y_train"
   ]
  },
  {
   "cell_type": "code",
   "execution_count": 1,
   "metadata": {},
   "outputs": [
    {
     "output_type": "stream",
     "name": "stdout",
     "text": "parameter:time-20200515-100228-expt_id-771334-lr-0.0001-w_reg-10.0-l2_reg-0\nWARNING:tensorflow:From /Users/smaity/Library/Python/3.7/lib/python/site-packages/tensorflow_core/python/ops/array_grad.py:563: _EagerTensorBase.cpu (from tensorflow.python.framework.ops) is deprecated and will be removed in a future version.\nInstructions for updating:\nUse tf.identity instead.\nTest accuracy for step 0: 0.6577114462852478\n\nTest GAP RMS for gender and step 0: 0.12050401419401169\n\nTest GAP RMS for race and step 0: 0.049244657158851624\n\nTest balanced accuracy for step 0: 0.5767894387245178\n\n\nTest accuracy for step 250: 0.7565506100654602\n\nTest GAP RMS for gender and step 250: 0.0030976261477917433\n\nTest GAP RMS for race and step 250: 0.00868151430040598\n\nTest balanced accuracy for step 250: 0.5010156035423279\n\n\nTest accuracy for step 500: 0.7568822503089905\n\nTest GAP RMS for gender and step 500: 0.0\n\nTest GAP RMS for race and step 500: 0.0\n\nTest balanced accuracy for step 500: 0.5\n\n\nTest accuracy for step 750: 0.7568822503089905\n\nTest GAP RMS for gender and step 750: 0.0\n\nTest GAP RMS for race and step 750: 0.0\n\nTest balanced accuracy for step 750: 0.5\n\n\nTest accuracy for step 1000: 0.7568822503089905\n\nTest GAP RMS for gender and step 1000: 0.0\n\nTest GAP RMS for race and step 1000: 0.0\n\nTest balanced accuracy for step 1000: 0.5\n\n\nTest accuracy for step 1250: 0.7568822503089905\n\nTest GAP RMS for gender and step 1250: 0.0\n\nTest GAP RMS for race and step 1250: 0.0\n\nTest balanced accuracy for step 1250: 0.5\n\n\nTest accuracy for step 1500: 0.7568822503089905\n\nTest GAP RMS for gender and step 1500: 0.0\n\nTest GAP RMS for race and step 1500: 0.0\n\nTest balanced accuracy for step 1500: 0.5\n\n\nTest accuracy for step 1750: 0.7568822503089905\n\nTest GAP RMS for gender and step 1750: 0.0\n\nTest GAP RMS for race and step 1750: 0.0\n\nTest balanced accuracy for step 1750: 0.5\n\n\n"
    }
   ],
   "source": [
    "from adult_expt_gender_race import *"
   ]
  },
  {
   "cell_type": "code",
   "execution_count": null,
   "metadata": {},
   "outputs": [],
   "source": []
  }
 ],
 "metadata": {
  "language_info": {
   "codemirror_mode": {
    "name": "ipython",
    "version": 3
   },
   "file_extension": ".py",
   "mimetype": "text/x-python",
   "name": "python",
   "nbconvert_exporter": "python",
   "pygments_lexer": "ipython3",
   "version": "3.7.4-final"
  },
  "orig_nbformat": 2,
  "kernelspec": {
   "name": "python37464bit48aa32fa6dba4f1bbd692e320b15fd93",
   "display_name": "Python 3.7.4 64-bit"
  }
 },
 "nbformat": 4,
 "nbformat_minor": 2
}