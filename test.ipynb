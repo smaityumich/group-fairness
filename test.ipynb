{
 "cells": [
  {
   "cell_type": "code",
   "execution_count": 1,
   "metadata": {},
   "outputs": [],
   "source": [
    "import tensorflow as tf\n",
    "from nn_graph import *"
   ]
  },
  {
   "cell_type": "code",
   "execution_count": 4,
   "metadata": {},
   "outputs": [],
   "source": [
    "NN = NNGraph(architecture=[10, 20, 30, 44])"
   ]
  },
  {
   "cell_type": "code",
   "execution_count": 5,
   "metadata": {},
   "outputs": [
    {
     "output_type": "stream",
     "name": "stdout",
     "text": "Model: \"sequential_1\"\n_________________________________________________________________\nLayer (type)                 Output Shape              Param #   \n=================================================================\nhidden-layer-1 (Dense)       (None, 10)                410       \n_________________________________________________________________\nhidden-layer-2 (Dense)       (None, 20)                220       \n_________________________________________________________________\nhidden-layer-3 (Dense)       (None, 30)                630       \n_________________________________________________________________\nlogit-layer (Dense)          (None, 44)                1364      \n=================================================================\nTotal params: 2,624\nTrainable params: 2,624\nNon-trainable params: 0\n_________________________________________________________________\n"
    }
   ],
   "source": [
    "NN.model.summary()"
   ]
  },
  {
   "cell_type": "code",
   "execution_count": 6,
   "metadata": {},
   "outputs": [],
   "source": [
    "a = [[1,2], [2,3], [3, 4]]\n",
    "a = tf.cast(a, dtype=tf.float32)\n"
   ]
  },
  {
   "cell_type": "code",
   "execution_count": 9,
   "metadata": {},
   "outputs": [
    {
     "output_type": "execute_result",
     "data": {
      "text/plain": "(<tf.Tensor: shape=(3, 2), dtype=float32, numpy=\n array([[0.33333334, 0.6666667 ],\n        [0.4       , 0.6       ],\n        [0.42857143, 0.5714286 ]], dtype=float32)>,\n <tf.Tensor: shape=(3, 1), dtype=float32, numpy=\n array([[3.],\n        [5.],\n        [7.]], dtype=float32)>)"
     },
     "metadata": {},
     "execution_count": 9
    }
   ],
   "source": [
    "tf.linalg.normalize(a, ord = 1, axis = 1)"
   ]
  },
  {
   "cell_type": "code",
   "execution_count": 1,
   "metadata": {},
   "outputs": [],
   "source": [
    "import setup\n",
    "import numpy as np\n",
    "import tensorflow as tf"
   ]
  },
  {
   "cell_type": "code",
   "execution_count": 2,
   "metadata": {},
   "outputs": [],
   "source": [
    "data_train = tf.random.normal((1000, 40)), tf.one_hot(np.random.binomial(1, 0.5, 1000), 2), \\\n",
    "tf.cast(np.random.binomial(1, 0.5, 1000), dtype=tf.float32)\n",
    "data_test = tf.random.normal((1000, 40)), tf.one_hot(np.random.binomial(1, 0.5, 1000), 2), \\\n",
    "tf.cast(np.random.binomial(1, 0.5, 1000), dtype=tf.float32)"
   ]
  },
  {
   "cell_type": "code",
   "execution_count": 3,
   "metadata": {},
   "outputs": [],
   "source": [
    "expt = setup.GroupFairness()"
   ]
  },
  {
   "cell_type": "code",
   "execution_count": 4,
   "metadata": {},
   "outputs": [],
   "source": [
    "expt.set_graph()"
   ]
  },
  {
   "cell_type": "code",
   "execution_count": 5,
   "metadata": {},
   "outputs": [
    {
     "output_type": "stream",
     "name": "stdout",
     "text": "Model: \"classifier\"\n_________________________________________________________________\nLayer (type)                 Output Shape              Param #   \n=================================================================\nhidden-layer-1 (Dense)       (None, 10)                410       \n_________________________________________________________________\nhidden-layer-2 (Dense)       (None, 20)                220       \n_________________________________________________________________\nlogit-layer (Dense)          (None, 2)                 42        \n=================================================================\nTotal params: 672\nTrainable params: 672\nNon-trainable params: 0\n_________________________________________________________________\n"
    }
   ],
   "source": [
    "expt.classifier.model.summary()"
   ]
  },
  {
   "cell_type": "code",
   "execution_count": 6,
   "metadata": {},
   "outputs": [
    {
     "output_type": "stream",
     "name": "stdout",
     "text": "Model: \"potential-label0-group0\"\n_________________________________________________________________\nLayer (type)                 Output Shape              Param #   \n=================================================================\nhidden-layer-1 (Dense)       (None, 10)                30        \n_________________________________________________________________\nlogit-layer (Dense)          (None, 1)                 11        \n=================================================================\nTotal params: 41\nTrainable params: 41\nNon-trainable params: 0\n_________________________________________________________________\n"
    }
   ],
   "source": [
    "expt.potential_y0[0].model.summary()"
   ]
  },
  {
   "cell_type": "code",
   "execution_count": null,
   "metadata": {},
   "outputs": [],
   "source": []
  }
 ],
 "metadata": {
  "language_info": {
   "codemirror_mode": {
    "name": "ipython",
    "version": 3
   },
   "file_extension": ".py",
   "mimetype": "text/x-python",
   "name": "python",
   "nbconvert_exporter": "python",
   "pygments_lexer": "ipython3",
   "version": "3.7.4-final"
  },
  "orig_nbformat": 2,
  "kernelspec": {
   "name": "python37464bit48aa32fa6dba4f1bbd692e320b15fd93",
   "display_name": "Python 3.7.4 64-bit"
  }
 },
 "nbformat": 4,
 "nbformat_minor": 2
}