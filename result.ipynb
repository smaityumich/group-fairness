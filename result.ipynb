{
 "cells": [
  {
   "cell_type": "code",
   "execution_count": 59,
   "metadata": {
    "tags": [
     "outputPrepend"
    ]
   },
   "outputs": [],
   "source": [
    "import re\n",
    "with open('summary/adult4.out','r') as f:\n",
    "    out = f.read()"
   ]
  },
  {
   "cell_type": "code",
   "execution_count": 60,
   "metadata": {},
   "outputs": [],
   "source": [
    "out = re.split('\\n\\n\\n', out)"
   ]
  },
  {
   "cell_type": "code",
   "execution_count": 61,
   "metadata": {},
   "outputs": [],
   "source": [
    "for e in out:\n",
    "    if e == '':\n",
    "        out.remove(e)"
   ]
  },
  {
   "cell_type": "code",
   "execution_count": 62,
   "metadata": {},
   "outputs": [],
   "source": [
    "out = out[1:]"
   ]
  },
  {
   "cell_type": "code",
   "execution_count": 63,
   "metadata": {},
   "outputs": [],
   "source": [
    "def find_float(string):\n",
    "    a = re.findall(r'(\\d).(\\d+)', string)\n",
    "    return float(a[0][0] + '.' + a[0][1])"
   ]
  },
  {
   "cell_type": "code",
   "execution_count": 64,
   "metadata": {},
   "outputs": [],
   "source": [
    "def summary(string):\n",
    "    a = re.split('\\n', string)\n",
    "    return_dict = eval(a[0])\n",
    "    return_dict['test-acc'] = find_float(a[1])\n",
    "    return_dict['gap-rms'] = find_float(a[2])\n",
    "    return_dict['bal-acc'] = find_float(a[3])\n",
    "    return return_dict"
   ]
  },
  {
   "cell_type": "code",
   "execution_count": 65,
   "metadata": {},
   "outputs": [
    {
     "output_type": "stream",
     "name": "stdout",
     "text": "{'epsilon': 1e-05, 'lr': 0.0001, 'wlr': 1e-06, 'w_reg': 40.0, 'test-acc': 0.8192371726036072, 'gap-rms': 0.1180412620306015, 'bal-acc': 0.07208741456270218}\n{'epsilon': 0.0001, 'lr': 0.0001, 'wlr': 0.001, 'w_reg': 50.0, 'test-acc': 0.8071863055229187, 'gap-rms': 0.07753169536590576, 'bal-acc': 0.04071720689535141}\n{'epsilon': 0.1, 'lr': 0.0001, 'wlr': 0.0001, 'w_reg': 40.0, 'test-acc': 0.8355997800827026, 'gap-rms': 0.011883496306836605, 'bal-acc': 0.011875318363308907}\n{'epsilon': 1e-05, 'lr': 0.0001, 'wlr': 0.001, 'w_reg': 60.0, 'test-acc': 0.806633472442627, 'gap-rms': 0.08105354011058807, 'bal-acc': 0.04886636137962341}\n{'epsilon': 1e-05, 'lr': 0.0001, 'wlr': 0.0001, 'w_reg': 50.0, 'test-acc': 0.8082918524742126, 'gap-rms': 0.07425633817911148, 'bal-acc': 0.04846726730465889}\n{'epsilon': 1e-05, 'lr': 0.0001, 'wlr': 0.0001, 'w_reg': 20.0, 'test-acc': 0.813930332660675, 'gap-rms': 0.07603266090154648, 'bal-acc': 0.0529058538377285}\n{'epsilon': 0.1, 'lr': 0.0001, 'wlr': 5e-06, 'w_reg': 10.0, 'test-acc': 0.8499723672866821, 'gap-rms': 0.06505662202835083, 'bal-acc': 0.043518390506505966}\n{'epsilon': 0.0001, 'lr': 0.0001, 'wlr': 0.0001, 'w_reg': 20.0, 'test-acc': 0.8142620325088501, 'gap-rms': 0.07807811349630356, 'bal-acc': 0.05342897027730942}\n{'epsilon': 0.1, 'lr': 0.0001, 'wlr': 0.001, 'w_reg': 10.0, 'test-acc': 0.8161414861679077, 'gap-rms': 0.08202207833528519, 'bal-acc': 0.05639742687344551}\n{'epsilon': 0.01, 'lr': 0.0001, 'wlr': 0.0001, 'w_reg': 20.0, 'test-acc': 0.8520729541778564, 'gap-rms': 0.05670592561364174, 'bal-acc': 0.0490427128970623}\n{'epsilon': 0.01, 'lr': 0.0001, 'wlr': 0.0001, 'w_reg': 40.0, 'test-acc': 0.8485351204872131, 'gap-rms': 0.06371095776557922, 'bal-acc': 0.03997556492686272}\n{'epsilon': 0.001, 'lr': 0.0001, 'wlr': 0.0001, 'w_reg': 40.0, 'test-acc': 0.8262023329734802, 'gap-rms': 0.07997748255729675, 'bal-acc': 0.05257532745599747}\n{'epsilon': 0.0001, 'lr': 0.0001, 'wlr': 1e-05, 'w_reg': 50.0, 'test-acc': 0.8045328855514526, 'gap-rms': 0.06537312269210815, 'bal-acc': 0.049051616340875626}\n{'epsilon': 0.01, 'lr': 0.0001, 'wlr': 1e-06, 'w_reg': 60.0, 'test-acc': 0.8527362942695618, 'gap-rms': 0.036920368671417236, 'bal-acc': 0.026013514026999474}\n{'epsilon': 1e-05, 'lr': 0.0001, 'wlr': 1e-06, 'w_reg': 60.0, 'test-acc': 0.8172470927238464, 'gap-rms': 0.12055877596139908, 'bal-acc': 0.07558039575815201}\n{'epsilon': 0.001, 'lr': 0.0001, 'wlr': 0.0001, 'w_reg': 20.0, 'test-acc': 0.8191266059875488, 'gap-rms': 0.07420238852500916, 'bal-acc': 0.052049051970243454}\n{'epsilon': 1e-05, 'lr': 0.0001, 'wlr': 1e-06, 'w_reg': 50.0, 'test-acc': 0.8184632658958435, 'gap-rms': 0.11786486953496933, 'bal-acc': 0.07367851585149765}\n{'epsilon': 1e-05, 'lr': 0.0001, 'wlr': 1e-05, 'w_reg': 50.0, 'test-acc': 0.8015478253364563, 'gap-rms': 0.06255092471837997, 'bal-acc': 0.0526510551571846}\n{'epsilon': 0.1, 'lr': 0.0001, 'wlr': 5e-06, 'w_reg': 60.0, 'test-acc': 0.8043117523193359, 'gap-rms': 0.055401820689439774, 'bal-acc': 0.004934034310281277}\n{'epsilon': 1e-05, 'lr': 0.0001, 'wlr': 1e-05, 'w_reg': 30.0, 'test-acc': 0.8085129857063293, 'gap-rms': 0.07174360007047653, 'bal-acc': 0.05525830388069153}\n{'epsilon': 0.001, 'lr': 0.0001, 'wlr': 1e-05, 'w_reg': 60.0, 'test-acc': 0.845550000667572, 'gap-rms': 0.08066220581531525, 'bal-acc': 0.030355488881468773}\n"
    },
    {
     "output_type": "error",
     "ename": "SyntaxError",
     "evalue": "invalid syntax (<string>, line 1)",
     "traceback": [
      "Traceback \u001b[0;36m(most recent call last)\u001b[0m:\n",
      "  File \u001b[1;32m\"/Users/smaity/Library/Python/3.7/lib/python/site-packages/IPython/core/interactiveshell.py\"\u001b[0m, line \u001b[1;32m3331\u001b[0m, in \u001b[1;35mrun_code\u001b[0m\n    exec(code_obj, self.user_global_ns, self.user_ns)\n",
      "  File \u001b[1;32m\"<ipython-input-65-24f483f31cb7>\"\u001b[0m, line \u001b[1;32m3\u001b[0m, in \u001b[1;35m<module>\u001b[0m\n    print(summary(string))\n",
      "\u001b[0;36m  File \u001b[0;32m\"<ipython-input-64-d6761e858a14>\"\u001b[0;36m, line \u001b[0;32m3\u001b[0;36m, in \u001b[0;35msummary\u001b[0;36m\u001b[0m\n\u001b[0;31m    return_dict = eval(a[0])\u001b[0m\n",
      "\u001b[0;36m  File \u001b[0;32m\"<string>\"\u001b[0;36m, line \u001b[0;32m1\u001b[0m\n\u001b[0;31m    'epsilon': 0.01, 'lr': 0.0001, 'wlr': 1e-05, 'w_reg': 30.0}\u001b[0m\n\u001b[0m             ^\u001b[0m\n\u001b[0;31mSyntaxError\u001b[0m\u001b[0;31m:\u001b[0m invalid syntax\n"
     ]
    }
   ],
   "source": [
    "summary_out = []\n",
    "for string in out:\n",
    "    print(summary(string))"
   ]
  },
  {
   "cell_type": "code",
   "execution_count": 39,
   "metadata": {},
   "outputs": [
    {
     "output_type": "execute_result",
     "data": {
      "text/plain": "{'epsilon': 1e-05,\n 'lr': 0.0001,\n 'wlr': 1e-06,\n 'w_reg': 40.0,\n 'test-acc': 0.8192371726036072,\n 'gap-rms': 0.1180412620306015,\n 'bal-acc': 0.07208741456270218}"
     },
     "metadata": {},
     "execution_count": 39
    }
   ],
   "source": [
    "summary(e)"
   ]
  },
  {
   "cell_type": "code",
   "execution_count": 41,
   "metadata": {},
   "outputs": [
    {
     "output_type": "execute_result",
     "data": {
      "text/plain": "[('0', '8192371726036072')]"
     },
     "metadata": {},
     "execution_count": 41
    }
   ],
   "source": [
    "re.findall(r'(\\d).(\\d+)', a[1])"
   ]
  },
  {
   "cell_type": "code",
   "execution_count": 46,
   "metadata": {},
   "outputs": [],
   "source": []
  },
  {
   "cell_type": "code",
   "execution_count": 47,
   "metadata": {},
   "outputs": [
    {
     "output_type": "execute_result",
     "data": {
      "text/plain": "0.8192371726036072"
     },
     "metadata": {},
     "execution_count": 47
    }
   ],
   "source": [
    "find_float(a[1])"
   ]
  },
  {
   "cell_type": "code",
   "execution_count": null,
   "metadata": {},
   "outputs": [],
   "source": []
  }
 ],
 "metadata": {
  "language_info": {
   "codemirror_mode": {
    "name": "ipython",
    "version": 3
   },
   "file_extension": ".py",
   "mimetype": "text/x-python",
   "name": "python",
   "nbconvert_exporter": "python",
   "pygments_lexer": "ipython3",
   "version": "3.7.4-final"
  },
  "orig_nbformat": 2,
  "kernelspec": {
   "name": "python37464bit48aa32fa6dba4f1bbd692e320b15fd93",
   "display_name": "Python 3.7.4 64-bit"
  }
 },
 "nbformat": 4,
 "nbformat_minor": 2
}