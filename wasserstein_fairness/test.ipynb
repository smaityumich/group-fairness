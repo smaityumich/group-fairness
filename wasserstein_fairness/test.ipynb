{
 "cells": [
  {
   "cell_type": "code",
   "execution_count": 14,
   "metadata": {},
   "outputs": [],
   "source": [
    "import numpy as np\n",
    "import pandas as pd\n",
    "from test import *\n",
    "import wasserstein_fairness.combined_costs as cc"
   ]
  },
  {
   "cell_type": "code",
   "execution_count": 15,
   "metadata": {},
   "outputs": [],
   "source": [
    "sample_size = 1000\n",
    "x_train, y_train = x_train[:sample_size], y_train[:sample_size]\n",
    "data_train = pd.DataFrame(x_train), pd.DataFrame(y_train)\n",
    "theta = np.random.random((40,))\n",
    "group_train = group_train[:sample_size]"
   ]
  },
  {
   "cell_type": "code",
   "execution_count": 16,
   "metadata": {},
   "outputs": [
    {
     "output_type": "execute_result",
     "data": {
      "text/plain": "[[0, 0], [0, 1], [1, 0], [1, 1]]"
     },
     "metadata": {},
     "execution_count": 16
    }
   ],
   "source": [
    "import itertools\n",
    "groups = list(itertools.product([0,1], [0,1]))\n",
    "groups = [list(x) for x in groups]\n",
    "groups_data = [x_train[np.all(group_train == g, axis = 1)] for g in groups]\n",
    "groups"
   ]
  },
  {
   "cell_type": "code",
   "execution_count": 4,
   "metadata": {},
   "outputs": [
    {
     "output_type": "stream",
     "name": "stdout",
     "text": "[[-0.08780328 -0.08751966 -0.08781799 ... -0.08885901 -0.08781439\n  -0.08947271]\n [-0.13529991 -0.13542561 -0.13529339 ... -0.13483203 -0.13529499\n  -0.13456006]\n [-0.09769798 -0.09855674 -0.09765344 ... -0.09450143 -0.09766433\n  -0.09264328]\n ...\n [ 0.08887236  0.09070898  0.08877711 ...  0.08203593  0.0888004\n   0.07806192]\n [ 0.03168607  0.03267935  0.03163456 ...  0.02798882  0.03164716\n   0.02583961]\n [ 0.71747308  0.7362141   0.71650113 ...  0.64771357  0.71673882\n   0.60716241]]\n[ 1.79527035e-01  6.44763452e-02  1.80602703e-02  2.72570514e-02\n  1.57250146e-01  6.04058644e-04 -2.53875686e-03 -1.09516087e-01\n -4.27130917e-04 -3.32381656e-03 -6.91937834e-04  0.00000000e+00\n -3.87702672e-03  4.51780745e-06 -5.48469564e-03 -3.93557879e-04\n -1.02299169e-01 -4.74188189e-03  8.98142002e-04 -2.52689360e-02\n  0.00000000e+00 -2.80259569e-03 -3.46737614e-03 -6.48278055e-04\n -1.66226784e-02 -2.78239038e-03 -4.34495814e-02 -1.11313298e-03\n  1.40868560e-03 -2.54029370e-03 -1.71233815e-02 -1.49543796e-03\n  1.17256201e-05  6.59511010e-03 -2.55131709e-02 -3.13559762e-03\n -8.56480729e-02  1.02310988e-03 -9.21504952e-03 -1.15893671e-01]\n"
    }
   ],
   "source": [
    "a = cc.gradient_smoothed_logistic(data_train, groups_data, theta= theta, alpha = 0.5, beta = 1e-2, lambda_=1e-1)"
   ]
  },
  {
   "cell_type": "code",
   "execution_count": 6,
   "metadata": {},
   "outputs": [
    {
     "output_type": "execute_result",
     "data": {
      "text/plain": "((40, 1000), (40,))"
     },
     "metadata": {},
     "execution_count": 6
    }
   ],
   "source": [
    "a[0].shape, a[1].shape"
   ]
  },
  {
   "cell_type": "code",
   "execution_count": 7,
   "metadata": {},
   "outputs": [
    {
     "output_type": "execute_result",
     "data": {
      "text/plain": "39"
     },
     "metadata": {},
     "execution_count": 7
    }
   ],
   "source": [
    "x_train.shape[1]"
   ]
  },
  {
   "cell_type": "code",
   "execution_count": 3,
   "metadata": {},
   "outputs": [
    {
     "output_type": "execute_result",
     "data": {
      "text/plain": "array([[ 1.02285308, -0.04535909, -0.14741329, ...,  0.        ,\n         0.        ,  0.        ],\n       [-0.49331214, -0.82620885, -0.14741329, ...,  0.        ,\n         0.        ,  1.        ],\n       [ 1.40189439, -3.16875812, -0.14741329, ...,  0.        ,\n         0.        ,  0.        ],\n       ...,\n       [ 0.26477047,  1.51634043,  1.72435028, ...,  0.        ,\n         0.        ,  0.        ],\n       [-1.25139475, -0.04535909, -0.14741329, ...,  1.        ,\n         0.        ,  0.        ],\n       [ 0.34057873,  1.12591555, -0.14741329, ...,  0.        ,\n         0.        ,  1.        ]])"
     },
     "metadata": {},
     "execution_count": 3
    }
   ],
   "source": [
    "x_train[np.all(group_train == [0, 1], axis = 1)]"
   ]
  },
  {
   "cell_type": "code",
   "execution_count": 8,
   "metadata": {},
   "outputs": [
    {
     "output_type": "execute_result",
     "data": {
      "text/plain": "array([[ True,  True],\n       [ True, False],\n       [ True, False],\n       ...,\n       [ True, False],\n       [False,  True],\n       [False, False]])"
     },
     "metadata": {},
     "execution_count": 8
    }
   ],
   "source": [
    "group_train == [0,1]"
   ]
  },
  {
   "cell_type": "code",
   "execution_count": 2,
   "metadata": {},
   "outputs": [
    {
     "output_type": "stream",
     "name": "stdout",
     "text": "ERROR shelving: __builtin__\nERROR shelving: __builtins__\nERROR shelving: cc\n"
    },
    {
     "output_type": "error",
     "ename": "PicklingError",
     "evalue": "Can't pickle <built-in function input>: it's not the same object as builtins.input",
     "traceback": [
      "\u001b[0;31m---------------------------------------------------------------------------\u001b[0m",
      "\u001b[0;31mPicklingError\u001b[0m                             Traceback (most recent call last)",
      "\u001b[0;32m<ipython-input-2-7aee72317baa>\u001b[0m in \u001b[0;36m<module>\u001b[0;34m\u001b[0m\n\u001b[1;32m      5\u001b[0m \u001b[0;32mfor\u001b[0m \u001b[0mkey\u001b[0m \u001b[0;32min\u001b[0m \u001b[0mdir\u001b[0m\u001b[0;34m(\u001b[0m\u001b[0;34m)\u001b[0m\u001b[0;34m:\u001b[0m\u001b[0;34m\u001b[0m\u001b[0;34m\u001b[0m\u001b[0m\n\u001b[1;32m      6\u001b[0m     \u001b[0;32mtry\u001b[0m\u001b[0;34m:\u001b[0m\u001b[0;34m\u001b[0m\u001b[0;34m\u001b[0m\u001b[0m\n\u001b[0;32m----> 7\u001b[0;31m         \u001b[0mmy_shelf\u001b[0m\u001b[0;34m[\u001b[0m\u001b[0mkey\u001b[0m\u001b[0;34m]\u001b[0m \u001b[0;34m=\u001b[0m \u001b[0mglobals\u001b[0m\u001b[0;34m(\u001b[0m\u001b[0;34m)\u001b[0m\u001b[0;34m[\u001b[0m\u001b[0mkey\u001b[0m\u001b[0;34m]\u001b[0m\u001b[0;34m\u001b[0m\u001b[0;34m\u001b[0m\u001b[0m\n\u001b[0m\u001b[1;32m      8\u001b[0m     \u001b[0;32mexcept\u001b[0m \u001b[0mTypeError\u001b[0m\u001b[0;34m:\u001b[0m\u001b[0;34m\u001b[0m\u001b[0;34m\u001b[0m\u001b[0m\n\u001b[1;32m      9\u001b[0m         \u001b[0;31m#\u001b[0m\u001b[0;34m\u001b[0m\u001b[0;34m\u001b[0m\u001b[0;34m\u001b[0m\u001b[0m\n",
      "\u001b[0;32m/usr/local/munki/Python.framework/Versions/3.7/lib/python3.7/shelve.py\u001b[0m in \u001b[0;36m__setitem__\u001b[0;34m(self, key, value)\u001b[0m\n\u001b[1;32m    122\u001b[0m         \u001b[0mf\u001b[0m \u001b[0;34m=\u001b[0m \u001b[0mBytesIO\u001b[0m\u001b[0;34m(\u001b[0m\u001b[0;34m)\u001b[0m\u001b[0;34m\u001b[0m\u001b[0;34m\u001b[0m\u001b[0m\n\u001b[1;32m    123\u001b[0m         \u001b[0mp\u001b[0m \u001b[0;34m=\u001b[0m \u001b[0mPickler\u001b[0m\u001b[0;34m(\u001b[0m\u001b[0mf\u001b[0m\u001b[0;34m,\u001b[0m \u001b[0mself\u001b[0m\u001b[0;34m.\u001b[0m\u001b[0m_protocol\u001b[0m\u001b[0;34m)\u001b[0m\u001b[0;34m\u001b[0m\u001b[0;34m\u001b[0m\u001b[0m\n\u001b[0;32m--> 124\u001b[0;31m         \u001b[0mp\u001b[0m\u001b[0;34m.\u001b[0m\u001b[0mdump\u001b[0m\u001b[0;34m(\u001b[0m\u001b[0mvalue\u001b[0m\u001b[0;34m)\u001b[0m\u001b[0;34m\u001b[0m\u001b[0;34m\u001b[0m\u001b[0m\n\u001b[0m\u001b[1;32m    125\u001b[0m         \u001b[0mself\u001b[0m\u001b[0;34m.\u001b[0m\u001b[0mdict\u001b[0m\u001b[0;34m[\u001b[0m\u001b[0mkey\u001b[0m\u001b[0;34m.\u001b[0m\u001b[0mencode\u001b[0m\u001b[0;34m(\u001b[0m\u001b[0mself\u001b[0m\u001b[0;34m.\u001b[0m\u001b[0mkeyencoding\u001b[0m\u001b[0;34m)\u001b[0m\u001b[0;34m]\u001b[0m \u001b[0;34m=\u001b[0m \u001b[0mf\u001b[0m\u001b[0;34m.\u001b[0m\u001b[0mgetvalue\u001b[0m\u001b[0;34m(\u001b[0m\u001b[0;34m)\u001b[0m\u001b[0;34m\u001b[0m\u001b[0;34m\u001b[0m\u001b[0m\n\u001b[1;32m    126\u001b[0m \u001b[0;34m\u001b[0m\u001b[0m\n",
      "\u001b[0;31mPicklingError\u001b[0m: Can't pickle <built-in function input>: it's not the same object as builtins.input"
     ]
    }
   ],
   "source": [
    "import shelve\n",
    "filename='shelve.out'\n",
    "my_shelf = shelve.open(filename,'n') # 'n' for new\n",
    "\n",
    "for key in dir():\n",
    "    try:\n",
    "        my_shelf[key] = globals()[key]\n",
    "    except TypeError:\n",
    "        #\n",
    "        # __builtins__, my_shelf, and imported modules can not be shelved.\n",
    "        #\n",
    "        print('ERROR shelving: {0}'.format(key))\n",
    "my_shelf.close()"
   ]
  },
  {
   "cell_type": "code",
   "execution_count": 5,
   "metadata": {},
   "outputs": [
    {
     "output_type": "execute_result",
     "data": {
      "text/plain": "dict_keys(['__name__', '__doc__', '__package__', '__loader__', '__spec__', '__builtin__', '__builtins__', '_ih', '_oh', '_dh', 'In', 'Out', 'get_ipython', 'exit', 'quit', '_', '__', '___', 'os', 'sys', '_i', '_ii', '_iii', '_i1', 'np', 'pd', 'tf', 'preprocess_adult_data', 'seed', 'dataset_orig_train', 'dataset_orig_test', 'all_train', 'all_test', 'y_train', 'y_test', 'x_train', 'x_test', 'group_train', 'group_test', 'cc', '_rwho_ls', '_VSCODE_targetVariable', '_VSCODE_evalResult', '_i2', 'shelve', 'filename', 'my_shelf', 'key', '_i3', '_3', '_i4', '_4', '_i5'])"
     },
     "metadata": {},
     "execution_count": 5
    }
   ],
   "source": [
    "globals().keys()\n"
   ]
  },
  {
   "cell_type": "code",
   "execution_count": 6,
   "metadata": {},
   "outputs": [
    {
     "output_type": "execute_result",
     "data": {
      "text/plain": "KeysView(<shelve.DbfilenameShelf object at 0x14630d450>)"
     },
     "metadata": {},
     "execution_count": 6
    }
   ],
   "source": []
  },
  {
   "cell_type": "code",
   "execution_count": 7,
   "metadata": {},
   "outputs": [
    {
     "output_type": "execute_result",
     "data": {
      "text/plain": "(3, 2)"
     },
     "metadata": {},
     "execution_count": 7
    }
   ],
   "source": [
    "b = np.array([[1, 2], [3, 4], [5, 6]])\n",
    "b.shape"
   ]
  },
  {
   "cell_type": "code",
   "execution_count": 9,
   "metadata": {},
   "outputs": [
    {
     "output_type": "execute_result",
     "data": {
      "text/plain": "array([1.5, 3.5, 5.5])"
     },
     "metadata": {},
     "execution_count": 9
    }
   ],
   "source": [
    "np.mean(b, axis = 1)"
   ]
  },
  {
   "cell_type": "code",
   "execution_count": 12,
   "metadata": {},
   "outputs": [],
   "source": [
    "c = np.clip(b, 1, 2)"
   ]
  },
  {
   "cell_type": "code",
   "execution_count": 13,
   "metadata": {},
   "outputs": [
    {
     "output_type": "execute_result",
     "data": {
      "text/plain": "array([[1, 2],\n       [2, 2],\n       [2, 2]])"
     },
     "metadata": {},
     "execution_count": 13
    }
   ],
   "source": [
    "c"
   ]
  },
  {
   "cell_type": "code",
   "execution_count": 1,
   "metadata": {},
   "outputs": [],
   "source": [
    "from test import *"
   ]
  },
  {
   "cell_type": "code",
   "execution_count": 2,
   "metadata": {},
   "outputs": [
    {
     "output_type": "stream",
     "name": "stdout",
     "text": "Test accuracy for step 0: 0.2569375345494748\n\nTest GAP RMS for gender and step 0: 0.007125788586082452\n\nTest GAP RMS for race and step 0: 0.008213065307743793\n\nTest balanced accuracy for step 0: 0.509129418638621\n\n\nTest accuracy for step 250: 0.2677722498618021\n\nTest GAP RMS for gender and step 250: 0.015337586968614786\n\nTest GAP RMS for race and step 250: 0.013123608025617926\n\nTest balanced accuracy for step 250: 0.5162868828513001\n\n\nTest accuracy for step 500: 0.2809286898839138\n\nTest GAP RMS for gender and step 500: 0.029044393527943493\n\nTest GAP RMS for race and step 500: 0.012867315948242891\n\nTest balanced accuracy for step 500: 0.5248237486643399\n\n\nTest accuracy for step 750: 0.30005527915975677\n\nTest GAP RMS for gender and step 750: 0.04045016650289563\n\nTest GAP RMS for race and step 750: 0.016363207688183085\n\nTest balanced accuracy for step 750: 0.5373045233292641\n\n\nTest accuracy for step 1000: 0.3263681592039801\n\nTest GAP RMS for gender and step 1000: 0.05316580765304288\n\nTest GAP RMS for race and step 1000: 0.018221704062471568\n\nTest balanced accuracy for step 1000: 0.5540695734934891\n\n\nTest accuracy for step 1250: 0.35069098949695965\n\nTest GAP RMS for gender and step 1250: 0.06000945435516385\n\nTest GAP RMS for race and step 1250: 0.022287056016940844\n\nTest balanced accuracy for step 1250: 0.5696743281046799\n\n\nTest accuracy for step 1500: 0.37910447761194027\n\nTest GAP RMS for gender and step 1500: 0.0723357093188333\n\nTest GAP RMS for race and step 1500: 0.026942979152171725\n\nTest balanced accuracy for step 1500: 0.5870553462473381\n\n\nTest accuracy for step 1750: 0.4051962410171365\n\nTest GAP RMS for gender and step 1750: 0.08349932726057126\n\nTest GAP RMS for race and step 1750: 0.029360198439807077\n\nTest balanced accuracy for step 1750: 0.6027482813277807\n\n\nTest accuracy for step 2000: 0.43449419568822556\n\nTest GAP RMS for gender and step 2000: 0.09698807161244204\n\nTest GAP RMS for race and step 2000: 0.02845015830472551\n\nTest balanced accuracy for step 2000: 0.6199418786086737\n\n\nTest accuracy for step 2250: 0.46489773355444997\n\nTest GAP RMS for gender and step 2250: 0.10718551840354615\n\nTest GAP RMS for race and step 2250: 0.01823924048674429\n\nTest balanced accuracy for step 2250: 0.6384831923043659\n\n\nTest accuracy for step 2500: 0.4930901050304035\n\nTest GAP RMS for gender and step 2500: 0.111321684556789\n\nTest GAP RMS for race and step 2500: 0.02156684016558892\n\nTest balanced accuracy for step 2500: 0.6541747324395322\n\n\nTest accuracy for step 2750: 0.5174129353233831\n\nTest GAP RMS for gender and step 2750: 0.10965236026047014\n\nTest GAP RMS for race and step 2750: 0.018271557238026145\n\nTest balanced accuracy for step 2750: 0.6673100353558844\n\n\nTest accuracy for step 3000: 0.541404090657822\n\nTest GAP RMS for gender and step 3000: 0.1076747561835573\n\nTest GAP RMS for race and step 3000: 0.012632670488125606\n\nTest balanced accuracy for step 3000: 0.679145847108418\n\n\nTest accuracy for step 3250: 0.5639579878385849\n\nTest GAP RMS for gender and step 3250: 0.11048710070373878\n\nTest GAP RMS for race and step 3250: 0.012180031824044363\n\nTest balanced accuracy for step 3250: 0.6898778585916074\n\n\nTest accuracy for step 3500: 0.5822001105583196\n\nTest GAP RMS for gender and step 3500: 0.11603317892999714\n\nTest GAP RMS for race and step 3500: 0.013570278253762114\n\nTest balanced accuracy for step 3500: 0.698070172921402\n\n\nTest accuracy for step 3750: 0.5984521835268104\n\nTest GAP RMS for gender and step 3750: 0.11348636649938808\n\nTest GAP RMS for race and step 3750: 0.006967304909786534\n\nTest balanced accuracy for step 3750: 0.7043304880435255\n\n\nTest accuracy for step 4000: 0.6118297401879491\n\nTest GAP RMS for gender and step 4000: 0.1143697001175193\n\nTest GAP RMS for race and step 4000: 0.0113974859845031\n\nTest balanced accuracy for step 4000: 0.7100809506671626\n\n\nTest accuracy for step 4250: 0.6295190713101161\n\nTest GAP RMS for gender and step 4250: 0.10804995464580176\n\nTest GAP RMS for race and step 4250: 0.014175409893035854\n\nTest balanced accuracy for step 4250: 0.7162103402112108\n\n\nTest accuracy for step 4500: 0.6438916528468768\n\nTest GAP RMS for gender and step 4500: 0.1119263250739889\n\nTest GAP RMS for race and step 4500: 0.015787689277623283\n\nTest balanced accuracy for step 4500: 0.7209203729366269\n\n\nTest accuracy for step 4750: 0.6541735765616362\n\nTest GAP RMS for gender and step 4750: 0.1078183607939832\n\nTest GAP RMS for race and step 4750: 0.016124537771710468\n\nTest balanced accuracy for step 4750: 0.7227737570140838\n\n\nTest accuracy for step 5000: 0.6637921503593145\n\nTest GAP RMS for gender and step 5000: 0.11087445782821516\n\nTest GAP RMS for race and step 5000: 0.01267402279563908\n\nTest balanced accuracy for step 5000: 0.7241889289968868\n\n\nTest accuracy for step 5250: 0.6709784411276949\n\nTest GAP RMS for gender and step 5250: 0.11088502081626324\n\nTest GAP RMS for race and step 5250: 0.02073367743625463\n\nTest balanced accuracy for step 5250: 0.7249233676848571\n\n\nTest accuracy for step 5500: 0.6784964068546158\n\nTest GAP RMS for gender and step 5500: 0.11583191227667587\n\nTest GAP RMS for race and step 5500: 0.023688331581276124\n\nTest balanced accuracy for step 5500: 0.7243335051108801\n\n\nTest accuracy for step 5750: 0.6841348811498065\n\nTest GAP RMS for gender and step 5750: 0.12217152321970386\n\nTest GAP RMS for race and step 5750: 0.027474489950349838\n\nTest balanced accuracy for step 5750: 0.7249714932968894\n\n\nTest accuracy for step 6000: 0.6897733554449972\n\nTest GAP RMS for gender and step 6000: 0.11870581102244321\n\nTest GAP RMS for race and step 6000: 0.0396504450079272\n\nTest balanced accuracy for step 6000: 0.7246834370973341\n\n\nTest accuracy for step 6250: 0.6937534549474847\n\nTest GAP RMS for gender and step 6250: 0.11877579273383822\n\nTest GAP RMS for race and step 6250: 0.04441016284707737\n\nTest balanced accuracy for step 6250: 0.7240715543157813\n\n\nTest accuracy for step 6500: 0.6987285793255943\n\nTest GAP RMS for gender and step 6500: 0.1174200552323738\n\nTest GAP RMS for race and step 6500: 0.05012623560357244\n\nTest balanced accuracy for step 6500: 0.7253517155236286\n\n\nTest accuracy for step 6750: 0.7029297954671089\n\nTest GAP RMS for gender and step 6750: 0.11206291333768703\n\nTest GAP RMS for race and step 6750: 0.05318792054637537\n\nTest balanced accuracy for step 6750: 0.7255032663640034\n\n\nTest accuracy for step 7000: 0.7071310116086236\n\nTest GAP RMS for gender and step 7000: 0.113060826454639\n\nTest GAP RMS for race and step 7000: 0.05108053063788781\n\nTest balanced accuracy for step 7000: 0.7255004764734508\n\n\nTest accuracy for step 7250: 0.7125483692647872\n\nTest GAP RMS for gender and step 7250: 0.11076376736238698\n\nTest GAP RMS for race and step 7250: 0.04902509969360331\n\nTest balanced accuracy for step 7250: 0.7281531641942258\n\n\nTest accuracy for step 7500: 0.7170812603648424\n\nTest GAP RMS for gender and step 7500: 0.11216189732557955\n\nTest GAP RMS for race and step 7500: 0.04889263295851554\n\nTest balanced accuracy for step 7500: 0.7297585469293468\n\n\nTest accuracy for step 7750: 0.7190713101160863\n\nTest GAP RMS for gender and step 7750: 0.10637584199268438\n\nTest GAP RMS for race and step 7750: 0.052826547083601294\n\nTest balanced accuracy for step 7750: 0.7276776871329051\n\n\nTest accuracy for step 8000: 0.7220563847429519\n\nTest GAP RMS for gender and step 8000: 0.10994630961418701\n\nTest GAP RMS for race and step 8000: 0.060005374985180375\n\nTest balanced accuracy for step 8000: 0.7279518935186458\n\n\nTest accuracy for step 8250: 0.7245992260917634\n\nTest GAP RMS for gender and step 8250: 0.11121359993454659\n\nTest GAP RMS for race and step 8250: 0.06594324401280922\n\nTest balanced accuracy for step 8250: 0.7271622548533134\n\n\nTest accuracy for step 8500: 0.7281370923161968\n\nTest GAP RMS for gender and step 8500: 0.11205103324559022\n\nTest GAP RMS for race and step 8500: 0.064015770984815\n\nTest balanced accuracy for step 8500: 0.7284190009083087\n\n\nTest accuracy for step 8750: 0.731011608623549\n\nTest GAP RMS for gender and step 8750: 0.10981705108448543\n\nTest GAP RMS for race and step 8750: 0.06137082449535702\n\nTest balanced accuracy for step 8750: 0.7289288534067951\n\n\nTest accuracy for step 9000: 0.7333333333333333\n\nTest GAP RMS for gender and step 9000: 0.11292493692485181\n\nTest GAP RMS for race and step 9000: 0.06317660304362334\n\nTest balanced accuracy for step 9000: 0.7293822106215916\n\n\nTest accuracy for step 9250: 0.736097291321172\n\nTest GAP RMS for gender and step 9250: 0.11359069233497379\n\nTest GAP RMS for race and step 9250: 0.06143061558885528\n\nTest balanced accuracy for step 9250: 0.7299733685018965\n\n\nTest accuracy for step 9500: 0.7378662244333886\n\nTest GAP RMS for gender and step 9500: 0.11296894860087117\n\nTest GAP RMS for race and step 9500: 0.05912294017145391\n\nTest balanced accuracy for step 9500: 0.7299072082402207\n\n\nTest accuracy for step 9750: 0.7393034825870647\n\nTest GAP RMS for gender and step 9750: 0.11511525050374954\n\nTest GAP RMS for race and step 9750: 0.05982225977007787\n\nTest balanced accuracy for step 9750: 0.7297762826621454\n\n\n"
    }
   ],
   "source": [
    "e = unit_expt()\n",
    "e.fit(data_train, data_test)"
   ]
  },
  {
   "cell_type": "code",
   "execution_count": null,
   "metadata": {},
   "outputs": [],
   "source": []
  }
 ],
 "metadata": {
  "language_info": {
   "codemirror_mode": {
    "name": "ipython",
    "version": 3
   },
   "file_extension": ".py",
   "mimetype": "text/x-python",
   "name": "python",
   "nbconvert_exporter": "python",
   "pygments_lexer": "ipython3",
   "version": "3.7.4-final"
  },
  "orig_nbformat": 2,
  "kernelspec": {
   "name": "python37464bit48aa32fa6dba4f1bbd692e320b15fd93",
   "display_name": "Python 3.7.4 64-bit"
  }
 },
 "nbformat": 4,
 "nbformat_minor": 2
}