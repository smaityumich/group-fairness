{
 "cells": [
  {
   "cell_type": "code",
   "execution_count": 1,
   "metadata": {
    "tags": [
     "outputPrepend"
    ]
   },
   "outputs": [],
   "source": [
    "import re\n",
    "from load_data import *\n",
    "import metrics\n",
    "with open('summary/adult-wfm3.out','r') as f:\n",
    "    out = f.read()"
   ]
  },
  {
   "cell_type": "code",
   "execution_count": 2,
   "metadata": {},
   "outputs": [],
   "source": [
    "out = re.split('\\n', out)"
   ]
  },
  {
   "cell_type": "code",
   "execution_count": 3,
   "metadata": {},
   "outputs": [],
   "source": [
    "out = out[:-1]"
   ]
  },
  {
   "cell_type": "code",
   "execution_count": 4,
   "metadata": {},
   "outputs": [],
   "source": [
    "result = []\n",
    "for e in out:\n",
    "    result.append(eval(e))\n",
    "for d in result:\n",
    "    dd_half, sdd, spdd = metrics.metrics(x_test, grouped_data, d['alpha'], d['beta'], d['lr'], 100)\n",
    "    d['dd-half'] = dd_half\n",
    "    d['sdd'] = sdd\n",
    "    d['spdd'] = spdd"
   ]
  },
  {
   "cell_type": "code",
   "execution_count": 5,
   "metadata": {},
   "outputs": [],
   "source": [
    "import pandas as pd\n",
    "pd.set_option('display.max_rows', None)\n",
    "res = pd.DataFrame(result)\n",
    "result = res.loc[res['gap-rms-gender'] != 0]\n"
   ]
  },
  {
   "cell_type": "code",
   "execution_count": 6,
   "metadata": {},
   "outputs": [
    {
     "output_type": "execute_result",
     "data": {
      "text/plain": "    alpha  beta      lr  lambda  accuracy  balanced accuracy  gap-rms-gender  \\\n5     0.5  1.00  0.1000     0.1  0.802322           0.777271        0.173787   \n68    0.5  0.30  0.1000     0.1  0.792703           0.773541        0.170329   \n25    0.5  0.10  0.1000     0.1  0.791045           0.772754        0.173371   \n36    0.5  0.01  0.1000     0.1  0.790492           0.772698        0.170691   \n44    0.5  0.03  0.1000     0.1  0.790381           0.772316        0.174011   \n56    0.5  0.01  0.0100     0.1  0.787617           0.767866        0.158187   \n28    0.5  0.10  0.0100     0.1  0.790934           0.767588        0.158551   \n43    0.5  0.03  0.0100     0.1  0.787728           0.767476        0.157159   \n3     0.5  0.30  0.0100     0.1  0.802432           0.767004        0.154353   \n4     0.5  0.01  0.0010     0.1  0.741625           0.730075        0.114316   \n34    0.5  0.03  0.0010     0.1  0.741625           0.728378        0.112318   \n45    0.5  0.10  0.0010     0.1  0.742067           0.724194        0.106816   \n0     0.5  0.30  0.0010     0.1  0.747816           0.714718        0.094466   \n30    0.5  1.00  0.0010     0.1  0.701493           0.648927        0.019764   \n50    0.5  1.00  0.0100     0.1  0.804422           0.607650        0.030477   \n61    0.5  0.01  0.0001     0.1  0.325484           0.553485        0.052784   \n8     0.5  0.03  0.0001     0.1  0.323715           0.552317        0.051591   \n11    0.5  0.10  0.0001     0.1  0.318961           0.549331        0.050037   \n32    0.5  0.30  0.0001     0.1  0.306357           0.541313        0.042105   \n38    0.5  1.00  0.0001     0.1  0.278054           0.522925        0.024761   \n62    0.5  3.00  0.0010     0.1  0.279160           0.514086        0.107918   \n33    0.0  0.01  0.0001     0.1  0.256495           0.508837        0.006498   \n40    0.0  0.03  0.0001     0.1  0.255500           0.508180        0.006280   \n29    0.0  0.10  0.0001     0.1  0.251741           0.505697        0.003768   \n71    0.0  0.01  0.0010     0.1  0.251741           0.505697        0.003768   \n39    0.0  0.03  0.0010     0.1  0.246656           0.502337        0.001546   \n15    0.0  0.30  0.0001     0.1  0.246656           0.502337        0.001546   \n2     0.5  3.00  0.0001     0.1  0.243560           0.500292        0.000241   \n\n    gap-rms-race   dd-half       sdd      spdd  \n5       0.073449  0.494381  0.494942  2.169507  \n68      0.078534  0.498570  0.499184  2.169564  \n25      0.077617  0.501853  0.502053  2.188740  \n36      0.075994  0.503024  0.503293  2.193715  \n44      0.078126  0.504294  0.501632  2.184211  \n56      0.076297  0.476851  0.475958  2.071437  \n28      0.073804  0.470713  0.467097  2.023652  \n43      0.075691  0.475890  0.474145  2.056103  \n3       0.060042  0.445618  0.450511  1.964090  \n4       0.060881  0.345290  0.276729  1.150292  \n34      0.056849  0.337922  0.277100  1.136086  \n45      0.050964  0.321961  0.288613  1.192074  \n0       0.043594  0.281503  0.243156  1.018935  \n30      0.041061  0.105431  0.065533  0.309061  \n50      0.005677  0.109565  0.221793  0.991663  \n61      0.018788  0.115509  0.145763  0.676105  \n8       0.017673  0.111625  0.137705  0.675000  \n11      0.017027  0.111797  0.123347  0.601976  \n32      0.019423  0.104288  0.136715  0.672988  \n38      0.012832  0.066501  0.063312  0.321212  \n62      0.003154  0.119066  0.035161  0.165599  \n33      0.008510  0.029784  0.078973  0.403676  \n40      0.007409  0.027049  0.104364  0.509850  \n29      0.004823  0.016940  0.071117  0.341331  \n71      0.004823  0.016940  0.086492  0.411952  \n39      0.003914  0.010797  0.034725  0.171192  \n15      0.003914  0.010797  0.051905  0.255378  \n2       0.000489  0.001023  0.057132  0.296784  ",
      "text/html": "<div>\n<style scoped>\n    .dataframe tbody tr th:only-of-type {\n        vertical-align: middle;\n    }\n\n    .dataframe tbody tr th {\n        vertical-align: top;\n    }\n\n    .dataframe thead th {\n        text-align: right;\n    }\n</style>\n<table border=\"1\" class=\"dataframe\">\n  <thead>\n    <tr style=\"text-align: right;\">\n      <th></th>\n      <th>alpha</th>\n      <th>beta</th>\n      <th>lr</th>\n      <th>lambda</th>\n      <th>accuracy</th>\n      <th>balanced accuracy</th>\n      <th>gap-rms-gender</th>\n      <th>gap-rms-race</th>\n      <th>dd-half</th>\n      <th>sdd</th>\n      <th>spdd</th>\n    </tr>\n  </thead>\n  <tbody>\n    <tr>\n      <th>5</th>\n      <td>0.5</td>\n      <td>1.00</td>\n      <td>0.1000</td>\n      <td>0.1</td>\n      <td>0.802322</td>\n      <td>0.777271</td>\n      <td>0.173787</td>\n      <td>0.073449</td>\n      <td>0.494381</td>\n      <td>0.494942</td>\n      <td>2.169507</td>\n    </tr>\n    <tr>\n      <th>68</th>\n      <td>0.5</td>\n      <td>0.30</td>\n      <td>0.1000</td>\n      <td>0.1</td>\n      <td>0.792703</td>\n      <td>0.773541</td>\n      <td>0.170329</td>\n      <td>0.078534</td>\n      <td>0.498570</td>\n      <td>0.499184</td>\n      <td>2.169564</td>\n    </tr>\n    <tr>\n      <th>25</th>\n      <td>0.5</td>\n      <td>0.10</td>\n      <td>0.1000</td>\n      <td>0.1</td>\n      <td>0.791045</td>\n      <td>0.772754</td>\n      <td>0.173371</td>\n      <td>0.077617</td>\n      <td>0.501853</td>\n      <td>0.502053</td>\n      <td>2.188740</td>\n    </tr>\n    <tr>\n      <th>36</th>\n      <td>0.5</td>\n      <td>0.01</td>\n      <td>0.1000</td>\n      <td>0.1</td>\n      <td>0.790492</td>\n      <td>0.772698</td>\n      <td>0.170691</td>\n      <td>0.075994</td>\n      <td>0.503024</td>\n      <td>0.503293</td>\n      <td>2.193715</td>\n    </tr>\n    <tr>\n      <th>44</th>\n      <td>0.5</td>\n      <td>0.03</td>\n      <td>0.1000</td>\n      <td>0.1</td>\n      <td>0.790381</td>\n      <td>0.772316</td>\n      <td>0.174011</td>\n      <td>0.078126</td>\n      <td>0.504294</td>\n      <td>0.501632</td>\n      <td>2.184211</td>\n    </tr>\n    <tr>\n      <th>56</th>\n      <td>0.5</td>\n      <td>0.01</td>\n      <td>0.0100</td>\n      <td>0.1</td>\n      <td>0.787617</td>\n      <td>0.767866</td>\n      <td>0.158187</td>\n      <td>0.076297</td>\n      <td>0.476851</td>\n      <td>0.475958</td>\n      <td>2.071437</td>\n    </tr>\n    <tr>\n      <th>28</th>\n      <td>0.5</td>\n      <td>0.10</td>\n      <td>0.0100</td>\n      <td>0.1</td>\n      <td>0.790934</td>\n      <td>0.767588</td>\n      <td>0.158551</td>\n      <td>0.073804</td>\n      <td>0.470713</td>\n      <td>0.467097</td>\n      <td>2.023652</td>\n    </tr>\n    <tr>\n      <th>43</th>\n      <td>0.5</td>\n      <td>0.03</td>\n      <td>0.0100</td>\n      <td>0.1</td>\n      <td>0.787728</td>\n      <td>0.767476</td>\n      <td>0.157159</td>\n      <td>0.075691</td>\n      <td>0.475890</td>\n      <td>0.474145</td>\n      <td>2.056103</td>\n    </tr>\n    <tr>\n      <th>3</th>\n      <td>0.5</td>\n      <td>0.30</td>\n      <td>0.0100</td>\n      <td>0.1</td>\n      <td>0.802432</td>\n      <td>0.767004</td>\n      <td>0.154353</td>\n      <td>0.060042</td>\n      <td>0.445618</td>\n      <td>0.450511</td>\n      <td>1.964090</td>\n    </tr>\n    <tr>\n      <th>4</th>\n      <td>0.5</td>\n      <td>0.01</td>\n      <td>0.0010</td>\n      <td>0.1</td>\n      <td>0.741625</td>\n      <td>0.730075</td>\n      <td>0.114316</td>\n      <td>0.060881</td>\n      <td>0.345290</td>\n      <td>0.276729</td>\n      <td>1.150292</td>\n    </tr>\n    <tr>\n      <th>34</th>\n      <td>0.5</td>\n      <td>0.03</td>\n      <td>0.0010</td>\n      <td>0.1</td>\n      <td>0.741625</td>\n      <td>0.728378</td>\n      <td>0.112318</td>\n      <td>0.056849</td>\n      <td>0.337922</td>\n      <td>0.277100</td>\n      <td>1.136086</td>\n    </tr>\n    <tr>\n      <th>45</th>\n      <td>0.5</td>\n      <td>0.10</td>\n      <td>0.0010</td>\n      <td>0.1</td>\n      <td>0.742067</td>\n      <td>0.724194</td>\n      <td>0.106816</td>\n      <td>0.050964</td>\n      <td>0.321961</td>\n      <td>0.288613</td>\n      <td>1.192074</td>\n    </tr>\n    <tr>\n      <th>0</th>\n      <td>0.5</td>\n      <td>0.30</td>\n      <td>0.0010</td>\n      <td>0.1</td>\n      <td>0.747816</td>\n      <td>0.714718</td>\n      <td>0.094466</td>\n      <td>0.043594</td>\n      <td>0.281503</td>\n      <td>0.243156</td>\n      <td>1.018935</td>\n    </tr>\n    <tr>\n      <th>30</th>\n      <td>0.5</td>\n      <td>1.00</td>\n      <td>0.0010</td>\n      <td>0.1</td>\n      <td>0.701493</td>\n      <td>0.648927</td>\n      <td>0.019764</td>\n      <td>0.041061</td>\n      <td>0.105431</td>\n      <td>0.065533</td>\n      <td>0.309061</td>\n    </tr>\n    <tr>\n      <th>50</th>\n      <td>0.5</td>\n      <td>1.00</td>\n      <td>0.0100</td>\n      <td>0.1</td>\n      <td>0.804422</td>\n      <td>0.607650</td>\n      <td>0.030477</td>\n      <td>0.005677</td>\n      <td>0.109565</td>\n      <td>0.221793</td>\n      <td>0.991663</td>\n    </tr>\n    <tr>\n      <th>61</th>\n      <td>0.5</td>\n      <td>0.01</td>\n      <td>0.0001</td>\n      <td>0.1</td>\n      <td>0.325484</td>\n      <td>0.553485</td>\n      <td>0.052784</td>\n      <td>0.018788</td>\n      <td>0.115509</td>\n      <td>0.145763</td>\n      <td>0.676105</td>\n    </tr>\n    <tr>\n      <th>8</th>\n      <td>0.5</td>\n      <td>0.03</td>\n      <td>0.0001</td>\n      <td>0.1</td>\n      <td>0.323715</td>\n      <td>0.552317</td>\n      <td>0.051591</td>\n      <td>0.017673</td>\n      <td>0.111625</td>\n      <td>0.137705</td>\n      <td>0.675000</td>\n    </tr>\n    <tr>\n      <th>11</th>\n      <td>0.5</td>\n      <td>0.10</td>\n      <td>0.0001</td>\n      <td>0.1</td>\n      <td>0.318961</td>\n      <td>0.549331</td>\n      <td>0.050037</td>\n      <td>0.017027</td>\n      <td>0.111797</td>\n      <td>0.123347</td>\n      <td>0.601976</td>\n    </tr>\n    <tr>\n      <th>32</th>\n      <td>0.5</td>\n      <td>0.30</td>\n      <td>0.0001</td>\n      <td>0.1</td>\n      <td>0.306357</td>\n      <td>0.541313</td>\n      <td>0.042105</td>\n      <td>0.019423</td>\n      <td>0.104288</td>\n      <td>0.136715</td>\n      <td>0.672988</td>\n    </tr>\n    <tr>\n      <th>38</th>\n      <td>0.5</td>\n      <td>1.00</td>\n      <td>0.0001</td>\n      <td>0.1</td>\n      <td>0.278054</td>\n      <td>0.522925</td>\n      <td>0.024761</td>\n      <td>0.012832</td>\n      <td>0.066501</td>\n      <td>0.063312</td>\n      <td>0.321212</td>\n    </tr>\n    <tr>\n      <th>62</th>\n      <td>0.5</td>\n      <td>3.00</td>\n      <td>0.0010</td>\n      <td>0.1</td>\n      <td>0.279160</td>\n      <td>0.514086</td>\n      <td>0.107918</td>\n      <td>0.003154</td>\n      <td>0.119066</td>\n      <td>0.035161</td>\n      <td>0.165599</td>\n    </tr>\n    <tr>\n      <th>33</th>\n      <td>0.0</td>\n      <td>0.01</td>\n      <td>0.0001</td>\n      <td>0.1</td>\n      <td>0.256495</td>\n      <td>0.508837</td>\n      <td>0.006498</td>\n      <td>0.008510</td>\n      <td>0.029784</td>\n      <td>0.078973</td>\n      <td>0.403676</td>\n    </tr>\n    <tr>\n      <th>40</th>\n      <td>0.0</td>\n      <td>0.03</td>\n      <td>0.0001</td>\n      <td>0.1</td>\n      <td>0.255500</td>\n      <td>0.508180</td>\n      <td>0.006280</td>\n      <td>0.007409</td>\n      <td>0.027049</td>\n      <td>0.104364</td>\n      <td>0.509850</td>\n    </tr>\n    <tr>\n      <th>29</th>\n      <td>0.0</td>\n      <td>0.10</td>\n      <td>0.0001</td>\n      <td>0.1</td>\n      <td>0.251741</td>\n      <td>0.505697</td>\n      <td>0.003768</td>\n      <td>0.004823</td>\n      <td>0.016940</td>\n      <td>0.071117</td>\n      <td>0.341331</td>\n    </tr>\n    <tr>\n      <th>71</th>\n      <td>0.0</td>\n      <td>0.01</td>\n      <td>0.0010</td>\n      <td>0.1</td>\n      <td>0.251741</td>\n      <td>0.505697</td>\n      <td>0.003768</td>\n      <td>0.004823</td>\n      <td>0.016940</td>\n      <td>0.086492</td>\n      <td>0.411952</td>\n    </tr>\n    <tr>\n      <th>39</th>\n      <td>0.0</td>\n      <td>0.03</td>\n      <td>0.0010</td>\n      <td>0.1</td>\n      <td>0.246656</td>\n      <td>0.502337</td>\n      <td>0.001546</td>\n      <td>0.003914</td>\n      <td>0.010797</td>\n      <td>0.034725</td>\n      <td>0.171192</td>\n    </tr>\n    <tr>\n      <th>15</th>\n      <td>0.0</td>\n      <td>0.30</td>\n      <td>0.0001</td>\n      <td>0.1</td>\n      <td>0.246656</td>\n      <td>0.502337</td>\n      <td>0.001546</td>\n      <td>0.003914</td>\n      <td>0.010797</td>\n      <td>0.051905</td>\n      <td>0.255378</td>\n    </tr>\n    <tr>\n      <th>2</th>\n      <td>0.5</td>\n      <td>3.00</td>\n      <td>0.0001</td>\n      <td>0.1</td>\n      <td>0.243560</td>\n      <td>0.500292</td>\n      <td>0.000241</td>\n      <td>0.000489</td>\n      <td>0.001023</td>\n      <td>0.057132</td>\n      <td>0.296784</td>\n    </tr>\n  </tbody>\n</table>\n</div>"
     },
     "metadata": {},
     "execution_count": 6
    }
   ],
   "source": [
    "result.sort_values(by='balanced accuracy', ascending=False)"
   ]
  },
  {
   "cell_type": "code",
   "execution_count": null,
   "metadata": {},
   "outputs": [],
   "source": []
  }
 ],
 "metadata": {
  "language_info": {
   "codemirror_mode": {
    "name": "ipython",
    "version": 3
   },
   "file_extension": ".py",
   "mimetype": "text/x-python",
   "name": "python",
   "nbconvert_exporter": "python",
   "pygments_lexer": "ipython3",
   "version": "3.7.4-final"
  },
  "orig_nbformat": 2,
  "kernelspec": {
   "name": "python37464bit48aa32fa6dba4f1bbd692e320b15fd93",
   "display_name": "Python 3.7.4 64-bit"
  }
 },
 "nbformat": 4,
 "nbformat_minor": 2
}