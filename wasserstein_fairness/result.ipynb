{
 "cells": [
  {
   "cell_type": "code",
   "execution_count": 11,
   "metadata": {
    "tags": [
     "outputPrepend"
    ]
   },
   "outputs": [],
   "source": [
    "import re\n",
    "from load_data import *\n",
    "import metrics\n",
    "with open('summary/adult-wfm1.out','r') as f:\n",
    "    out = f.read()"
   ]
  },
  {
   "cell_type": "code",
   "execution_count": 12,
   "metadata": {},
   "outputs": [],
   "source": [
    "out = re.split('\\n', out)"
   ]
  },
  {
   "cell_type": "code",
   "execution_count": 13,
   "metadata": {},
   "outputs": [],
   "source": [
    "out = out[:-1]"
   ]
  },
  {
   "cell_type": "code",
   "execution_count": 14,
   "metadata": {},
   "outputs": [],
   "source": [
    "result = []\n",
    "for e in out:\n",
    "    result.append(eval(e))\n",
    "for d in result:\n",
    "    dd_half, sdd, spdd = metrics.metrics(data, grouped_data, d['alpha'], d['beta'], d['lr'], 100)\n",
    "    d['dd-half'] = dd_half\n",
    "    d['sdd'] = sdd\n",
    "    d['spdd'] = spdd"
   ]
  },
  {
   "cell_type": "code",
   "execution_count": 15,
   "metadata": {},
   "outputs": [
    {
     "output_type": "execute_result",
     "data": {
      "text/plain": "    alpha  beta  lambda  accuracy  balanced accuracy  gap-rms-gender  \\\n0     0.0  0.01     0.1  0.251741           0.505697        0.003768   \n5     0.5  0.01     0.1  0.326368           0.554070        0.053166   \n22    0.5  0.01     0.1  0.789939           0.772178        0.170561   \n23    0.5  0.03     0.1  0.789939           0.772178        0.170561   \n25    0.5  0.10     0.1  0.741515           0.723983        0.105195   \n26    0.5  0.03     0.1  0.323825           0.552390        0.051853   \n27    0.5  0.01     0.1  0.787065           0.767656        0.158570   \n28    0.5  0.03     0.1  0.741625           0.728532        0.112921   \n30    0.5  0.03     0.1  0.787507           0.767485        0.157496   \n31    0.5  0.10     0.1  0.318961           0.549331        0.050037   \n32    0.0  0.01     0.1  0.256495           0.508837        0.006498   \n33    0.0  0.30     0.1  0.246434           0.502191        0.001449   \n36    0.5  0.01     0.1  0.741736           0.730303        0.114846   \n45    0.5  1.00     0.1  0.804091           0.607276        0.030215   \n46    0.5  1.00     0.1  0.700387           0.648505        0.020926   \n48    0.5  3.00     0.1  0.275401           0.512992        0.089618   \n50    0.5  1.00     0.1  0.801658           0.776988        0.172215   \n51    0.5  3.00     0.1  0.243560           0.500292        0.000241   \n54    0.5  0.30     0.1  0.306357           0.541313        0.042105   \n55    0.5  0.30     0.1  0.792040           0.773412        0.171216   \n56    0.5  1.00     0.1  0.277612           0.522633        0.024568   \n60    0.0  0.03     0.1  0.255500           0.508180        0.006280   \n61    0.0  0.03     0.1  0.246434           0.502191        0.001449   \n62    0.0  0.10     0.1  0.251741           0.505697        0.003768   \n63    0.5  0.30     0.1  0.801769           0.767028        0.155901   \n64    0.5  0.30     0.1  0.747816           0.715027        0.092837   \n70    0.5  0.10     0.1  0.790492           0.772543        0.172013   \n\n    gap-rms-race  \n0       0.004823  \n5       0.018222  \n22      0.075534  \n23      0.075534  \n25      0.051673  \n26      0.017789  \n27      0.077045  \n28      0.057629  \n30      0.075681  \n31      0.017027  \n32      0.008510  \n33      0.003669  \n36      0.061186  \n45      0.006014  \n46      0.042046  \n48      0.001711  \n50      0.073755  \n51      0.000489  \n54      0.019423  \n55      0.076328  \n56      0.013129  \n60      0.007409  \n61      0.003669  \n62      0.004823  \n63      0.061001  \n64      0.044335  \n70      0.075097  ",
      "text/html": "<div>\n<style scoped>\n    .dataframe tbody tr th:only-of-type {\n        vertical-align: middle;\n    }\n\n    .dataframe tbody tr th {\n        vertical-align: top;\n    }\n\n    .dataframe thead th {\n        text-align: right;\n    }\n</style>\n<table border=\"1\" class=\"dataframe\">\n  <thead>\n    <tr style=\"text-align: right;\">\n      <th></th>\n      <th>alpha</th>\n      <th>beta</th>\n      <th>lambda</th>\n      <th>accuracy</th>\n      <th>balanced accuracy</th>\n      <th>gap-rms-gender</th>\n      <th>gap-rms-race</th>\n    </tr>\n  </thead>\n  <tbody>\n    <tr>\n      <th>0</th>\n      <td>0.0</td>\n      <td>0.01</td>\n      <td>0.1</td>\n      <td>0.251741</td>\n      <td>0.505697</td>\n      <td>0.003768</td>\n      <td>0.004823</td>\n    </tr>\n    <tr>\n      <th>5</th>\n      <td>0.5</td>\n      <td>0.01</td>\n      <td>0.1</td>\n      <td>0.326368</td>\n      <td>0.554070</td>\n      <td>0.053166</td>\n      <td>0.018222</td>\n    </tr>\n    <tr>\n      <th>22</th>\n      <td>0.5</td>\n      <td>0.01</td>\n      <td>0.1</td>\n      <td>0.789939</td>\n      <td>0.772178</td>\n      <td>0.170561</td>\n      <td>0.075534</td>\n    </tr>\n    <tr>\n      <th>23</th>\n      <td>0.5</td>\n      <td>0.03</td>\n      <td>0.1</td>\n      <td>0.789939</td>\n      <td>0.772178</td>\n      <td>0.170561</td>\n      <td>0.075534</td>\n    </tr>\n    <tr>\n      <th>25</th>\n      <td>0.5</td>\n      <td>0.10</td>\n      <td>0.1</td>\n      <td>0.741515</td>\n      <td>0.723983</td>\n      <td>0.105195</td>\n      <td>0.051673</td>\n    </tr>\n    <tr>\n      <th>26</th>\n      <td>0.5</td>\n      <td>0.03</td>\n      <td>0.1</td>\n      <td>0.323825</td>\n      <td>0.552390</td>\n      <td>0.051853</td>\n      <td>0.017789</td>\n    </tr>\n    <tr>\n      <th>27</th>\n      <td>0.5</td>\n      <td>0.01</td>\n      <td>0.1</td>\n      <td>0.787065</td>\n      <td>0.767656</td>\n      <td>0.158570</td>\n      <td>0.077045</td>\n    </tr>\n    <tr>\n      <th>28</th>\n      <td>0.5</td>\n      <td>0.03</td>\n      <td>0.1</td>\n      <td>0.741625</td>\n      <td>0.728532</td>\n      <td>0.112921</td>\n      <td>0.057629</td>\n    </tr>\n    <tr>\n      <th>30</th>\n      <td>0.5</td>\n      <td>0.03</td>\n      <td>0.1</td>\n      <td>0.787507</td>\n      <td>0.767485</td>\n      <td>0.157496</td>\n      <td>0.075681</td>\n    </tr>\n    <tr>\n      <th>31</th>\n      <td>0.5</td>\n      <td>0.10</td>\n      <td>0.1</td>\n      <td>0.318961</td>\n      <td>0.549331</td>\n      <td>0.050037</td>\n      <td>0.017027</td>\n    </tr>\n    <tr>\n      <th>32</th>\n      <td>0.0</td>\n      <td>0.01</td>\n      <td>0.1</td>\n      <td>0.256495</td>\n      <td>0.508837</td>\n      <td>0.006498</td>\n      <td>0.008510</td>\n    </tr>\n    <tr>\n      <th>33</th>\n      <td>0.0</td>\n      <td>0.30</td>\n      <td>0.1</td>\n      <td>0.246434</td>\n      <td>0.502191</td>\n      <td>0.001449</td>\n      <td>0.003669</td>\n    </tr>\n    <tr>\n      <th>36</th>\n      <td>0.5</td>\n      <td>0.01</td>\n      <td>0.1</td>\n      <td>0.741736</td>\n      <td>0.730303</td>\n      <td>0.114846</td>\n      <td>0.061186</td>\n    </tr>\n    <tr>\n      <th>45</th>\n      <td>0.5</td>\n      <td>1.00</td>\n      <td>0.1</td>\n      <td>0.804091</td>\n      <td>0.607276</td>\n      <td>0.030215</td>\n      <td>0.006014</td>\n    </tr>\n    <tr>\n      <th>46</th>\n      <td>0.5</td>\n      <td>1.00</td>\n      <td>0.1</td>\n      <td>0.700387</td>\n      <td>0.648505</td>\n      <td>0.020926</td>\n      <td>0.042046</td>\n    </tr>\n    <tr>\n      <th>48</th>\n      <td>0.5</td>\n      <td>3.00</td>\n      <td>0.1</td>\n      <td>0.275401</td>\n      <td>0.512992</td>\n      <td>0.089618</td>\n      <td>0.001711</td>\n    </tr>\n    <tr>\n      <th>50</th>\n      <td>0.5</td>\n      <td>1.00</td>\n      <td>0.1</td>\n      <td>0.801658</td>\n      <td>0.776988</td>\n      <td>0.172215</td>\n      <td>0.073755</td>\n    </tr>\n    <tr>\n      <th>51</th>\n      <td>0.5</td>\n      <td>3.00</td>\n      <td>0.1</td>\n      <td>0.243560</td>\n      <td>0.500292</td>\n      <td>0.000241</td>\n      <td>0.000489</td>\n    </tr>\n    <tr>\n      <th>54</th>\n      <td>0.5</td>\n      <td>0.30</td>\n      <td>0.1</td>\n      <td>0.306357</td>\n      <td>0.541313</td>\n      <td>0.042105</td>\n      <td>0.019423</td>\n    </tr>\n    <tr>\n      <th>55</th>\n      <td>0.5</td>\n      <td>0.30</td>\n      <td>0.1</td>\n      <td>0.792040</td>\n      <td>0.773412</td>\n      <td>0.171216</td>\n      <td>0.076328</td>\n    </tr>\n    <tr>\n      <th>56</th>\n      <td>0.5</td>\n      <td>1.00</td>\n      <td>0.1</td>\n      <td>0.277612</td>\n      <td>0.522633</td>\n      <td>0.024568</td>\n      <td>0.013129</td>\n    </tr>\n    <tr>\n      <th>60</th>\n      <td>0.0</td>\n      <td>0.03</td>\n      <td>0.1</td>\n      <td>0.255500</td>\n      <td>0.508180</td>\n      <td>0.006280</td>\n      <td>0.007409</td>\n    </tr>\n    <tr>\n      <th>61</th>\n      <td>0.0</td>\n      <td>0.03</td>\n      <td>0.1</td>\n      <td>0.246434</td>\n      <td>0.502191</td>\n      <td>0.001449</td>\n      <td>0.003669</td>\n    </tr>\n    <tr>\n      <th>62</th>\n      <td>0.0</td>\n      <td>0.10</td>\n      <td>0.1</td>\n      <td>0.251741</td>\n      <td>0.505697</td>\n      <td>0.003768</td>\n      <td>0.004823</td>\n    </tr>\n    <tr>\n      <th>63</th>\n      <td>0.5</td>\n      <td>0.30</td>\n      <td>0.1</td>\n      <td>0.801769</td>\n      <td>0.767028</td>\n      <td>0.155901</td>\n      <td>0.061001</td>\n    </tr>\n    <tr>\n      <th>64</th>\n      <td>0.5</td>\n      <td>0.30</td>\n      <td>0.1</td>\n      <td>0.747816</td>\n      <td>0.715027</td>\n      <td>0.092837</td>\n      <td>0.044335</td>\n    </tr>\n    <tr>\n      <th>70</th>\n      <td>0.5</td>\n      <td>0.10</td>\n      <td>0.1</td>\n      <td>0.790492</td>\n      <td>0.772543</td>\n      <td>0.172013</td>\n      <td>0.075097</td>\n    </tr>\n  </tbody>\n</table>\n</div>"
     },
     "metadata": {},
     "execution_count": 15
    }
   ],
   "source": [
    "import pandas as pd\n",
    "pd.set_option('display.max_rows', None)\n",
    "res = pd.DataFrame(result)\n",
    "result = res.loc[res['gap-rms-gender'] != 0]\n"
   ]
  },
  {
   "cell_type": "code",
   "execution_count": 16,
   "metadata": {},
   "outputs": [
    {
     "output_type": "execute_result",
     "data": {
      "text/plain": "    alpha  beta  lambda  accuracy  balanced accuracy  gap-rms-gender  \\\n50    0.5  1.00     0.1  0.801658           0.776988        0.172215   \n55    0.5  0.30     0.1  0.792040           0.773412        0.171216   \n70    0.5  0.10     0.1  0.790492           0.772543        0.172013   \n22    0.5  0.01     0.1  0.789939           0.772178        0.170561   \n23    0.5  0.03     0.1  0.789939           0.772178        0.170561   \n27    0.5  0.01     0.1  0.787065           0.767656        0.158570   \n30    0.5  0.03     0.1  0.787507           0.767485        0.157496   \n63    0.5  0.30     0.1  0.801769           0.767028        0.155901   \n36    0.5  0.01     0.1  0.741736           0.730303        0.114846   \n28    0.5  0.03     0.1  0.741625           0.728532        0.112921   \n25    0.5  0.10     0.1  0.741515           0.723983        0.105195   \n64    0.5  0.30     0.1  0.747816           0.715027        0.092837   \n46    0.5  1.00     0.1  0.700387           0.648505        0.020926   \n45    0.5  1.00     0.1  0.804091           0.607276        0.030215   \n5     0.5  0.01     0.1  0.326368           0.554070        0.053166   \n26    0.5  0.03     0.1  0.323825           0.552390        0.051853   \n31    0.5  0.10     0.1  0.318961           0.549331        0.050037   \n54    0.5  0.30     0.1  0.306357           0.541313        0.042105   \n56    0.5  1.00     0.1  0.277612           0.522633        0.024568   \n48    0.5  3.00     0.1  0.275401           0.512992        0.089618   \n32    0.0  0.01     0.1  0.256495           0.508837        0.006498   \n60    0.0  0.03     0.1  0.255500           0.508180        0.006280   \n62    0.0  0.10     0.1  0.251741           0.505697        0.003768   \n0     0.0  0.01     0.1  0.251741           0.505697        0.003768   \n33    0.0  0.30     0.1  0.246434           0.502191        0.001449   \n61    0.0  0.03     0.1  0.246434           0.502191        0.001449   \n51    0.5  3.00     0.1  0.243560           0.500292        0.000241   \n\n    gap-rms-race  \n50      0.073755  \n55      0.076328  \n70      0.075097  \n22      0.075534  \n23      0.075534  \n27      0.077045  \n30      0.075681  \n63      0.061001  \n36      0.061186  \n28      0.057629  \n25      0.051673  \n64      0.044335  \n46      0.042046  \n45      0.006014  \n5       0.018222  \n26      0.017789  \n31      0.017027  \n54      0.019423  \n56      0.013129  \n48      0.001711  \n32      0.008510  \n60      0.007409  \n62      0.004823  \n0       0.004823  \n33      0.003669  \n61      0.003669  \n51      0.000489  ",
      "text/html": "<div>\n<style scoped>\n    .dataframe tbody tr th:only-of-type {\n        vertical-align: middle;\n    }\n\n    .dataframe tbody tr th {\n        vertical-align: top;\n    }\n\n    .dataframe thead th {\n        text-align: right;\n    }\n</style>\n<table border=\"1\" class=\"dataframe\">\n  <thead>\n    <tr style=\"text-align: right;\">\n      <th></th>\n      <th>alpha</th>\n      <th>beta</th>\n      <th>lambda</th>\n      <th>accuracy</th>\n      <th>balanced accuracy</th>\n      <th>gap-rms-gender</th>\n      <th>gap-rms-race</th>\n    </tr>\n  </thead>\n  <tbody>\n    <tr>\n      <th>50</th>\n      <td>0.5</td>\n      <td>1.00</td>\n      <td>0.1</td>\n      <td>0.801658</td>\n      <td>0.776988</td>\n      <td>0.172215</td>\n      <td>0.073755</td>\n    </tr>\n    <tr>\n      <th>55</th>\n      <td>0.5</td>\n      <td>0.30</td>\n      <td>0.1</td>\n      <td>0.792040</td>\n      <td>0.773412</td>\n      <td>0.171216</td>\n      <td>0.076328</td>\n    </tr>\n    <tr>\n      <th>70</th>\n      <td>0.5</td>\n      <td>0.10</td>\n      <td>0.1</td>\n      <td>0.790492</td>\n      <td>0.772543</td>\n      <td>0.172013</td>\n      <td>0.075097</td>\n    </tr>\n    <tr>\n      <th>22</th>\n      <td>0.5</td>\n      <td>0.01</td>\n      <td>0.1</td>\n      <td>0.789939</td>\n      <td>0.772178</td>\n      <td>0.170561</td>\n      <td>0.075534</td>\n    </tr>\n    <tr>\n      <th>23</th>\n      <td>0.5</td>\n      <td>0.03</td>\n      <td>0.1</td>\n      <td>0.789939</td>\n      <td>0.772178</td>\n      <td>0.170561</td>\n      <td>0.075534</td>\n    </tr>\n    <tr>\n      <th>27</th>\n      <td>0.5</td>\n      <td>0.01</td>\n      <td>0.1</td>\n      <td>0.787065</td>\n      <td>0.767656</td>\n      <td>0.158570</td>\n      <td>0.077045</td>\n    </tr>\n    <tr>\n      <th>30</th>\n      <td>0.5</td>\n      <td>0.03</td>\n      <td>0.1</td>\n      <td>0.787507</td>\n      <td>0.767485</td>\n      <td>0.157496</td>\n      <td>0.075681</td>\n    </tr>\n    <tr>\n      <th>63</th>\n      <td>0.5</td>\n      <td>0.30</td>\n      <td>0.1</td>\n      <td>0.801769</td>\n      <td>0.767028</td>\n      <td>0.155901</td>\n      <td>0.061001</td>\n    </tr>\n    <tr>\n      <th>36</th>\n      <td>0.5</td>\n      <td>0.01</td>\n      <td>0.1</td>\n      <td>0.741736</td>\n      <td>0.730303</td>\n      <td>0.114846</td>\n      <td>0.061186</td>\n    </tr>\n    <tr>\n      <th>28</th>\n      <td>0.5</td>\n      <td>0.03</td>\n      <td>0.1</td>\n      <td>0.741625</td>\n      <td>0.728532</td>\n      <td>0.112921</td>\n      <td>0.057629</td>\n    </tr>\n    <tr>\n      <th>25</th>\n      <td>0.5</td>\n      <td>0.10</td>\n      <td>0.1</td>\n      <td>0.741515</td>\n      <td>0.723983</td>\n      <td>0.105195</td>\n      <td>0.051673</td>\n    </tr>\n    <tr>\n      <th>64</th>\n      <td>0.5</td>\n      <td>0.30</td>\n      <td>0.1</td>\n      <td>0.747816</td>\n      <td>0.715027</td>\n      <td>0.092837</td>\n      <td>0.044335</td>\n    </tr>\n    <tr>\n      <th>46</th>\n      <td>0.5</td>\n      <td>1.00</td>\n      <td>0.1</td>\n      <td>0.700387</td>\n      <td>0.648505</td>\n      <td>0.020926</td>\n      <td>0.042046</td>\n    </tr>\n    <tr>\n      <th>45</th>\n      <td>0.5</td>\n      <td>1.00</td>\n      <td>0.1</td>\n      <td>0.804091</td>\n      <td>0.607276</td>\n      <td>0.030215</td>\n      <td>0.006014</td>\n    </tr>\n    <tr>\n      <th>5</th>\n      <td>0.5</td>\n      <td>0.01</td>\n      <td>0.1</td>\n      <td>0.326368</td>\n      <td>0.554070</td>\n      <td>0.053166</td>\n      <td>0.018222</td>\n    </tr>\n    <tr>\n      <th>26</th>\n      <td>0.5</td>\n      <td>0.03</td>\n      <td>0.1</td>\n      <td>0.323825</td>\n      <td>0.552390</td>\n      <td>0.051853</td>\n      <td>0.017789</td>\n    </tr>\n    <tr>\n      <th>31</th>\n      <td>0.5</td>\n      <td>0.10</td>\n      <td>0.1</td>\n      <td>0.318961</td>\n      <td>0.549331</td>\n      <td>0.050037</td>\n      <td>0.017027</td>\n    </tr>\n    <tr>\n      <th>54</th>\n      <td>0.5</td>\n      <td>0.30</td>\n      <td>0.1</td>\n      <td>0.306357</td>\n      <td>0.541313</td>\n      <td>0.042105</td>\n      <td>0.019423</td>\n    </tr>\n    <tr>\n      <th>56</th>\n      <td>0.5</td>\n      <td>1.00</td>\n      <td>0.1</td>\n      <td>0.277612</td>\n      <td>0.522633</td>\n      <td>0.024568</td>\n      <td>0.013129</td>\n    </tr>\n    <tr>\n      <th>48</th>\n      <td>0.5</td>\n      <td>3.00</td>\n      <td>0.1</td>\n      <td>0.275401</td>\n      <td>0.512992</td>\n      <td>0.089618</td>\n      <td>0.001711</td>\n    </tr>\n    <tr>\n      <th>32</th>\n      <td>0.0</td>\n      <td>0.01</td>\n      <td>0.1</td>\n      <td>0.256495</td>\n      <td>0.508837</td>\n      <td>0.006498</td>\n      <td>0.008510</td>\n    </tr>\n    <tr>\n      <th>60</th>\n      <td>0.0</td>\n      <td>0.03</td>\n      <td>0.1</td>\n      <td>0.255500</td>\n      <td>0.508180</td>\n      <td>0.006280</td>\n      <td>0.007409</td>\n    </tr>\n    <tr>\n      <th>62</th>\n      <td>0.0</td>\n      <td>0.10</td>\n      <td>0.1</td>\n      <td>0.251741</td>\n      <td>0.505697</td>\n      <td>0.003768</td>\n      <td>0.004823</td>\n    </tr>\n    <tr>\n      <th>0</th>\n      <td>0.0</td>\n      <td>0.01</td>\n      <td>0.1</td>\n      <td>0.251741</td>\n      <td>0.505697</td>\n      <td>0.003768</td>\n      <td>0.004823</td>\n    </tr>\n    <tr>\n      <th>33</th>\n      <td>0.0</td>\n      <td>0.30</td>\n      <td>0.1</td>\n      <td>0.246434</td>\n      <td>0.502191</td>\n      <td>0.001449</td>\n      <td>0.003669</td>\n    </tr>\n    <tr>\n      <th>61</th>\n      <td>0.0</td>\n      <td>0.03</td>\n      <td>0.1</td>\n      <td>0.246434</td>\n      <td>0.502191</td>\n      <td>0.001449</td>\n      <td>0.003669</td>\n    </tr>\n    <tr>\n      <th>51</th>\n      <td>0.5</td>\n      <td>3.00</td>\n      <td>0.1</td>\n      <td>0.243560</td>\n      <td>0.500292</td>\n      <td>0.000241</td>\n      <td>0.000489</td>\n    </tr>\n  </tbody>\n</table>\n</div>"
     },
     "metadata": {},
     "execution_count": 16
    }
   ],
   "source": [
    "result.sort_values(by='balanced accuracy', ascending=False)"
   ]
  },
  {
   "cell_type": "code",
   "execution_count": null,
   "metadata": {},
   "outputs": [],
   "source": []
  }
 ],
 "metadata": {
  "language_info": {
   "codemirror_mode": {
    "name": "ipython",
    "version": 3
   },
   "file_extension": ".py",
   "mimetype": "text/x-python",
   "name": "python",
   "nbconvert_exporter": "python",
   "pygments_lexer": "ipython3",
   "version": "3.7.4-final"
  },
  "orig_nbformat": 2,
  "kernelspec": {
   "name": "python37464bit48aa32fa6dba4f1bbd692e320b15fd93",
   "display_name": "Python 3.7.4 64-bit"
  }
 },
 "nbformat": 4,
 "nbformat_minor": 2
}