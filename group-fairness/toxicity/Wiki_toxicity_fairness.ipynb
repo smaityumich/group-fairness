{
  "cells": [
    {
      "cell_type": "markdown",
      "metadata": {
        "id": "xrsx7fMbWs8u",
        "colab_type": "text"
      },
      "source": [
        "##### Copyright 2018 The TensorFlow Constrained Optimization Authors. All Rights Reserved.\n",
        "\n",
        "Licensed under the Apache License, Version 2.0 (the \"License\"); you may not use this file except in compliance with the License. You may obtain a copy of the License at\n",
        "\n",
        "> http://www.apache.org/licenses/LICENSE-2.0\n",
        "\n",
        "Unless required by applicable law or agreed to in writing, software distributed under the License is distributed on an \"AS IS\" BASIS, WITHOUT WARRANTIES OR CONDITIONS OF ANY KIND, either express or implied. See the License for the specific language governing permissions and limitations under the License."
      ]
    },
    {
      "cell_type": "markdown",
      "metadata": {
        "id": "bqdaOVRxWs8v",
        "colab_type": "text"
      },
      "source": [
        "## Wiki Talk Comments Toxicity Prediction\n",
        "\n",
        "In this example, we consider the task of predicting whether a discussion comment posted on a Wiki talk page contains toxic content (i.e. contains content that is “rude, disrespectful or unreasonable”). We use a public <a href=\"https://figshare.com/articles/Wikipedia_Talk_Labels_Toxicity/4563973\">dataset</a> released by the <a href=\"https://conversationai.github.io/\">Conversation AI</a> project, which contains over 100k comments from the English Wikipedia that are annotated by crowd workers.\n",
        "\n",
        "One of the challenges with this dataset is that a very small proportion of the comments in the dataset cover sensitive topics such as sexuality or religion. So, training a neural network model on this dataset by optimizing a simple cross-entropy objective often leads to disparate performance on the smaller sensitive topics. We shall see that by imposing constraints during training, we can train a *fairer* model that enjoys equitable performance across the different topic groups. We shall use the TFCO library to optimize for two different fairness goals during training.\n",
        "\n",
        "Let's first install and import the relevant libraries."
      ]
    },
    {
      "cell_type": "code",
      "metadata": {
        "id": "nd_Y6CTnWs8w",
        "colab_type": "code",
        "colab": {}
      },
      "source": [
        "import io\n",
        "import os\n",
        "import shutil\n",
        "import sys\n",
        "import tempfile\n",
        "import zipfile\n",
        "from urllib import request\n",
        "\n",
        "import matplotlib.pyplot as plt\n",
        "import numpy as np\n",
        "import pandas as pd\n",
        "import time\n",
        "\n",
        "import tensorflow as tf\n",
        "import tensorflow.keras as keras\n",
        "from tensorflow.keras import layers\n",
        "from tensorflow.keras.preprocessing import sequence\n",
        "from tensorflow.keras.preprocessing import text"
      ],
      "execution_count": 1,
      "outputs": []
    },
    {
      "cell_type": "code",
      "metadata": {
        "id": "R1ZL8BcBgN2t",
        "colab_type": "code",
        "colab": {}
      },
      "source": [
        "!pip install git+https://github.com/google-research/tensorflow_constrained_optimization\n",
        "import tensorflow_constrained_optimization as tfco"
      ],
      "execution_count": 2,
      "outputs": [
        {
          "output_type": "stream",
          "name": "stdout",
          "text": "Collecting git+https://github.com/google-research/tensorflow_constrained_optimization\n  Cloning https://github.com/google-research/tensorflow_constrained_optimization to /tmp/pip-req-build-nja3b286\n  Running command git clone -q https://github.com/google-research/tensorflow_constrained_optimization /tmp/pip-req-build-nja3b286\nRequirement already satisfied: numpy in /home/yuekai/anaconda3/lib/python3.7/site-packages (from tfco-nightly==0.3.dev20200522) (1.18.1)\nRequirement already satisfied: scipy in /home/yuekai/anaconda3/lib/python3.7/site-packages (from tfco-nightly==0.3.dev20200522) (1.4.1)\nRequirement already satisfied: six in /home/yuekai/anaconda3/lib/python3.7/site-packages (from tfco-nightly==0.3.dev20200522) (1.14.0)\nRequirement already satisfied: tensorflow>=1.14 in /home/yuekai/anaconda3/lib/python3.7/site-packages (from tfco-nightly==0.3.dev20200522) (2.1.0)\nRequirement already satisfied: gast==0.2.2 in /home/yuekai/anaconda3/lib/python3.7/site-packages (from tensorflow>=1.14->tfco-nightly==0.3.dev20200522) (0.2.2)\nRequirement already satisfied: keras-applications>=1.0.8 in /home/yuekai/anaconda3/lib/python3.7/site-packages (from tensorflow>=1.14->tfco-nightly==0.3.dev20200522) (1.0.8)\nRequirement already satisfied: grpcio>=1.8.6 in /home/yuekai/anaconda3/lib/python3.7/site-packages (from tensorflow>=1.14->tfco-nightly==0.3.dev20200522) (1.27.2)\nRequirement already satisfied: google-pasta>=0.1.6 in /home/yuekai/anaconda3/lib/python3.7/site-packages (from tensorflow>=1.14->tfco-nightly==0.3.dev20200522) (0.2.0)\nRequirement already satisfied: keras-preprocessing>=1.1.0 in /home/yuekai/anaconda3/lib/python3.7/site-packages (from tensorflow>=1.14->tfco-nightly==0.3.dev20200522) (1.1.0)\nRequirement already satisfied: termcolor>=1.1.0 in /home/yuekai/anaconda3/lib/python3.7/site-packages (from tensorflow>=1.14->tfco-nightly==0.3.dev20200522) (1.1.0)\nRequirement already satisfied: tensorboard<2.2.0,>=2.1.0 in /home/yuekai/anaconda3/lib/python3.7/site-packages (from tensorflow>=1.14->tfco-nightly==0.3.dev20200522) (2.1.0)\nRequirement already satisfied: protobuf>=3.8.0 in /home/yuekai/anaconda3/lib/python3.7/site-packages (from tensorflow>=1.14->tfco-nightly==0.3.dev20200522) (3.11.4)\nRequirement already satisfied: wrapt>=1.11.1 in /home/yuekai/anaconda3/lib/python3.7/site-packages (from tensorflow>=1.14->tfco-nightly==0.3.dev20200522) (1.11.2)\nRequirement already satisfied: wheel>=0.26; python_version >= \"3\" in /home/yuekai/anaconda3/lib/python3.7/site-packages (from tensorflow>=1.14->tfco-nightly==0.3.dev20200522) (0.34.2)\nRequirement already satisfied: tensorflow-estimator<2.2.0,>=2.1.0rc0 in /home/yuekai/anaconda3/lib/python3.7/site-packages (from tensorflow>=1.14->tfco-nightly==0.3.dev20200522) (2.1.0)\nRequirement already satisfied: opt-einsum>=2.3.2 in /home/yuekai/anaconda3/lib/python3.7/site-packages (from tensorflow>=1.14->tfco-nightly==0.3.dev20200522) (3.1.0)\nRequirement already satisfied: absl-py>=0.7.0 in /home/yuekai/anaconda3/lib/python3.7/site-packages (from tensorflow>=1.14->tfco-nightly==0.3.dev20200522) (0.9.0)\nRequirement already satisfied: astor>=0.6.0 in /home/yuekai/anaconda3/lib/python3.7/site-packages (from tensorflow>=1.14->tfco-nightly==0.3.dev20200522) (0.8.0)\nRequirement already satisfied: h5py in /home/yuekai/anaconda3/lib/python3.7/site-packages (from keras-applications>=1.0.8->tensorflow>=1.14->tfco-nightly==0.3.dev20200522) (2.10.0)\nRequirement already satisfied: markdown>=2.6.8 in /home/yuekai/anaconda3/lib/python3.7/site-packages (from tensorboard<2.2.0,>=2.1.0->tensorflow>=1.14->tfco-nightly==0.3.dev20200522) (3.1.1)\nRequirement already satisfied: setuptools>=41.0.0 in /home/yuekai/anaconda3/lib/python3.7/site-packages (from tensorboard<2.2.0,>=2.1.0->tensorflow>=1.14->tfco-nightly==0.3.dev20200522) (45.2.0.post20200210)\nRequirement already satisfied: google-auth-oauthlib<0.5,>=0.4.1 in /home/yuekai/anaconda3/lib/python3.7/site-packages (from tensorboard<2.2.0,>=2.1.0->tensorflow>=1.14->tfco-nightly==0.3.dev20200522) (0.4.1)\nRequirement already satisfied: requests<3,>=2.21.0 in /home/yuekai/anaconda3/lib/python3.7/site-packages (from tensorboard<2.2.0,>=2.1.0->tensorflow>=1.14->tfco-nightly==0.3.dev20200522) (2.22.0)\nRequirement already satisfied: google-auth<2,>=1.6.3 in /home/yuekai/anaconda3/lib/python3.7/site-packages (from tensorboard<2.2.0,>=2.1.0->tensorflow>=1.14->tfco-nightly==0.3.dev20200522) (1.13.1)\nRequirement already satisfied: werkzeug>=0.11.15 in /home/yuekai/anaconda3/lib/python3.7/site-packages (from tensorboard<2.2.0,>=2.1.0->tensorflow>=1.14->tfco-nightly==0.3.dev20200522) (1.0.0)\nRequirement already satisfied: requests-oauthlib>=0.7.0 in /home/yuekai/anaconda3/lib/python3.7/site-packages (from google-auth-oauthlib<0.5,>=0.4.1->tensorboard<2.2.0,>=2.1.0->tensorflow>=1.14->tfco-nightly==0.3.dev20200522) (1.3.0)\nRequirement already satisfied: idna<2.9,>=2.5 in /home/yuekai/anaconda3/lib/python3.7/site-packages (from requests<3,>=2.21.0->tensorboard<2.2.0,>=2.1.0->tensorflow>=1.14->tfco-nightly==0.3.dev20200522) (2.8)\nRequirement already satisfied: chardet<3.1.0,>=3.0.2 in /home/yuekai/anaconda3/lib/python3.7/site-packages (from requests<3,>=2.21.0->tensorboard<2.2.0,>=2.1.0->tensorflow>=1.14->tfco-nightly==0.3.dev20200522) (3.0.4)\nRequirement already satisfied: urllib3!=1.25.0,!=1.25.1,<1.26,>=1.21.1 in /home/yuekai/anaconda3/lib/python3.7/site-packages (from requests<3,>=2.21.0->tensorboard<2.2.0,>=2.1.0->tensorflow>=1.14->tfco-nightly==0.3.dev20200522) (1.25.8)\nRequirement already satisfied: certifi>=2017.4.17 in /home/yuekai/anaconda3/lib/python3.7/site-packages (from requests<3,>=2.21.0->tensorboard<2.2.0,>=2.1.0->tensorflow>=1.14->tfco-nightly==0.3.dev20200522) (2019.11.28)\nRequirement already satisfied: pyasn1-modules>=0.2.1 in /home/yuekai/anaconda3/lib/python3.7/site-packages (from google-auth<2,>=1.6.3->tensorboard<2.2.0,>=2.1.0->tensorflow>=1.14->tfco-nightly==0.3.dev20200522) (0.2.7)\nRequirement already satisfied: rsa<4.1,>=3.1.4 in /home/yuekai/anaconda3/lib/python3.7/site-packages (from google-auth<2,>=1.6.3->tensorboard<2.2.0,>=2.1.0->tensorflow>=1.14->tfco-nightly==0.3.dev20200522) (4.0)\nRequirement already satisfied: cachetools<5.0,>=2.0.0 in /home/yuekai/anaconda3/lib/python3.7/site-packages (from google-auth<2,>=1.6.3->tensorboard<2.2.0,>=2.1.0->tensorflow>=1.14->tfco-nightly==0.3.dev20200522) (3.1.1)\nRequirement already satisfied: oauthlib>=3.0.0 in /home/yuekai/anaconda3/lib/python3.7/site-packages (from requests-oauthlib>=0.7.0->google-auth-oauthlib<0.5,>=0.4.1->tensorboard<2.2.0,>=2.1.0->tensorflow>=1.14->tfco-nightly==0.3.dev20200522) (3.1.0)\nRequirement already satisfied: pyasn1<0.5.0,>=0.4.6 in /home/yuekai/anaconda3/lib/python3.7/site-packages (from pyasn1-modules>=0.2.1->google-auth<2,>=1.6.3->tensorboard<2.2.0,>=2.1.0->tensorflow>=1.14->tfco-nightly==0.3.dev20200522) (0.4.8)\nBuilding wheels for collected packages: tfco-nightly\n  Building wheel for tfco-nightly (setup.py) ... \u001b[?25ldone\n\u001b[?25h  Created wheel for tfco-nightly: filename=tfco_nightly-0.3.dev20200522-py3-none-any.whl size=144191 sha256=389270242d24437e9e6871eb6ba59eb15c9aec7083544b5f221b9efab43729a4\n  Stored in directory: /tmp/pip-ephem-wheel-cache-zphc3fkm/wheels/11/5a/d7/8ec9d3fc460f26c180d5562f321ec044faebefeb9ec101a8cc\nSuccessfully built tfco-nightly\nInstalling collected packages: tfco-nightly\nSuccessfully installed tfco-nightly-0.3.dev20200522\n"
        }
      ]
    },
    {
      "cell_type": "code",
      "metadata": {
        "colab_type": "code",
        "id": "DNAbLqqh1bpU",
        "colab": {}
      },
      "source": [
        "tf.executing_eagerly()"
      ],
      "execution_count": 5,
      "outputs": [
        {
          "output_type": "execute_result",
          "data": {
            "text/plain": "True"
          },
          "metadata": {},
          "execution_count": 5
        }
      ]
    },
    {
      "cell_type": "markdown",
      "metadata": {
        "id": "YUJyWaAwWs83",
        "colab_type": "text"
      },
      "source": [
        "## Hyper-parameters\n",
        "\n",
        "Let's fix some hyper-parameters needed for the data preprocessing and model training."
      ]
    },
    {
      "cell_type": "code",
      "metadata": {
        "id": "1aXlwlqTWs84",
        "colab_type": "code",
        "colab": {}
      },
      "source": [
        "hparams = {\n",
        "    \"batch_size\": 128,\n",
        "    \"cnn_filter_sizes\": [128, 128, 128],\n",
        "    \"cnn_kernel_sizes\": [5, 5, 5],\n",
        "    \"cnn_pooling_sizes\": [5, 5, 40],\n",
        "    \"embedding_dim\": 100,\n",
        "    \"embedding_trainable\": False,\n",
        "    \"learning_rate\": 0.005,\n",
        "    \"max_num_words\": 10000,\n",
        "    \"max_sequence_length\": 250\n",
        "}"
      ],
      "execution_count": 6,
      "outputs": []
    },
    {
      "cell_type": "markdown",
      "metadata": {
        "id": "dkSm-RIaWs86",
        "colab_type": "text"
      },
      "source": [
        "## Load and pre-process dataset"
      ]
    },
    {
      "cell_type": "markdown",
      "metadata": {
        "id": "DIe2JRDeWs87",
        "colab_type": "text"
      },
      "source": [
        "We next download the dataset and preprocess it. The train, test and validations sets are provided as separate CSV files."
      ]
    },
    {
      "cell_type": "code",
      "metadata": {
        "id": "rcd2CV7pWs88",
        "colab_type": "code",
        "outputId": "9aa7e6f0-ebaf-49e5-d41e-49d8c0cdbbd2",
        "colab": {
          "base_uri": "https://localhost:8080/",
          "height": 204
        }
      },
      "source": [
        "toxicity_data_url = (\"https://raw.githubusercontent.com/conversationai/\"\n",
        "                     \"unintended-ml-bias-analysis/master/data/\")\n",
        "\n",
        "data_train = pd.read_csv(toxicity_data_url + \"wiki_train.csv\")\n",
        "data_test = pd.read_csv(toxicity_data_url + \"wiki_test.csv\")\n",
        "data_vali = pd.read_csv(toxicity_data_url + \"wiki_dev.csv\")\n",
        "\n",
        "data_train.head()"
      ],
      "execution_count": 7,
      "outputs": [
        {
          "output_type": "execute_result",
          "data": {
            "text/plain": "    rev_id  toxicity                                            comment  year  \\\n0   2232.0       0.1  This: :One can make an analogy in mathematical...  2002   \n1   4216.0       0.0  `  :Clarification for you  (and Zundark's righ...  2002   \n2  26547.0       0.0  `This is such a fun entry.   Devotchka  I once...  2002   \n3  37330.0       0.3  `   I fixed the link; I also removed ``homeopa...  2002   \n4  37346.0       0.1  `If they are ``indisputable`` then why does th...  2002   \n\n   logged_in       ns  sample  split  is_toxic  \n0       True  article  random  train     False  \n1       True     user  random  train     False  \n2       True  article  random  train     False  \n3       True  article  random  train     False  \n4       True  article  random  train     False  ",
            "text/html": "<div>\n<style scoped>\n    .dataframe tbody tr th:only-of-type {\n        vertical-align: middle;\n    }\n\n    .dataframe tbody tr th {\n        vertical-align: top;\n    }\n\n    .dataframe thead th {\n        text-align: right;\n    }\n</style>\n<table border=\"1\" class=\"dataframe\">\n  <thead>\n    <tr style=\"text-align: right;\">\n      <th></th>\n      <th>rev_id</th>\n      <th>toxicity</th>\n      <th>comment</th>\n      <th>year</th>\n      <th>logged_in</th>\n      <th>ns</th>\n      <th>sample</th>\n      <th>split</th>\n      <th>is_toxic</th>\n    </tr>\n  </thead>\n  <tbody>\n    <tr>\n      <th>0</th>\n      <td>2232.0</td>\n      <td>0.1</td>\n      <td>This: :One can make an analogy in mathematical...</td>\n      <td>2002</td>\n      <td>True</td>\n      <td>article</td>\n      <td>random</td>\n      <td>train</td>\n      <td>False</td>\n    </tr>\n    <tr>\n      <th>1</th>\n      <td>4216.0</td>\n      <td>0.0</td>\n      <td>`  :Clarification for you  (and Zundark's righ...</td>\n      <td>2002</td>\n      <td>True</td>\n      <td>user</td>\n      <td>random</td>\n      <td>train</td>\n      <td>False</td>\n    </tr>\n    <tr>\n      <th>2</th>\n      <td>26547.0</td>\n      <td>0.0</td>\n      <td>`This is such a fun entry.   Devotchka  I once...</td>\n      <td>2002</td>\n      <td>True</td>\n      <td>article</td>\n      <td>random</td>\n      <td>train</td>\n      <td>False</td>\n    </tr>\n    <tr>\n      <th>3</th>\n      <td>37330.0</td>\n      <td>0.3</td>\n      <td>`   I fixed the link; I also removed ``homeopa...</td>\n      <td>2002</td>\n      <td>True</td>\n      <td>article</td>\n      <td>random</td>\n      <td>train</td>\n      <td>False</td>\n    </tr>\n    <tr>\n      <th>4</th>\n      <td>37346.0</td>\n      <td>0.1</td>\n      <td>`If they are ``indisputable`` then why does th...</td>\n      <td>2002</td>\n      <td>True</td>\n      <td>article</td>\n      <td>random</td>\n      <td>train</td>\n      <td>False</td>\n    </tr>\n  </tbody>\n</table>\n</div>"
          },
          "metadata": {},
          "execution_count": 7
        }
      ]
    },
    {
      "cell_type": "markdown",
      "metadata": {
        "id": "Ojo617RIWs8_",
        "colab_type": "text"
      },
      "source": [
        "The `comment` column contains the discussion comments and `is_toxic` column indicates whether or not a comment is annotated as toxic.\n",
        "\n",
        "In the following, we (i) separate out the labels, (ii) tokenize the text comments, and (iii) identify comments that contain sensitive topic terms.\n",
        "\n",
        "First, we separate the labels from the train, test and validation sets. The labels are all binary (0 or 1)."
      ]
    },
    {
      "cell_type": "code",
      "metadata": {
        "id": "mxo7ny90Ws9A",
        "colab_type": "code",
        "colab": {}
      },
      "source": [
        "labels_train = data_train[\"is_toxic\"].values.reshape(-1, 1) * 1.0\n",
        "labels_test = data_test[\"is_toxic\"].values.reshape(-1, 1) * 1.0\n",
        "labels_vali = data_vali[\"is_toxic\"].values.reshape(-1, 1) * 1.0"
      ],
      "execution_count": 8,
      "outputs": []
    },
    {
      "cell_type": "markdown",
      "metadata": {
        "id": "alrWi6jUWs9C",
        "colab_type": "text"
      },
      "source": [
        "Next, we tokenize the textual comments using the `Tokenizer` provided by `Keras`. We use the training set comments alone to build a vocabulary of tokens, and use them to convert all the comments into a (padded) sequence of tokens of the same length."
      ]
    },
    {
      "cell_type": "code",
      "metadata": {
        "id": "yvOTBsrHWs9D",
        "colab_type": "code",
        "colab": {}
      },
      "source": [
        "tokenizer = text.Tokenizer(num_words=hparams[\"max_num_words\"])\n",
        "tokenizer.fit_on_texts(data_train[\"comment\"])\n",
        "\n",
        "def prep_text(texts, tokenizer, max_sequence_length):\n",
        "    # Turns text into into padded sequences.\n",
        "    text_sequences = tokenizer.texts_to_sequences(texts)\n",
        "    return sequence.pad_sequences(text_sequences, maxlen=max_sequence_length)\n",
        "\n",
        "text_train = prep_text(data_train[\"comment\"], tokenizer, hparams[\"max_sequence_length\"])\n",
        "text_test = prep_text(data_test[\"comment\"], tokenizer, hparams[\"max_sequence_length\"])\n",
        "text_vali = prep_text(data_vali[\"comment\"], tokenizer, hparams[\"max_sequence_length\"])"
      ],
      "execution_count": 9,
      "outputs": []
    },
    {
      "cell_type": "markdown",
      "metadata": {
        "id": "Cn5zbgp-Ws9F",
        "colab_type": "text"
      },
      "source": [
        "Finally, we identify comments belonging to certain sensitive topic groups. We consider a subset of the <a href=\"https://github.com/conversationai/unintended-ml-bias-analysis/blob/master/unintended_ml_bias/bias_madlibs_data/adjectives_people.txt\">identity terms</a> provided with the dataset and group them into\n",
        "four broad topic groups: *sexuality*, *gender identity*, *religion* and *race*."
      ]
    },
    {
      "cell_type": "code",
      "metadata": {
        "id": "EnFfV2gEWs9G",
        "colab_type": "code",
        "colab": {}
      },
      "source": [
        "terms = {\n",
        "    'sexuality': ['gay', 'lesbian', 'bisexual', 'homosexual', 'straight', 'heterosexual'],\n",
        "    'gender identity': ['trans', 'transgender', 'cis', 'nonbinary'],\n",
        "    'religion': ['christian', 'muslim', 'jewish', 'buddhist', 'catholic', 'protestant', 'sikh', 'taoist'],\n",
        "    'race': ['african', 'african american', 'black', 'white', 'european', 'hispanic', 'latino', 'latina',\n",
        "             'latinx', 'mexican', 'canadian', 'american', 'asian', 'indian', 'middle eastern', 'chinese',\n",
        "             'japanese']}\n",
        "\n",
        "group_names = list(terms.keys())\n",
        "num_groups = len(group_names)"
      ],
      "execution_count": 10,
      "outputs": []
    },
    {
      "cell_type": "markdown",
      "metadata": {
        "id": "ooI3F5M4Ws9I",
        "colab_type": "text"
      },
      "source": [
        "We then create separate group membership matrices for the train, test and validation sets, where the rows correspond to comments, the columns correspond to the four sensitive groups, and each entry is a boolean indicating whether the comment contains a term from the topic group."
      ]
    },
    {
      "cell_type": "code",
      "metadata": {
        "id": "zO7PyNckWs9J",
        "colab_type": "code",
        "colab": {}
      },
      "source": [
        "def get_groups(text):\n",
        "    # Returns a boolean NumPy array of shape (n, k), where n is the number of comments,\n",
        "    # and k is the number of groups. Each entry (i, j) indicates if the i-th comment\n",
        "    # contains a term from the j-th group.\n",
        "    groups = np.zeros((text.shape[0], num_groups))\n",
        "    for ii in range(num_groups):\n",
        "        groups[:, ii] = text.str.contains('|'.join(terms[group_names[ii]]), case=False)\n",
        "    return groups\n",
        "\n",
        "groups_train = get_groups(data_train[\"comment\"])\n",
        "groups_test = get_groups(data_test[\"comment\"])\n",
        "groups_vali = get_groups(data_vali[\"comment\"])"
      ],
      "execution_count": 11,
      "outputs": []
    },
    {
      "cell_type": "markdown",
      "metadata": {
        "id": "GFAI6AB9Ws9L",
        "colab_type": "text"
      },
      "source": [
        "As shown below, all four topic groups constitute only a small fractions of the overall dataset, and have varying proportions of toxic comments."
      ]
    },
    {
      "cell_type": "code",
      "metadata": {
        "id": "8Ug4u_P9Ws9M",
        "colab_type": "code",
        "outputId": "9013a0a9-5b85-47a0-89c8-56504a32e945",
        "colab": {
          "base_uri": "https://localhost:8080/",
          "height": 190
        }
      },
      "source": [
        "print(\"Overall label proportion = %.1f%%\" % (labels_train.mean() * 100))\n",
        "\n",
        "group_stats = []\n",
        "for ii in range(num_groups):\n",
        "    group_proportion = groups_train[:, ii].mean()\n",
        "    group_pos_proportion = labels_train[groups_train[:, ii] == 1].mean()\n",
        "    group_stats.append([group_names[ii],\n",
        "                        \"%.2f%%\" % (group_proportion * 100),\n",
        "                        \"%.1f%%\" % (group_pos_proportion * 100)])\n",
        "group_stats = pd.DataFrame(group_stats,\n",
        "                           columns=[\"Topic group\", \"Group proportion\", \"Label proportion\"])\n",
        "group_stats"
      ],
      "execution_count": 12,
      "outputs": [
        {
          "output_type": "stream",
          "name": "stdout",
          "text": "Overall label proportion = 9.7%\n"
        },
        {
          "output_type": "execute_result",
          "data": {
            "text/plain": "       Topic group Group proportion Label proportion\n0        sexuality            1.30%            37.0%\n1  gender identity            5.34%             7.7%\n2         religion            1.87%             8.6%\n3             race            4.82%             9.2%",
            "text/html": "<div>\n<style scoped>\n    .dataframe tbody tr th:only-of-type {\n        vertical-align: middle;\n    }\n\n    .dataframe tbody tr th {\n        vertical-align: top;\n    }\n\n    .dataframe thead th {\n        text-align: right;\n    }\n</style>\n<table border=\"1\" class=\"dataframe\">\n  <thead>\n    <tr style=\"text-align: right;\">\n      <th></th>\n      <th>Topic group</th>\n      <th>Group proportion</th>\n      <th>Label proportion</th>\n    </tr>\n  </thead>\n  <tbody>\n    <tr>\n      <th>0</th>\n      <td>sexuality</td>\n      <td>1.30%</td>\n      <td>37.0%</td>\n    </tr>\n    <tr>\n      <th>1</th>\n      <td>gender identity</td>\n      <td>5.34%</td>\n      <td>7.7%</td>\n    </tr>\n    <tr>\n      <th>2</th>\n      <td>religion</td>\n      <td>1.87%</td>\n      <td>8.6%</td>\n    </tr>\n    <tr>\n      <th>3</th>\n      <td>race</td>\n      <td>4.82%</td>\n      <td>9.2%</td>\n    </tr>\n  </tbody>\n</table>\n</div>"
          },
          "metadata": {},
          "execution_count": 12
        }
      ]
    },
    {
      "cell_type": "markdown",
      "metadata": {
        "id": "aG5ZKKrVWs9O",
        "colab_type": "text"
      },
      "source": [
        "In particular, only 1.3% of the dataset contains comments related to sexuality. Among them, 37% of the comments have been annotated as being toxic. Note that this is significantly larger than the overall proportion of comments annotated as toxic."
      ]
    },
    {
      "cell_type": "markdown",
      "metadata": {
        "id": "5DkJpKaLWs9P",
        "colab_type": "text"
      },
      "source": [
        "## Build CNN toxicity prediction model"
      ]
    },
    {
      "cell_type": "markdown",
      "metadata": {
        "id": "niJ4KIJgWs9Q",
        "colab_type": "text"
      },
      "source": [
        "Having prepared the dataset, we now build a `Keras` model for prediction toxicity. The model we use is a convolutional neural network (CNN) with the same architecture used by the Conversation AI project for their debiasing analysis. We adapt <a href=\"https://github.com/conversationai/unintended-ml-bias-analysis/blob/master/unintended_ml_bias/model_tool.py\">code</a> provided by them to construct the model layers.\n",
        "\n",
        "The model uses an embedding layer to convert the text tokens to fixed-length vectors. This layer converts the input text sequence into a sequence of vectors, and passes them through several layers of convolution and pooling operations, followed by a final fully-connected layer.\n",
        "\n",
        "We make use of pre-trained GloVe word vector emebeddings, which we download below. This may take a few minutes to complete!"
      ]
    },
    {
      "cell_type": "code",
      "metadata": {
        "id": "yevbBL2oWs9Q",
        "colab_type": "code",
        "colab": {}
      },
      "source": [
        "zip_file_url = \"http://nlp.stanford.edu/data/glove.6B.zip\"\n",
        "zip_file = request.urlopen(zip_file_url)\n",
        "archive = zipfile.ZipFile(io.BytesIO(zip_file.read()))"
      ],
      "execution_count": 13,
      "outputs": []
    },
    {
      "cell_type": "markdown",
      "metadata": {
        "id": "a11-YWDnWs9S",
        "colab_type": "text"
      },
      "source": [
        "We use the the downloaded GloVe embeddings to create an embedding matrix, where the rows contain the word embeddings for the tokens in the `Tokenizer`'s vocabulary. "
      ]
    },
    {
      "cell_type": "code",
      "metadata": {
        "id": "bBS74MMYWs9T",
        "colab_type": "code",
        "colab": {}
      },
      "source": [
        "embeddings_index = {}\n",
        "glove_file = \"glove.6B.100d.txt\"\n",
        "\n",
        "with archive.open(glove_file) as f:\n",
        "    for line in f:\n",
        "        values = line.split()\n",
        "        word = values[0].decode(\"utf-8\")\n",
        "        coefs = np.asarray(values[1:], dtype=\"float32\")\n",
        "        embeddings_index[word] = coefs\n",
        "\n",
        "embedding_matrix = np.zeros((len(tokenizer.word_index) + 1, hparams[\"embedding_dim\"]))\n",
        "num_words_in_embedding = 0\n",
        "for word, i in tokenizer.word_index.items():\n",
        "    embedding_vector = embeddings_index.get(word)\n",
        "    if embedding_vector is not None:\n",
        "        num_words_in_embedding += 1\n",
        "        embedding_matrix[i] = embedding_vector"
      ],
      "execution_count": 14,
      "outputs": []
    },
    {
      "cell_type": "markdown",
      "metadata": {
        "id": "t9NVp-_eWs9V",
        "colab_type": "text"
      },
      "source": [
        "We are now ready to specify the `Keras` layers. We write a function to create a new model, which we will invoke whenever we wish to train a new model."
      ]
    },
    {
      "cell_type": "code",
      "metadata": {
        "id": "_f_DhA6OWs9W",
        "colab_type": "code",
        "colab": {}
      },
      "source": [
        "def create_model():\n",
        "    model = keras.Sequential()\n",
        "\n",
        "    # Embedding layer.\n",
        "    embedding_layer = layers.Embedding(\n",
        "        embedding_matrix.shape[0], embedding_matrix.shape[1], weights=[embedding_matrix],\n",
        "        input_length=hparams[\"max_sequence_length\"], trainable=hparams['embedding_trainable'])\n",
        "    model.add(embedding_layer)\n",
        "\n",
        "    # Convolution layers.\n",
        "    for filter_size, kernel_size, pool_size in zip(\n",
        "        hparams['cnn_filter_sizes'], hparams['cnn_kernel_sizes'], hparams['cnn_pooling_sizes']):\n",
        "\n",
        "        conv_layer = layers.Conv1D(filter_size, kernel_size, activation='relu', padding='same')\n",
        "        model.add(conv_layer)\n",
        "\n",
        "        pooled_layer = layers.MaxPooling1D(pool_size, padding='same')\n",
        "        model.add(pooled_layer)\n",
        "\n",
        "    # Add a flatten layer, a fully-connected layer and an output layer.\n",
        "    model.add(layers.Flatten())\n",
        "    model.add(layers.Dense(128, activation='relu'))\n",
        "    model.add(layers.Dense(1))\n",
        "\n",
        "    return model"
      ],
      "execution_count": 15,
      "outputs": []
    },
    {
      "cell_type": "markdown",
      "metadata": {
        "id": "X-_fKjDtWs9Y",
        "colab_type": "text"
      },
      "source": [
        "## Evaluation and plotting functions"
      ]
    },
    {
      "cell_type": "markdown",
      "metadata": {
        "id": "k009haGaWs9Z",
        "colab_type": "text"
      },
      "source": [
        "Before proceeding to training the model, we will write functions to evaluate the overall error rate, the overall false negative rate and the overall false positive rate for the given labels and predictions. We also include functions to evaluate the false positive and false negative rates for individual groups."
      ]
    },
    {
      "cell_type": "code",
      "metadata": {
        "id": "JF8-ENxOWs9Z",
        "colab_type": "code",
        "colab": {}
      },
      "source": [
        "def error_rate(labels, predictions):\n",
        "    # Returns error rate for given labels and predictions.\n",
        "    # Recall that the labels are binary (0 or 1).\n",
        "    signed_labels = (labels * 2) - 1\n",
        "    return np.mean(signed_labels * predictions <= 0.0)\n",
        "\n",
        "\n",
        "def false_negative_rate(labels, predictions):\n",
        "    # Returns false negative rate for given labels and predictions.\n",
        "    if np.sum(labels > 0) == 0:  # Any positives?\n",
        "        return 0.0\n",
        "    else:\n",
        "        return np.mean(predictions[labels > 0] <= 0)\n",
        "\n",
        "\n",
        "def false_positive_rate(labels, predictions):\n",
        "    # Returns false positive rate for given labels and predictions.\n",
        "    if np.sum(labels <= 0) == 0:  # Any negatives?\n",
        "        return 0.0\n",
        "    else:\n",
        "        return np.mean(predictions[labels <= 0] > 0)\n",
        "\n",
        "\n",
        "def group_false_negative_rates(labels, predictions, groups):\n",
        "    # Returns list of per-group false negative rates for given labels,\n",
        "    # predictions and group membership matrix.\n",
        "    fnrs = []\n",
        "    for ii in range(groups.shape[1]):\n",
        "        labels_ii = labels[groups[:, ii] == 1]\n",
        "        if np.sum(labels_ii > 0) > 0:  # Any positives?\n",
        "            predictions_ii = predictions[groups[:, ii] == 1]\n",
        "            fnr_ii = np.mean(predictions_ii[labels_ii > 0] <= 0)\n",
        "        else:\n",
        "            fnr_ii = 0.0\n",
        "        fnrs.append(fnr_ii)\n",
        "    return fnrs\n",
        "\n",
        "\n",
        "def group_false_positive_rates(labels, predictions, groups):\n",
        "    # Returns list of per-group false positive rates for given labels,\n",
        "    # predictions and group membership matrix.\n",
        "    fprs = []\n",
        "    for ii in range(groups.shape[1]):\n",
        "        labels_ii = labels[groups[:, ii] == 1]\n",
        "        if np.sum(labels_ii <= 0) > 0:  # Any negatives?\n",
        "            predictions_ii = predictions[groups[:, ii] == 1]\n",
        "            fpr_ii = np.mean(predictions_ii[labels_ii <= 0] > 0)\n",
        "        else:\n",
        "            fpr_ii = 0.0\n",
        "        fprs.append(fpr_ii)\n",
        "    return fprs"
      ],
      "execution_count": 16,
      "outputs": []
    },
    {
      "cell_type": "markdown",
      "metadata": {
        "id": "lgScXhMUWs9c",
        "colab_type": "text"
      },
      "source": [
        "We also write a function to generate a bar plot of the above metrics for given labels, predictions and group information. "
      ]
    },
    {
      "cell_type": "code",
      "metadata": {
        "id": "8xIRl8f4Ws9d",
        "colab_type": "code",
        "colab": {}
      },
      "source": [
        "# Set plot fonts.\n",
        "plt.rcParams['font.sans-serif'] = \"Liberation Sans\"\n",
        "plt.rcParams['font.family'] = \"sans-serif\"\n",
        "plt.rcParams['font.size'] = 13\n",
        "\n",
        "# Color-blind friendly color palette from https://gist.github.com/thriveth/8560036\n",
        "cb_palette = [\"#377eb8\", \"#ff7f00\", \"#4daf4a\", \"#f781bf\", \"#a65628\", \"#984ea3\",\n",
        "              \"#e41a1c\", \"#dede00\", \"#999999\"]"
      ],
      "execution_count": 17,
      "outputs": []
    },
    {
      "cell_type": "code",
      "metadata": {
        "id": "W3Sp7mpsWs9f",
        "colab_type": "code",
        "colab": {}
      },
      "source": [
        "def plot_metrics(labels, predictions, groups, group_names, title):\n",
        "    # Plot overall FPR, overall FNR, per-group FPRs, per-group FNRs for given labels,\n",
        "    # predictions, group membership matrix, group names, and plot title.\n",
        "\n",
        "    # Evaluate all the above metrics.\n",
        "    overall_error = error_rate(labels, predictions)\n",
        "    overall_fpr = false_positive_rate(labels, predictions)\n",
        "    overall_fnr = false_negative_rate(labels, predictions)\n",
        "    group_fprs = group_false_positive_rates(labels, predictions, groups)\n",
        "    group_fnrs = group_false_negative_rates(labels, predictions, groups)\n",
        "\n",
        "    # Plot bar plot overall and per-group FPRs and FNRs.\n",
        "    fig, ax = plt.subplots(1, 2, figsize=(8, 3))\n",
        "\n",
        "    fpr_percentages = [x * 100 for x in [overall_fpr] + group_fprs]\n",
        "    fnr_percentages = [x * 100 for x in [overall_fnr] + group_fnrs]\n",
        "\n",
        "    ax[0].barh(-np.arange(len(group_names) + 1), fpr_percentages, color=cb_palette)\n",
        "    ax[0].set_yticks(-np.arange(len(group_names) + 1))\n",
        "    ax[0].set_yticklabels([\"overall\"] + group_names)\n",
        "    ax[0].set_xlabel(\"False Positive Rate %\")\n",
        "    ax[0].set_xlim([0, max(10, max(fpr_percentages) + 1)])\n",
        "\n",
        "    ax[1].barh(-np.arange(len(group_names) + 1), fnr_percentages, color=cb_palette)\n",
        "    ax[1].set_yticks(-np.arange(len(group_names) + 1))\n",
        "    ax[1].set_yticklabels([\"overall\"] + group_names)\n",
        "    ax[1].set_xlabel(\"False Negative Rate %\")\n",
        "    ax[1].set_xlim([0, max(fnr_percentages) + 1])\n",
        "\n",
        "    fig.tight_layout()\n",
        "\n",
        "    # Specify accuracy rate in the plot title.\n",
        "    fig.suptitle(title + \": Accuracy = %.2f%%\" % ((1 - overall_error) * 100),\n",
        "                 x=0.55, y=1.1)"
      ],
      "execution_count": 18,
      "outputs": []
    },
    {
      "cell_type": "markdown",
      "metadata": {
        "id": "8aWNc4CdWs9h",
        "colab_type": "text"
      },
      "source": [
        "## Train unconstrained model"
      ]
    },
    {
      "cell_type": "markdown",
      "metadata": {
        "id": "DuSA8qL7Ws9i",
        "colab_type": "text"
      },
      "source": [
        "For the first model we train, we optimize a simple cross-entropy loss *without* any constraints.\n",
        "\n",
        "**Note**: The following code cell may take several minutes to run."
      ]
    },
    {
      "cell_type": "code",
      "metadata": {
        "id": "C9O4h6dOWs9r",
        "colab_type": "code",
        "colab": {
          "base_uri": "https://localhost:8080/",
          "height": 119
        },
        "outputId": "cc34a425-ba55-43c1-df7d-e041ab5a1ff5"
      },
      "source": [
        "# Set random seed for reproducible results.\n",
        "np.random.seed(121212)\n",
        "tf.random.set_seed(121212)\n",
        "\n",
        "# Optimizer and loss.\n",
        "optimizer = tf.keras.optimizers.Adam(learning_rate=hparams[\"learning_rate\"])\n",
        "loss = lambda y_true, y_pred: tf.keras.losses.binary_crossentropy(\n",
        "    y_true, y_pred, from_logits=True)\n",
        "\n",
        "# Create, compile and fit model.\n",
        "model_unconstrained = create_model()\n",
        "model_unconstrained.compile(optimizer=optimizer, loss=loss)\n",
        "model_unconstrained.fit(\n",
        "    x=text_train, y=labels_train, batch_size=hparams[\"batch_size\"], epochs=2)"
      ],
      "execution_count": 20,
      "outputs": [
        {
          "output_type": "stream",
          "name": "stdout",
          "text": "Train on 95692 samples\nEpoch 1/2\n95692/95692 [==============================] - 8s 87us/sample - loss: 0.1584\nEpoch 2/2\n95692/95692 [==============================] - 5s 57us/sample - loss: 0.1193\n"
        },
        {
          "output_type": "execute_result",
          "data": {
            "text/plain": "<tensorflow.python.keras.callbacks.History at 0x7fe7d72f5610>"
          },
          "metadata": {},
          "execution_count": 20
        }
      ]
    },
    {
      "cell_type": "markdown",
      "metadata": {
        "id": "p7AvIdktWs9t",
        "colab_type": "text"
      },
      "source": [
        "Having trained the unconstrained model, we plot various evaluation metrics for the model on the test set."
      ]
    },
    {
      "cell_type": "code",
      "metadata": {
        "id": "NnxMvQreMdwv",
        "colab_type": "code",
        "outputId": "ab6b6e75-ab6b-4285-c73d-d0ac7fb3849f",
        "colab": {
          "base_uri": "https://localhost:8080/",
          "height": 254
        }
      },
      "source": [
        "scores_unconstrained_test = model_unconstrained.predict(text_test)\n",
        "plot_metrics(labels_test, scores_unconstrained_test, groups_test, group_names,\n",
        "             \"Unconstrained Model\")"
      ],
      "execution_count": 21,
      "outputs": [
        {
          "output_type": "stream",
          "name": "stderr",
          "text": "findfont: Font family ['sans-serif'] not found. Falling back to DejaVu Sans.\nfindfont: Font family ['sans-serif'] not found. Falling back to DejaVu Sans.\n"
        },
        {
          "output_type": "display_data",
          "data": {
            "text/plain": "<Figure size 576x216 with 2 Axes>",
            "image/svg+xml": "<?xml version=\"1.0\" encoding=\"utf-8\" standalone=\"no\"?>\n<!DOCTYPE svg PUBLIC \"-//W3C//DTD SVG 1.1//EN\"\n  \"http://www.w3.org/Graphics/SVG/1.1/DTD/svg11.dtd\">\n<!-- Created with matplotlib (https://matplotlib.org/) -->\n<svg height=\"237.123125pt\" version=\"1.1\" viewBox=\"0 0 561.264687 237.123125\" width=\"561.264687pt\" xmlns=\"http://www.w3.org/2000/svg\" xmlns:xlink=\"http://www.w3.org/1999/xlink\">\n <defs>\n  <style type=\"text/css\">\n*{stroke-linecap:butt;stroke-linejoin:round;}\n  </style>\n </defs>\n <g id=\"figure_1\">\n  <g id=\"patch_1\">\n   <path d=\"M 0 237.123125 \nL 561.264687 237.123125 \nL 561.264687 -0 \nL 0 -0 \nz\n\" style=\"fill:none;\"/>\n  </g>\n  <g id=\"axes_1\">\n   <g id=\"patch_2\">\n    <path d=\"M 114.019688 193.76 \nL 271.903343 193.76 \nL 271.903343 42.84 \nL 114.019688 42.84 \nz\n\" style=\"fill:#ffffff;\"/>\n   </g>\n   <g id=\"patch_3\">\n    <path clip-path=\"url(#pdbffb03209)\" d=\"M 114.019688 72.566667 \nL 138.730658 72.566667 \nL 138.730658 49.7 \nL 114.019688 49.7 \nz\n\" style=\"fill:#377eb8;\"/>\n   </g>\n   <g id=\"patch_4\">\n    <path clip-path=\"url(#pdbffb03209)\" d=\"M 114.019688 101.15 \nL 261.686403 101.15 \nL 261.686403 78.283333 \nL 114.019688 78.283333 \nz\n\" style=\"fill:#ff7f00;\"/>\n   </g>\n   <g id=\"patch_5\">\n    <path clip-path=\"url(#pdbffb03209)\" d=\"M 114.019688 129.733333 \nL 143.679737 129.733333 \nL 143.679737 106.866667 \nL 114.019688 106.866667 \nz\n\" style=\"fill:#4daf4a;\"/>\n   </g>\n   <g id=\"patch_6\">\n    <path clip-path=\"url(#pdbffb03209)\" d=\"M 114.019688 158.316667 \nL 136.493499 158.316667 \nL 136.493499 135.45 \nL 114.019688 135.45 \nz\n\" style=\"fill:#f781bf;\"/>\n   </g>\n   <g id=\"patch_7\">\n    <path clip-path=\"url(#pdbffb03209)\" d=\"M 114.019688 186.9 \nL 140.711259 186.9 \nL 140.711259 164.033333 \nL 114.019688 164.033333 \nz\n\" style=\"fill:#a65628;\"/>\n   </g>\n   <g id=\"matplotlib.axis_1\">\n    <g id=\"xtick_1\">\n     <g id=\"line2d_1\">\n      <defs>\n       <path d=\"M 0 0 \nL 0 3.5 \n\" id=\"md53a8612c7\" style=\"stroke:#000000;stroke-width:0.8;\"/>\n      </defs>\n      <g>\n       <use style=\"stroke:#000000;stroke-width:0.8;\" x=\"114.019688\" xlink:href=\"#md53a8612c7\" y=\"193.76\"/>\n      </g>\n     </g>\n     <g id=\"text_1\">\n      <!-- 0 -->\n      <defs>\n       <path d=\"M 31.78125 66.40625 \nQ 24.171875 66.40625 20.328125 58.90625 \nQ 16.5 51.421875 16.5 36.375 \nQ 16.5 21.390625 20.328125 13.890625 \nQ 24.171875 6.390625 31.78125 6.390625 \nQ 39.453125 6.390625 43.28125 13.890625 \nQ 47.125 21.390625 47.125 36.375 \nQ 47.125 51.421875 43.28125 58.90625 \nQ 39.453125 66.40625 31.78125 66.40625 \nz\nM 31.78125 74.21875 \nQ 44.046875 74.21875 50.515625 64.515625 \nQ 56.984375 54.828125 56.984375 36.375 \nQ 56.984375 17.96875 50.515625 8.265625 \nQ 44.046875 -1.421875 31.78125 -1.421875 \nQ 19.53125 -1.421875 13.0625 8.265625 \nQ 6.59375 17.96875 6.59375 36.375 \nQ 6.59375 54.828125 13.0625 64.515625 \nQ 19.53125 74.21875 31.78125 74.21875 \nz\n\" id=\"DejaVuSans-48\"/>\n      </defs>\n      <g transform=\"translate(109.884062 210.637969)scale(0.13 -0.13)\">\n       <use xlink:href=\"#DejaVuSans-48\"/>\n      </g>\n     </g>\n    </g>\n    <g id=\"xtick_2\">\n     <g id=\"line2d_2\">\n      <g>\n       <use style=\"stroke:#000000;stroke-width:0.8;\" x=\"165.104389\" xlink:href=\"#md53a8612c7\" y=\"193.76\"/>\n      </g>\n     </g>\n     <g id=\"text_2\">\n      <!-- 5 -->\n      <defs>\n       <path d=\"M 10.796875 72.90625 \nL 49.515625 72.90625 \nL 49.515625 64.59375 \nL 19.828125 64.59375 \nL 19.828125 46.734375 \nQ 21.96875 47.46875 24.109375 47.828125 \nQ 26.265625 48.1875 28.421875 48.1875 \nQ 40.625 48.1875 47.75 41.5 \nQ 54.890625 34.8125 54.890625 23.390625 \nQ 54.890625 11.625 47.5625 5.09375 \nQ 40.234375 -1.421875 26.90625 -1.421875 \nQ 22.3125 -1.421875 17.546875 -0.640625 \nQ 12.796875 0.140625 7.71875 1.703125 \nL 7.71875 11.625 \nQ 12.109375 9.234375 16.796875 8.0625 \nQ 21.484375 6.890625 26.703125 6.890625 \nQ 35.15625 6.890625 40.078125 11.328125 \nQ 45.015625 15.765625 45.015625 23.390625 \nQ 45.015625 31 40.078125 35.4375 \nQ 35.15625 39.890625 26.703125 39.890625 \nQ 22.75 39.890625 18.8125 39.015625 \nQ 14.890625 38.140625 10.796875 36.28125 \nz\n\" id=\"DejaVuSans-53\"/>\n      </defs>\n      <g transform=\"translate(160.968764 210.637969)scale(0.13 -0.13)\">\n       <use xlink:href=\"#DejaVuSans-53\"/>\n      </g>\n     </g>\n    </g>\n    <g id=\"xtick_3\">\n     <g id=\"line2d_3\">\n      <g>\n       <use style=\"stroke:#000000;stroke-width:0.8;\" x=\"216.189091\" xlink:href=\"#md53a8612c7\" y=\"193.76\"/>\n      </g>\n     </g>\n     <g id=\"text_3\">\n      <!-- 10 -->\n      <defs>\n       <path d=\"M 12.40625 8.296875 \nL 28.515625 8.296875 \nL 28.515625 63.921875 \nL 10.984375 60.40625 \nL 10.984375 69.390625 \nL 28.421875 72.90625 \nL 38.28125 72.90625 \nL 38.28125 8.296875 \nL 54.390625 8.296875 \nL 54.390625 0 \nL 12.40625 0 \nz\n\" id=\"DejaVuSans-49\"/>\n      </defs>\n      <g transform=\"translate(207.917841 210.637969)scale(0.13 -0.13)\">\n       <use xlink:href=\"#DejaVuSans-49\"/>\n       <use x=\"63.623047\" xlink:href=\"#DejaVuSans-48\"/>\n      </g>\n     </g>\n    </g>\n    <g id=\"xtick_4\">\n     <g id=\"line2d_4\">\n      <g>\n       <use style=\"stroke:#000000;stroke-width:0.8;\" x=\"267.273792\" xlink:href=\"#md53a8612c7\" y=\"193.76\"/>\n      </g>\n     </g>\n     <g id=\"text_4\">\n      <!-- 15 -->\n      <g transform=\"translate(259.002542 210.637969)scale(0.13 -0.13)\">\n       <use xlink:href=\"#DejaVuSans-49\"/>\n       <use x=\"63.623047\" xlink:href=\"#DejaVuSans-53\"/>\n      </g>\n     </g>\n    </g>\n    <g id=\"text_5\">\n     <!-- False Positive Rate % -->\n     <defs>\n      <path d=\"M 9.8125 72.90625 \nL 51.703125 72.90625 \nL 51.703125 64.59375 \nL 19.671875 64.59375 \nL 19.671875 43.109375 \nL 48.578125 43.109375 \nL 48.578125 34.8125 \nL 19.671875 34.8125 \nL 19.671875 0 \nL 9.8125 0 \nz\n\" id=\"DejaVuSans-70\"/>\n      <path d=\"M 34.28125 27.484375 \nQ 23.390625 27.484375 19.1875 25 \nQ 14.984375 22.515625 14.984375 16.5 \nQ 14.984375 11.71875 18.140625 8.90625 \nQ 21.296875 6.109375 26.703125 6.109375 \nQ 34.1875 6.109375 38.703125 11.40625 \nQ 43.21875 16.703125 43.21875 25.484375 \nL 43.21875 27.484375 \nz\nM 52.203125 31.203125 \nL 52.203125 0 \nL 43.21875 0 \nL 43.21875 8.296875 \nQ 40.140625 3.328125 35.546875 0.953125 \nQ 30.953125 -1.421875 24.3125 -1.421875 \nQ 15.921875 -1.421875 10.953125 3.296875 \nQ 6 8.015625 6 15.921875 \nQ 6 25.140625 12.171875 29.828125 \nQ 18.359375 34.515625 30.609375 34.515625 \nL 43.21875 34.515625 \nL 43.21875 35.40625 \nQ 43.21875 41.609375 39.140625 45 \nQ 35.0625 48.390625 27.6875 48.390625 \nQ 23 48.390625 18.546875 47.265625 \nQ 14.109375 46.140625 10.015625 43.890625 \nL 10.015625 52.203125 \nQ 14.9375 54.109375 19.578125 55.046875 \nQ 24.21875 56 28.609375 56 \nQ 40.484375 56 46.34375 49.84375 \nQ 52.203125 43.703125 52.203125 31.203125 \nz\n\" id=\"DejaVuSans-97\"/>\n      <path d=\"M 9.421875 75.984375 \nL 18.40625 75.984375 \nL 18.40625 0 \nL 9.421875 0 \nz\n\" id=\"DejaVuSans-108\"/>\n      <path d=\"M 44.28125 53.078125 \nL 44.28125 44.578125 \nQ 40.484375 46.53125 36.375 47.5 \nQ 32.28125 48.484375 27.875 48.484375 \nQ 21.1875 48.484375 17.84375 46.4375 \nQ 14.5 44.390625 14.5 40.28125 \nQ 14.5 37.15625 16.890625 35.375 \nQ 19.28125 33.59375 26.515625 31.984375 \nL 29.59375 31.296875 \nQ 39.15625 29.25 43.1875 25.515625 \nQ 47.21875 21.78125 47.21875 15.09375 \nQ 47.21875 7.46875 41.1875 3.015625 \nQ 35.15625 -1.421875 24.609375 -1.421875 \nQ 20.21875 -1.421875 15.453125 -0.5625 \nQ 10.6875 0.296875 5.421875 2 \nL 5.421875 11.28125 \nQ 10.40625 8.6875 15.234375 7.390625 \nQ 20.0625 6.109375 24.8125 6.109375 \nQ 31.15625 6.109375 34.5625 8.28125 \nQ 37.984375 10.453125 37.984375 14.40625 \nQ 37.984375 18.0625 35.515625 20.015625 \nQ 33.0625 21.96875 24.703125 23.78125 \nL 21.578125 24.515625 \nQ 13.234375 26.265625 9.515625 29.90625 \nQ 5.8125 33.546875 5.8125 39.890625 \nQ 5.8125 47.609375 11.28125 51.796875 \nQ 16.75 56 26.8125 56 \nQ 31.78125 56 36.171875 55.265625 \nQ 40.578125 54.546875 44.28125 53.078125 \nz\n\" id=\"DejaVuSans-115\"/>\n      <path d=\"M 56.203125 29.59375 \nL 56.203125 25.203125 \nL 14.890625 25.203125 \nQ 15.484375 15.921875 20.484375 11.0625 \nQ 25.484375 6.203125 34.421875 6.203125 \nQ 39.59375 6.203125 44.453125 7.46875 \nQ 49.3125 8.734375 54.109375 11.28125 \nL 54.109375 2.78125 \nQ 49.265625 0.734375 44.1875 -0.34375 \nQ 39.109375 -1.421875 33.890625 -1.421875 \nQ 20.796875 -1.421875 13.15625 6.1875 \nQ 5.515625 13.8125 5.515625 26.8125 \nQ 5.515625 40.234375 12.765625 48.109375 \nQ 20.015625 56 32.328125 56 \nQ 43.359375 56 49.78125 48.890625 \nQ 56.203125 41.796875 56.203125 29.59375 \nz\nM 47.21875 32.234375 \nQ 47.125 39.59375 43.09375 43.984375 \nQ 39.0625 48.390625 32.421875 48.390625 \nQ 24.90625 48.390625 20.390625 44.140625 \nQ 15.875 39.890625 15.1875 32.171875 \nz\n\" id=\"DejaVuSans-101\"/>\n      <path id=\"DejaVuSans-32\"/>\n      <path d=\"M 19.671875 64.796875 \nL 19.671875 37.40625 \nL 32.078125 37.40625 \nQ 38.96875 37.40625 42.71875 40.96875 \nQ 46.484375 44.53125 46.484375 51.125 \nQ 46.484375 57.671875 42.71875 61.234375 \nQ 38.96875 64.796875 32.078125 64.796875 \nz\nM 9.8125 72.90625 \nL 32.078125 72.90625 \nQ 44.34375 72.90625 50.609375 67.359375 \nQ 56.890625 61.8125 56.890625 51.125 \nQ 56.890625 40.328125 50.609375 34.8125 \nQ 44.34375 29.296875 32.078125 29.296875 \nL 19.671875 29.296875 \nL 19.671875 0 \nL 9.8125 0 \nz\n\" id=\"DejaVuSans-80\"/>\n      <path d=\"M 30.609375 48.390625 \nQ 23.390625 48.390625 19.1875 42.75 \nQ 14.984375 37.109375 14.984375 27.296875 \nQ 14.984375 17.484375 19.15625 11.84375 \nQ 23.34375 6.203125 30.609375 6.203125 \nQ 37.796875 6.203125 41.984375 11.859375 \nQ 46.1875 17.53125 46.1875 27.296875 \nQ 46.1875 37.015625 41.984375 42.703125 \nQ 37.796875 48.390625 30.609375 48.390625 \nz\nM 30.609375 56 \nQ 42.328125 56 49.015625 48.375 \nQ 55.71875 40.765625 55.71875 27.296875 \nQ 55.71875 13.875 49.015625 6.21875 \nQ 42.328125 -1.421875 30.609375 -1.421875 \nQ 18.84375 -1.421875 12.171875 6.21875 \nQ 5.515625 13.875 5.515625 27.296875 \nQ 5.515625 40.765625 12.171875 48.375 \nQ 18.84375 56 30.609375 56 \nz\n\" id=\"DejaVuSans-111\"/>\n      <path d=\"M 9.421875 54.6875 \nL 18.40625 54.6875 \nL 18.40625 0 \nL 9.421875 0 \nz\nM 9.421875 75.984375 \nL 18.40625 75.984375 \nL 18.40625 64.59375 \nL 9.421875 64.59375 \nz\n\" id=\"DejaVuSans-105\"/>\n      <path d=\"M 18.3125 70.21875 \nL 18.3125 54.6875 \nL 36.8125 54.6875 \nL 36.8125 47.703125 \nL 18.3125 47.703125 \nL 18.3125 18.015625 \nQ 18.3125 11.328125 20.140625 9.421875 \nQ 21.96875 7.515625 27.59375 7.515625 \nL 36.8125 7.515625 \nL 36.8125 0 \nL 27.59375 0 \nQ 17.1875 0 13.234375 3.875 \nQ 9.28125 7.765625 9.28125 18.015625 \nL 9.28125 47.703125 \nL 2.6875 47.703125 \nL 2.6875 54.6875 \nL 9.28125 54.6875 \nL 9.28125 70.21875 \nz\n\" id=\"DejaVuSans-116\"/>\n      <path d=\"M 2.984375 54.6875 \nL 12.5 54.6875 \nL 29.59375 8.796875 \nL 46.6875 54.6875 \nL 56.203125 54.6875 \nL 35.6875 0 \nL 23.484375 0 \nz\n\" id=\"DejaVuSans-118\"/>\n      <path d=\"M 44.390625 34.1875 \nQ 47.5625 33.109375 50.5625 29.59375 \nQ 53.5625 26.078125 56.59375 19.921875 \nL 66.609375 0 \nL 56 0 \nL 46.6875 18.703125 \nQ 43.0625 26.03125 39.671875 28.421875 \nQ 36.28125 30.8125 30.421875 30.8125 \nL 19.671875 30.8125 \nL 19.671875 0 \nL 9.8125 0 \nL 9.8125 72.90625 \nL 32.078125 72.90625 \nQ 44.578125 72.90625 50.734375 67.671875 \nQ 56.890625 62.453125 56.890625 51.90625 \nQ 56.890625 45.015625 53.6875 40.46875 \nQ 50.484375 35.9375 44.390625 34.1875 \nz\nM 19.671875 64.796875 \nL 19.671875 38.921875 \nL 32.078125 38.921875 \nQ 39.203125 38.921875 42.84375 42.21875 \nQ 46.484375 45.515625 46.484375 51.90625 \nQ 46.484375 58.296875 42.84375 61.546875 \nQ 39.203125 64.796875 32.078125 64.796875 \nz\n\" id=\"DejaVuSans-82\"/>\n      <path d=\"M 72.703125 32.078125 \nQ 68.453125 32.078125 66.03125 28.46875 \nQ 63.625 24.859375 63.625 18.40625 \nQ 63.625 12.0625 66.03125 8.421875 \nQ 68.453125 4.78125 72.703125 4.78125 \nQ 76.859375 4.78125 79.265625 8.421875 \nQ 81.6875 12.0625 81.6875 18.40625 \nQ 81.6875 24.8125 79.265625 28.4375 \nQ 76.859375 32.078125 72.703125 32.078125 \nz\nM 72.703125 38.28125 \nQ 80.421875 38.28125 84.953125 32.90625 \nQ 89.5 27.546875 89.5 18.40625 \nQ 89.5 9.28125 84.9375 3.921875 \nQ 80.375 -1.421875 72.703125 -1.421875 \nQ 64.890625 -1.421875 60.34375 3.921875 \nQ 55.8125 9.28125 55.8125 18.40625 \nQ 55.8125 27.59375 60.375 32.9375 \nQ 64.9375 38.28125 72.703125 38.28125 \nz\nM 22.3125 68.015625 \nQ 18.109375 68.015625 15.6875 64.375 \nQ 13.28125 60.75 13.28125 54.390625 \nQ 13.28125 47.953125 15.671875 44.328125 \nQ 18.0625 40.71875 22.3125 40.71875 \nQ 26.5625 40.71875 28.96875 44.328125 \nQ 31.390625 47.953125 31.390625 54.390625 \nQ 31.390625 60.6875 28.953125 64.34375 \nQ 26.515625 68.015625 22.3125 68.015625 \nz\nM 66.40625 74.21875 \nL 74.21875 74.21875 \nL 28.609375 -1.421875 \nL 20.796875 -1.421875 \nz\nM 22.3125 74.21875 \nQ 30.03125 74.21875 34.609375 68.875 \nQ 39.203125 63.53125 39.203125 54.390625 \nQ 39.203125 45.171875 34.640625 39.84375 \nQ 30.078125 34.515625 22.3125 34.515625 \nQ 14.546875 34.515625 10.03125 39.859375 \nQ 5.515625 45.21875 5.515625 54.390625 \nQ 5.515625 63.484375 10.046875 68.84375 \nQ 14.59375 74.21875 22.3125 74.21875 \nz\n\" id=\"DejaVuSans-37\"/>\n     </defs>\n     <g transform=\"translate(123.352609 227.219531)scale(0.13 -0.13)\">\n      <use xlink:href=\"#DejaVuSans-70\"/>\n      <use x=\"57.378906\" xlink:href=\"#DejaVuSans-97\"/>\n      <use x=\"118.658203\" xlink:href=\"#DejaVuSans-108\"/>\n      <use x=\"146.441406\" xlink:href=\"#DejaVuSans-115\"/>\n      <use x=\"198.541016\" xlink:href=\"#DejaVuSans-101\"/>\n      <use x=\"260.064453\" xlink:href=\"#DejaVuSans-32\"/>\n      <use x=\"291.851562\" xlink:href=\"#DejaVuSans-80\"/>\n      <use x=\"352.107422\" xlink:href=\"#DejaVuSans-111\"/>\n      <use x=\"413.289062\" xlink:href=\"#DejaVuSans-115\"/>\n      <use x=\"465.388672\" xlink:href=\"#DejaVuSans-105\"/>\n      <use x=\"493.171875\" xlink:href=\"#DejaVuSans-116\"/>\n      <use x=\"532.380859\" xlink:href=\"#DejaVuSans-105\"/>\n      <use x=\"560.164062\" xlink:href=\"#DejaVuSans-118\"/>\n      <use x=\"619.34375\" xlink:href=\"#DejaVuSans-101\"/>\n      <use x=\"680.867188\" xlink:href=\"#DejaVuSans-32\"/>\n      <use x=\"712.654297\" xlink:href=\"#DejaVuSans-82\"/>\n      <use x=\"782.105469\" xlink:href=\"#DejaVuSans-97\"/>\n      <use x=\"843.384766\" xlink:href=\"#DejaVuSans-116\"/>\n      <use x=\"882.59375\" xlink:href=\"#DejaVuSans-101\"/>\n      <use x=\"944.117188\" xlink:href=\"#DejaVuSans-32\"/>\n      <use x=\"975.904297\" xlink:href=\"#DejaVuSans-37\"/>\n     </g>\n    </g>\n   </g>\n   <g id=\"matplotlib.axis_2\">\n    <g id=\"ytick_1\">\n     <g id=\"line2d_5\">\n      <defs>\n       <path d=\"M 0 0 \nL -3.5 0 \n\" id=\"mbc6363fe65\" style=\"stroke:#000000;stroke-width:0.8;\"/>\n      </defs>\n      <g>\n       <use style=\"stroke:#000000;stroke-width:0.8;\" x=\"114.019688\" xlink:href=\"#mbc6363fe65\" y=\"61.133333\"/>\n      </g>\n     </g>\n     <g id=\"text_6\">\n      <!-- overall -->\n      <defs>\n       <path d=\"M 41.109375 46.296875 \nQ 39.59375 47.171875 37.8125 47.578125 \nQ 36.03125 48 33.890625 48 \nQ 26.265625 48 22.1875 43.046875 \nQ 18.109375 38.09375 18.109375 28.8125 \nL 18.109375 0 \nL 9.078125 0 \nL 9.078125 54.6875 \nL 18.109375 54.6875 \nL 18.109375 46.1875 \nQ 20.953125 51.171875 25.484375 53.578125 \nQ 30.03125 56 36.53125 56 \nQ 37.453125 56 38.578125 55.875 \nQ 39.703125 55.765625 41.0625 55.515625 \nz\n\" id=\"DejaVuSans-114\"/>\n      </defs>\n      <g transform=\"translate(62.837969 66.072318)scale(0.13 -0.13)\">\n       <use xlink:href=\"#DejaVuSans-111\"/>\n       <use x=\"61.181641\" xlink:href=\"#DejaVuSans-118\"/>\n       <use x=\"120.361328\" xlink:href=\"#DejaVuSans-101\"/>\n       <use x=\"181.884766\" xlink:href=\"#DejaVuSans-114\"/>\n       <use x=\"222.998047\" xlink:href=\"#DejaVuSans-97\"/>\n       <use x=\"284.277344\" xlink:href=\"#DejaVuSans-108\"/>\n       <use x=\"312.060547\" xlink:href=\"#DejaVuSans-108\"/>\n      </g>\n     </g>\n    </g>\n    <g id=\"ytick_2\">\n     <g id=\"line2d_6\">\n      <g>\n       <use style=\"stroke:#000000;stroke-width:0.8;\" x=\"114.019688\" xlink:href=\"#mbc6363fe65\" y=\"89.716667\"/>\n      </g>\n     </g>\n     <g id=\"text_7\">\n      <!-- sexuality -->\n      <defs>\n       <path d=\"M 54.890625 54.6875 \nL 35.109375 28.078125 \nL 55.90625 0 \nL 45.3125 0 \nL 29.390625 21.484375 \nL 13.484375 0 \nL 2.875 0 \nL 24.125 28.609375 \nL 4.6875 54.6875 \nL 15.28125 54.6875 \nL 29.78125 35.203125 \nL 44.28125 54.6875 \nz\n\" id=\"DejaVuSans-120\"/>\n       <path d=\"M 8.5 21.578125 \nL 8.5 54.6875 \nL 17.484375 54.6875 \nL 17.484375 21.921875 \nQ 17.484375 14.15625 20.5 10.265625 \nQ 23.53125 6.390625 29.59375 6.390625 \nQ 36.859375 6.390625 41.078125 11.03125 \nQ 45.3125 15.671875 45.3125 23.6875 \nL 45.3125 54.6875 \nL 54.296875 54.6875 \nL 54.296875 0 \nL 45.3125 0 \nL 45.3125 8.40625 \nQ 42.046875 3.421875 37.71875 1 \nQ 33.40625 -1.421875 27.6875 -1.421875 \nQ 18.265625 -1.421875 13.375 4.4375 \nQ 8.5 10.296875 8.5 21.578125 \nz\nM 31.109375 56 \nz\n\" id=\"DejaVuSans-117\"/>\n       <path d=\"M 32.171875 -5.078125 \nQ 28.375 -14.84375 24.75 -17.8125 \nQ 21.140625 -20.796875 15.09375 -20.796875 \nL 7.90625 -20.796875 \nL 7.90625 -13.28125 \nL 13.1875 -13.28125 \nQ 16.890625 -13.28125 18.9375 -11.515625 \nQ 21 -9.765625 23.484375 -3.21875 \nL 25.09375 0.875 \nL 2.984375 54.6875 \nL 12.5 54.6875 \nL 29.59375 11.921875 \nL 46.6875 54.6875 \nL 56.203125 54.6875 \nz\n\" id=\"DejaVuSans-121\"/>\n      </defs>\n      <g transform=\"translate(48.336875 94.655651)scale(0.13 -0.13)\">\n       <use xlink:href=\"#DejaVuSans-115\"/>\n       <use x=\"52.099609\" xlink:href=\"#DejaVuSans-101\"/>\n       <use x=\"113.607422\" xlink:href=\"#DejaVuSans-120\"/>\n       <use x=\"172.787109\" xlink:href=\"#DejaVuSans-117\"/>\n       <use x=\"236.166016\" xlink:href=\"#DejaVuSans-97\"/>\n       <use x=\"297.445312\" xlink:href=\"#DejaVuSans-108\"/>\n       <use x=\"325.228516\" xlink:href=\"#DejaVuSans-105\"/>\n       <use x=\"353.011719\" xlink:href=\"#DejaVuSans-116\"/>\n       <use x=\"392.220703\" xlink:href=\"#DejaVuSans-121\"/>\n      </g>\n     </g>\n    </g>\n    <g id=\"ytick_3\">\n     <g id=\"line2d_7\">\n      <g>\n       <use style=\"stroke:#000000;stroke-width:0.8;\" x=\"114.019688\" xlink:href=\"#mbc6363fe65\" y=\"118.3\"/>\n      </g>\n     </g>\n     <g id=\"text_8\">\n      <!-- gender identity -->\n      <defs>\n       <path d=\"M 45.40625 27.984375 \nQ 45.40625 37.75 41.375 43.109375 \nQ 37.359375 48.484375 30.078125 48.484375 \nQ 22.859375 48.484375 18.828125 43.109375 \nQ 14.796875 37.75 14.796875 27.984375 \nQ 14.796875 18.265625 18.828125 12.890625 \nQ 22.859375 7.515625 30.078125 7.515625 \nQ 37.359375 7.515625 41.375 12.890625 \nQ 45.40625 18.265625 45.40625 27.984375 \nz\nM 54.390625 6.78125 \nQ 54.390625 -7.171875 48.1875 -13.984375 \nQ 42 -20.796875 29.203125 -20.796875 \nQ 24.46875 -20.796875 20.265625 -20.09375 \nQ 16.0625 -19.390625 12.109375 -17.921875 \nL 12.109375 -9.1875 \nQ 16.0625 -11.328125 19.921875 -12.34375 \nQ 23.78125 -13.375 27.78125 -13.375 \nQ 36.625 -13.375 41.015625 -8.765625 \nQ 45.40625 -4.15625 45.40625 5.171875 \nL 45.40625 9.625 \nQ 42.625 4.78125 38.28125 2.390625 \nQ 33.9375 0 27.875 0 \nQ 17.828125 0 11.671875 7.65625 \nQ 5.515625 15.328125 5.515625 27.984375 \nQ 5.515625 40.671875 11.671875 48.328125 \nQ 17.828125 56 27.875 56 \nQ 33.9375 56 38.28125 53.609375 \nQ 42.625 51.21875 45.40625 46.390625 \nL 45.40625 54.6875 \nL 54.390625 54.6875 \nz\n\" id=\"DejaVuSans-103\"/>\n       <path d=\"M 54.890625 33.015625 \nL 54.890625 0 \nL 45.90625 0 \nL 45.90625 32.71875 \nQ 45.90625 40.484375 42.875 44.328125 \nQ 39.84375 48.1875 33.796875 48.1875 \nQ 26.515625 48.1875 22.3125 43.546875 \nQ 18.109375 38.921875 18.109375 30.90625 \nL 18.109375 0 \nL 9.078125 0 \nL 9.078125 54.6875 \nL 18.109375 54.6875 \nL 18.109375 46.1875 \nQ 21.34375 51.125 25.703125 53.5625 \nQ 30.078125 56 35.796875 56 \nQ 45.21875 56 50.046875 50.171875 \nQ 54.890625 44.34375 54.890625 33.015625 \nz\n\" id=\"DejaVuSans-110\"/>\n       <path d=\"M 45.40625 46.390625 \nL 45.40625 75.984375 \nL 54.390625 75.984375 \nL 54.390625 0 \nL 45.40625 0 \nL 45.40625 8.203125 \nQ 42.578125 3.328125 38.25 0.953125 \nQ 33.9375 -1.421875 27.875 -1.421875 \nQ 17.96875 -1.421875 11.734375 6.484375 \nQ 5.515625 14.40625 5.515625 27.296875 \nQ 5.515625 40.1875 11.734375 48.09375 \nQ 17.96875 56 27.875 56 \nQ 33.9375 56 38.25 53.625 \nQ 42.578125 51.265625 45.40625 46.390625 \nz\nM 14.796875 27.296875 \nQ 14.796875 17.390625 18.875 11.75 \nQ 22.953125 6.109375 30.078125 6.109375 \nQ 37.203125 6.109375 41.296875 11.75 \nQ 45.40625 17.390625 45.40625 27.296875 \nQ 45.40625 37.203125 41.296875 42.84375 \nQ 37.203125 48.484375 30.078125 48.484375 \nQ 22.953125 48.484375 18.875 42.84375 \nQ 14.796875 37.203125 14.796875 27.296875 \nz\n\" id=\"DejaVuSans-100\"/>\n      </defs>\n      <g transform=\"translate(7.2 123.238984)scale(0.13 -0.13)\">\n       <use xlink:href=\"#DejaVuSans-103\"/>\n       <use x=\"63.476562\" xlink:href=\"#DejaVuSans-101\"/>\n       <use x=\"125\" xlink:href=\"#DejaVuSans-110\"/>\n       <use x=\"188.378906\" xlink:href=\"#DejaVuSans-100\"/>\n       <use x=\"251.855469\" xlink:href=\"#DejaVuSans-101\"/>\n       <use x=\"313.378906\" xlink:href=\"#DejaVuSans-114\"/>\n       <use x=\"354.492188\" xlink:href=\"#DejaVuSans-32\"/>\n       <use x=\"386.279297\" xlink:href=\"#DejaVuSans-105\"/>\n       <use x=\"414.0625\" xlink:href=\"#DejaVuSans-100\"/>\n       <use x=\"477.539062\" xlink:href=\"#DejaVuSans-101\"/>\n       <use x=\"539.0625\" xlink:href=\"#DejaVuSans-110\"/>\n       <use x=\"602.441406\" xlink:href=\"#DejaVuSans-116\"/>\n       <use x=\"641.650391\" xlink:href=\"#DejaVuSans-105\"/>\n       <use x=\"669.433594\" xlink:href=\"#DejaVuSans-116\"/>\n       <use x=\"708.642578\" xlink:href=\"#DejaVuSans-121\"/>\n      </g>\n     </g>\n    </g>\n    <g id=\"ytick_4\">\n     <g id=\"line2d_8\">\n      <g>\n       <use style=\"stroke:#000000;stroke-width:0.8;\" x=\"114.019688\" xlink:href=\"#mbc6363fe65\" y=\"146.883333\"/>\n      </g>\n     </g>\n     <g id=\"text_9\">\n      <!-- religion -->\n      <g transform=\"translate(58.399687 151.822318)scale(0.13 -0.13)\">\n       <use xlink:href=\"#DejaVuSans-114\"/>\n       <use x=\"41.082031\" xlink:href=\"#DejaVuSans-101\"/>\n       <use x=\"102.605469\" xlink:href=\"#DejaVuSans-108\"/>\n       <use x=\"130.388672\" xlink:href=\"#DejaVuSans-105\"/>\n       <use x=\"158.171875\" xlink:href=\"#DejaVuSans-103\"/>\n       <use x=\"221.648438\" xlink:href=\"#DejaVuSans-105\"/>\n       <use x=\"249.431641\" xlink:href=\"#DejaVuSans-111\"/>\n       <use x=\"310.613281\" xlink:href=\"#DejaVuSans-110\"/>\n      </g>\n     </g>\n    </g>\n    <g id=\"ytick_5\">\n     <g id=\"line2d_9\">\n      <g>\n       <use style=\"stroke:#000000;stroke-width:0.8;\" x=\"114.019688\" xlink:href=\"#mbc6363fe65\" y=\"175.466667\"/>\n      </g>\n     </g>\n     <g id=\"text_10\">\n      <!-- race -->\n      <defs>\n       <path d=\"M 48.78125 52.59375 \nL 48.78125 44.1875 \nQ 44.96875 46.296875 41.140625 47.34375 \nQ 37.3125 48.390625 33.40625 48.390625 \nQ 24.65625 48.390625 19.8125 42.84375 \nQ 14.984375 37.3125 14.984375 27.296875 \nQ 14.984375 17.28125 19.8125 11.734375 \nQ 24.65625 6.203125 33.40625 6.203125 \nQ 37.3125 6.203125 41.140625 7.25 \nQ 44.96875 8.296875 48.78125 10.40625 \nL 48.78125 2.09375 \nQ 45.015625 0.34375 40.984375 -0.53125 \nQ 36.96875 -1.421875 32.421875 -1.421875 \nQ 20.0625 -1.421875 12.78125 6.34375 \nQ 5.515625 14.109375 5.515625 27.296875 \nQ 5.515625 40.671875 12.859375 48.328125 \nQ 20.21875 56 33.015625 56 \nQ 37.15625 56 41.109375 55.140625 \nQ 45.0625 54.296875 48.78125 52.59375 \nz\n\" id=\"DejaVuSans-99\"/>\n      </defs>\n      <g transform=\"translate(78.561875 180.405651)scale(0.13 -0.13)\">\n       <use xlink:href=\"#DejaVuSans-114\"/>\n       <use x=\"41.113281\" xlink:href=\"#DejaVuSans-97\"/>\n       <use x=\"102.392578\" xlink:href=\"#DejaVuSans-99\"/>\n       <use x=\"157.373047\" xlink:href=\"#DejaVuSans-101\"/>\n      </g>\n     </g>\n    </g>\n   </g>\n   <g id=\"patch_8\">\n    <path d=\"M 114.019688 193.76 \nL 114.019688 42.84 \n\" style=\"fill:none;stroke:#000000;stroke-linecap:square;stroke-linejoin:miter;stroke-width:0.8;\"/>\n   </g>\n   <g id=\"patch_9\">\n    <path d=\"M 271.903343 193.76 \nL 271.903343 42.84 \n\" style=\"fill:none;stroke:#000000;stroke-linecap:square;stroke-linejoin:miter;stroke-width:0.8;\"/>\n   </g>\n   <g id=\"patch_10\">\n    <path d=\"M 114.019688 193.76 \nL 271.903343 193.76 \n\" style=\"fill:none;stroke:#000000;stroke-linecap:square;stroke-linejoin:miter;stroke-width:0.8;\"/>\n   </g>\n   <g id=\"patch_11\">\n    <path d=\"M 114.019688 42.84 \nL 271.903343 42.84 \n\" style=\"fill:none;stroke:#000000;stroke-linecap:square;stroke-linejoin:miter;stroke-width:0.8;\"/>\n   </g>\n  </g>\n  <g id=\"axes_2\">\n   <g id=\"patch_12\">\n    <path d=\"M 396.181032 193.76 \nL 554.064687 193.76 \nL 554.064687 42.84 \nL 396.181032 42.84 \nz\n\" style=\"fill:#ffffff;\"/>\n   </g>\n   <g id=\"patch_13\">\n    <path clip-path=\"url(#pccda9da386)\" d=\"M 396.181032 72.566667 \nL 494.200866 72.566667 \nL 494.200866 49.7 \nL 396.181032 49.7 \nz\n\" style=\"fill:#377eb8;\"/>\n   </g>\n   <g id=\"patch_14\">\n    <path clip-path=\"url(#pccda9da386)\" d=\"M 396.181032 101.15 \nL 452.407405 101.15 \nL 452.407405 78.283333 \nL 396.181032 78.283333 \nz\n\" style=\"fill:#ff7f00;\"/>\n   </g>\n   <g id=\"patch_15\">\n    <path clip-path=\"url(#pccda9da386)\" d=\"M 396.181032 129.733333 \nL 527.911392 129.733333 \nL 527.911392 106.866667 \nL 396.181032 106.866667 \nz\n\" style=\"fill:#4daf4a;\"/>\n   </g>\n   <g id=\"patch_16\">\n    <path clip-path=\"url(#pccda9da386)\" d=\"M 396.181032 158.316667 \nL 550.016389 158.316667 \nL 550.016389 135.45 \nL 396.181032 135.45 \nz\n\" style=\"fill:#f781bf;\"/>\n   </g>\n   <g id=\"patch_17\">\n    <path clip-path=\"url(#pccda9da386)\" d=\"M 396.181032 186.9 \nL 530.230663 186.9 \nL 530.230663 164.033333 \nL 396.181032 164.033333 \nz\n\" style=\"fill:#a65628;\"/>\n   </g>\n   <g id=\"matplotlib.axis_3\">\n    <g id=\"xtick_5\">\n     <g id=\"line2d_10\">\n      <g>\n       <use style=\"stroke:#000000;stroke-width:0.8;\" x=\"396.181032\" xlink:href=\"#md53a8612c7\" y=\"193.76\"/>\n      </g>\n     </g>\n     <g id=\"text_11\">\n      <!-- 0 -->\n      <g transform=\"translate(392.045407 210.637969)scale(0.13 -0.13)\">\n       <use xlink:href=\"#DejaVuSans-48\"/>\n      </g>\n     </g>\n    </g>\n    <g id=\"xtick_6\">\n     <g id=\"line2d_11\">\n      <g>\n       <use style=\"stroke:#000000;stroke-width:0.8;\" x=\"436.66402\" xlink:href=\"#md53a8612c7\" y=\"193.76\"/>\n      </g>\n     </g>\n     <g id=\"text_12\">\n      <!-- 10 -->\n      <g transform=\"translate(428.39277 210.637969)scale(0.13 -0.13)\">\n       <use xlink:href=\"#DejaVuSans-49\"/>\n       <use x=\"63.623047\" xlink:href=\"#DejaVuSans-48\"/>\n      </g>\n     </g>\n    </g>\n    <g id=\"xtick_7\">\n     <g id=\"line2d_12\">\n      <g>\n       <use style=\"stroke:#000000;stroke-width:0.8;\" x=\"477.147009\" xlink:href=\"#md53a8612c7\" y=\"193.76\"/>\n      </g>\n     </g>\n     <g id=\"text_13\">\n      <!-- 20 -->\n      <defs>\n       <path d=\"M 19.1875 8.296875 \nL 53.609375 8.296875 \nL 53.609375 0 \nL 7.328125 0 \nL 7.328125 8.296875 \nQ 12.9375 14.109375 22.625 23.890625 \nQ 32.328125 33.6875 34.8125 36.53125 \nQ 39.546875 41.84375 41.421875 45.53125 \nQ 43.3125 49.21875 43.3125 52.78125 \nQ 43.3125 58.59375 39.234375 62.25 \nQ 35.15625 65.921875 28.609375 65.921875 \nQ 23.96875 65.921875 18.8125 64.3125 \nQ 13.671875 62.703125 7.8125 59.421875 \nL 7.8125 69.390625 \nQ 13.765625 71.78125 18.9375 73 \nQ 24.125 74.21875 28.421875 74.21875 \nQ 39.75 74.21875 46.484375 68.546875 \nQ 53.21875 62.890625 53.21875 53.421875 \nQ 53.21875 48.921875 51.53125 44.890625 \nQ 49.859375 40.875 45.40625 35.40625 \nQ 44.1875 33.984375 37.640625 27.21875 \nQ 31.109375 20.453125 19.1875 8.296875 \nz\n\" id=\"DejaVuSans-50\"/>\n      </defs>\n      <g transform=\"translate(468.875759 210.637969)scale(0.13 -0.13)\">\n       <use xlink:href=\"#DejaVuSans-50\"/>\n       <use x=\"63.623047\" xlink:href=\"#DejaVuSans-48\"/>\n      </g>\n     </g>\n    </g>\n    <g id=\"xtick_8\">\n     <g id=\"line2d_13\">\n      <g>\n       <use style=\"stroke:#000000;stroke-width:0.8;\" x=\"517.629998\" xlink:href=\"#md53a8612c7\" y=\"193.76\"/>\n      </g>\n     </g>\n     <g id=\"text_14\">\n      <!-- 30 -->\n      <defs>\n       <path d=\"M 40.578125 39.3125 \nQ 47.65625 37.796875 51.625 33 \nQ 55.609375 28.21875 55.609375 21.1875 \nQ 55.609375 10.40625 48.1875 4.484375 \nQ 40.765625 -1.421875 27.09375 -1.421875 \nQ 22.515625 -1.421875 17.65625 -0.515625 \nQ 12.796875 0.390625 7.625 2.203125 \nL 7.625 11.71875 \nQ 11.71875 9.328125 16.59375 8.109375 \nQ 21.484375 6.890625 26.8125 6.890625 \nQ 36.078125 6.890625 40.9375 10.546875 \nQ 45.796875 14.203125 45.796875 21.1875 \nQ 45.796875 27.640625 41.28125 31.265625 \nQ 36.765625 34.90625 28.71875 34.90625 \nL 20.21875 34.90625 \nL 20.21875 43.015625 \nL 29.109375 43.015625 \nQ 36.375 43.015625 40.234375 45.921875 \nQ 44.09375 48.828125 44.09375 54.296875 \nQ 44.09375 59.90625 40.109375 62.90625 \nQ 36.140625 65.921875 28.71875 65.921875 \nQ 24.65625 65.921875 20.015625 65.03125 \nQ 15.375 64.15625 9.8125 62.3125 \nL 9.8125 71.09375 \nQ 15.4375 72.65625 20.34375 73.4375 \nQ 25.25 74.21875 29.59375 74.21875 \nQ 40.828125 74.21875 47.359375 69.109375 \nQ 53.90625 64.015625 53.90625 55.328125 \nQ 53.90625 49.265625 50.4375 45.09375 \nQ 46.96875 40.921875 40.578125 39.3125 \nz\n\" id=\"DejaVuSans-51\"/>\n      </defs>\n      <g transform=\"translate(509.358748 210.637969)scale(0.13 -0.13)\">\n       <use xlink:href=\"#DejaVuSans-51\"/>\n       <use x=\"63.623047\" xlink:href=\"#DejaVuSans-48\"/>\n      </g>\n     </g>\n    </g>\n    <g id=\"text_15\">\n     <!-- False Negative Rate % -->\n     <defs>\n      <path d=\"M 9.8125 72.90625 \nL 23.09375 72.90625 \nL 55.421875 11.921875 \nL 55.421875 72.90625 \nL 64.984375 72.90625 \nL 64.984375 0 \nL 51.703125 0 \nL 19.390625 60.984375 \nL 19.390625 0 \nL 9.8125 0 \nz\n\" id=\"DejaVuSans-78\"/>\n     </defs>\n     <g transform=\"translate(401.627156 227.219531)scale(0.13 -0.13)\">\n      <use xlink:href=\"#DejaVuSans-70\"/>\n      <use x=\"57.378906\" xlink:href=\"#DejaVuSans-97\"/>\n      <use x=\"118.658203\" xlink:href=\"#DejaVuSans-108\"/>\n      <use x=\"146.441406\" xlink:href=\"#DejaVuSans-115\"/>\n      <use x=\"198.541016\" xlink:href=\"#DejaVuSans-101\"/>\n      <use x=\"260.064453\" xlink:href=\"#DejaVuSans-32\"/>\n      <use x=\"291.851562\" xlink:href=\"#DejaVuSans-78\"/>\n      <use x=\"366.65625\" xlink:href=\"#DejaVuSans-101\"/>\n      <use x=\"428.179688\" xlink:href=\"#DejaVuSans-103\"/>\n      <use x=\"491.65625\" xlink:href=\"#DejaVuSans-97\"/>\n      <use x=\"552.935547\" xlink:href=\"#DejaVuSans-116\"/>\n      <use x=\"592.144531\" xlink:href=\"#DejaVuSans-105\"/>\n      <use x=\"619.927734\" xlink:href=\"#DejaVuSans-118\"/>\n      <use x=\"679.107422\" xlink:href=\"#DejaVuSans-101\"/>\n      <use x=\"740.630859\" xlink:href=\"#DejaVuSans-32\"/>\n      <use x=\"772.417969\" xlink:href=\"#DejaVuSans-82\"/>\n      <use x=\"841.869141\" xlink:href=\"#DejaVuSans-97\"/>\n      <use x=\"903.148438\" xlink:href=\"#DejaVuSans-116\"/>\n      <use x=\"942.357422\" xlink:href=\"#DejaVuSans-101\"/>\n      <use x=\"1003.880859\" xlink:href=\"#DejaVuSans-32\"/>\n      <use x=\"1035.667969\" xlink:href=\"#DejaVuSans-37\"/>\n     </g>\n    </g>\n   </g>\n   <g id=\"matplotlib.axis_4\">\n    <g id=\"ytick_6\">\n     <g id=\"line2d_14\">\n      <g>\n       <use style=\"stroke:#000000;stroke-width:0.8;\" x=\"396.181032\" xlink:href=\"#mbc6363fe65\" y=\"61.133333\"/>\n      </g>\n     </g>\n     <g id=\"text_16\">\n      <!-- overall -->\n      <g transform=\"translate(344.999313 66.072318)scale(0.13 -0.13)\">\n       <use xlink:href=\"#DejaVuSans-111\"/>\n       <use x=\"61.181641\" xlink:href=\"#DejaVuSans-118\"/>\n       <use x=\"120.361328\" xlink:href=\"#DejaVuSans-101\"/>\n       <use x=\"181.884766\" xlink:href=\"#DejaVuSans-114\"/>\n       <use x=\"222.998047\" xlink:href=\"#DejaVuSans-97\"/>\n       <use x=\"284.277344\" xlink:href=\"#DejaVuSans-108\"/>\n       <use x=\"312.060547\" xlink:href=\"#DejaVuSans-108\"/>\n      </g>\n     </g>\n    </g>\n    <g id=\"ytick_7\">\n     <g id=\"line2d_15\">\n      <g>\n       <use style=\"stroke:#000000;stroke-width:0.8;\" x=\"396.181032\" xlink:href=\"#mbc6363fe65\" y=\"89.716667\"/>\n      </g>\n     </g>\n     <g id=\"text_17\">\n      <!-- sexuality -->\n      <g transform=\"translate(330.498219 94.655651)scale(0.13 -0.13)\">\n       <use xlink:href=\"#DejaVuSans-115\"/>\n       <use x=\"52.099609\" xlink:href=\"#DejaVuSans-101\"/>\n       <use x=\"113.607422\" xlink:href=\"#DejaVuSans-120\"/>\n       <use x=\"172.787109\" xlink:href=\"#DejaVuSans-117\"/>\n       <use x=\"236.166016\" xlink:href=\"#DejaVuSans-97\"/>\n       <use x=\"297.445312\" xlink:href=\"#DejaVuSans-108\"/>\n       <use x=\"325.228516\" xlink:href=\"#DejaVuSans-105\"/>\n       <use x=\"353.011719\" xlink:href=\"#DejaVuSans-116\"/>\n       <use x=\"392.220703\" xlink:href=\"#DejaVuSans-121\"/>\n      </g>\n     </g>\n    </g>\n    <g id=\"ytick_8\">\n     <g id=\"line2d_16\">\n      <g>\n       <use style=\"stroke:#000000;stroke-width:0.8;\" x=\"396.181032\" xlink:href=\"#mbc6363fe65\" y=\"118.3\"/>\n      </g>\n     </g>\n     <g id=\"text_18\">\n      <!-- gender identity -->\n      <g transform=\"translate(289.361344 123.238984)scale(0.13 -0.13)\">\n       <use xlink:href=\"#DejaVuSans-103\"/>\n       <use x=\"63.476562\" xlink:href=\"#DejaVuSans-101\"/>\n       <use x=\"125\" xlink:href=\"#DejaVuSans-110\"/>\n       <use x=\"188.378906\" xlink:href=\"#DejaVuSans-100\"/>\n       <use x=\"251.855469\" xlink:href=\"#DejaVuSans-101\"/>\n       <use x=\"313.378906\" xlink:href=\"#DejaVuSans-114\"/>\n       <use x=\"354.492188\" xlink:href=\"#DejaVuSans-32\"/>\n       <use x=\"386.279297\" xlink:href=\"#DejaVuSans-105\"/>\n       <use x=\"414.0625\" xlink:href=\"#DejaVuSans-100\"/>\n       <use x=\"477.539062\" xlink:href=\"#DejaVuSans-101\"/>\n       <use x=\"539.0625\" xlink:href=\"#DejaVuSans-110\"/>\n       <use x=\"602.441406\" xlink:href=\"#DejaVuSans-116\"/>\n       <use x=\"641.650391\" xlink:href=\"#DejaVuSans-105\"/>\n       <use x=\"669.433594\" xlink:href=\"#DejaVuSans-116\"/>\n       <use x=\"708.642578\" xlink:href=\"#DejaVuSans-121\"/>\n      </g>\n     </g>\n    </g>\n    <g id=\"ytick_9\">\n     <g id=\"line2d_17\">\n      <g>\n       <use style=\"stroke:#000000;stroke-width:0.8;\" x=\"396.181032\" xlink:href=\"#mbc6363fe65\" y=\"146.883333\"/>\n      </g>\n     </g>\n     <g id=\"text_19\">\n      <!-- religion -->\n      <g transform=\"translate(340.561032 151.822318)scale(0.13 -0.13)\">\n       <use xlink:href=\"#DejaVuSans-114\"/>\n       <use x=\"41.082031\" xlink:href=\"#DejaVuSans-101\"/>\n       <use x=\"102.605469\" xlink:href=\"#DejaVuSans-108\"/>\n       <use x=\"130.388672\" xlink:href=\"#DejaVuSans-105\"/>\n       <use x=\"158.171875\" xlink:href=\"#DejaVuSans-103\"/>\n       <use x=\"221.648438\" xlink:href=\"#DejaVuSans-105\"/>\n       <use x=\"249.431641\" xlink:href=\"#DejaVuSans-111\"/>\n       <use x=\"310.613281\" xlink:href=\"#DejaVuSans-110\"/>\n      </g>\n     </g>\n    </g>\n    <g id=\"ytick_10\">\n     <g id=\"line2d_18\">\n      <g>\n       <use style=\"stroke:#000000;stroke-width:0.8;\" x=\"396.181032\" xlink:href=\"#mbc6363fe65\" y=\"175.466667\"/>\n      </g>\n     </g>\n     <g id=\"text_20\">\n      <!-- race -->\n      <g transform=\"translate(360.723219 180.405651)scale(0.13 -0.13)\">\n       <use xlink:href=\"#DejaVuSans-114\"/>\n       <use x=\"41.113281\" xlink:href=\"#DejaVuSans-97\"/>\n       <use x=\"102.392578\" xlink:href=\"#DejaVuSans-99\"/>\n       <use x=\"157.373047\" xlink:href=\"#DejaVuSans-101\"/>\n      </g>\n     </g>\n    </g>\n   </g>\n   <g id=\"patch_18\">\n    <path d=\"M 396.181032 193.76 \nL 396.181032 42.84 \n\" style=\"fill:none;stroke:#000000;stroke-linecap:square;stroke-linejoin:miter;stroke-width:0.8;\"/>\n   </g>\n   <g id=\"patch_19\">\n    <path d=\"M 554.064687 193.76 \nL 554.064687 42.84 \n\" style=\"fill:none;stroke:#000000;stroke-linecap:square;stroke-linejoin:miter;stroke-width:0.8;\"/>\n   </g>\n   <g id=\"patch_20\">\n    <path d=\"M 396.181032 193.76 \nL 554.064687 193.76 \n\" style=\"fill:none;stroke:#000000;stroke-linecap:square;stroke-linejoin:miter;stroke-width:0.8;\"/>\n   </g>\n   <g id=\"patch_21\">\n    <path d=\"M 396.181032 42.84 \nL 554.064687 42.84 \n\" style=\"fill:none;stroke:#000000;stroke-linecap:square;stroke-linejoin:miter;stroke-width:0.8;\"/>\n   </g>\n  </g>\n  <g id=\"text_21\">\n   <!-- Unconstrained Model: Accuracy = 95.50% -->\n   <defs>\n    <path d=\"M 8.6875 72.90625 \nL 18.609375 72.90625 \nL 18.609375 28.609375 \nQ 18.609375 16.890625 22.84375 11.734375 \nQ 27.09375 6.59375 36.625 6.59375 \nQ 46.09375 6.59375 50.34375 11.734375 \nQ 54.59375 16.890625 54.59375 28.609375 \nL 54.59375 72.90625 \nL 64.5 72.90625 \nL 64.5 27.390625 \nQ 64.5 13.140625 57.4375 5.859375 \nQ 50.390625 -1.421875 36.625 -1.421875 \nQ 22.796875 -1.421875 15.734375 5.859375 \nQ 8.6875 13.140625 8.6875 27.390625 \nz\n\" id=\"DejaVuSans-85\"/>\n    <path d=\"M 9.8125 72.90625 \nL 24.515625 72.90625 \nL 43.109375 23.296875 \nL 61.8125 72.90625 \nL 76.515625 72.90625 \nL 76.515625 0 \nL 66.890625 0 \nL 66.890625 64.015625 \nL 48.09375 14.015625 \nL 38.1875 14.015625 \nL 19.390625 64.015625 \nL 19.390625 0 \nL 9.8125 0 \nz\n\" id=\"DejaVuSans-77\"/>\n    <path d=\"M 11.71875 12.40625 \nL 22.015625 12.40625 \nL 22.015625 0 \nL 11.71875 0 \nz\nM 11.71875 51.703125 \nL 22.015625 51.703125 \nL 22.015625 39.3125 \nL 11.71875 39.3125 \nz\n\" id=\"DejaVuSans-58\"/>\n    <path d=\"M 34.1875 63.1875 \nL 20.796875 26.90625 \nL 47.609375 26.90625 \nz\nM 28.609375 72.90625 \nL 39.796875 72.90625 \nL 67.578125 0 \nL 57.328125 0 \nL 50.6875 18.703125 \nL 17.828125 18.703125 \nL 11.1875 0 \nL 0.78125 0 \nz\n\" id=\"DejaVuSans-65\"/>\n    <path d=\"M 10.59375 45.40625 \nL 73.1875 45.40625 \nL 73.1875 37.203125 \nL 10.59375 37.203125 \nz\nM 10.59375 25.484375 \nL 73.1875 25.484375 \nL 73.1875 17.1875 \nL 10.59375 17.1875 \nz\n\" id=\"DejaVuSans-61\"/>\n    <path d=\"M 10.984375 1.515625 \nL 10.984375 10.5 \nQ 14.703125 8.734375 18.5 7.8125 \nQ 22.3125 6.890625 25.984375 6.890625 \nQ 35.75 6.890625 40.890625 13.453125 \nQ 46.046875 20.015625 46.78125 33.40625 \nQ 43.953125 29.203125 39.59375 26.953125 \nQ 35.25 24.703125 29.984375 24.703125 \nQ 19.046875 24.703125 12.671875 31.3125 \nQ 6.296875 37.9375 6.296875 49.421875 \nQ 6.296875 60.640625 12.9375 67.421875 \nQ 19.578125 74.21875 30.609375 74.21875 \nQ 43.265625 74.21875 49.921875 64.515625 \nQ 56.59375 54.828125 56.59375 36.375 \nQ 56.59375 19.140625 48.40625 8.859375 \nQ 40.234375 -1.421875 26.421875 -1.421875 \nQ 22.703125 -1.421875 18.890625 -0.6875 \nQ 15.09375 0.046875 10.984375 1.515625 \nz\nM 30.609375 32.421875 \nQ 37.25 32.421875 41.125 36.953125 \nQ 45.015625 41.5 45.015625 49.421875 \nQ 45.015625 57.28125 41.125 61.84375 \nQ 37.25 66.40625 30.609375 66.40625 \nQ 23.96875 66.40625 20.09375 61.84375 \nQ 16.21875 57.28125 16.21875 49.421875 \nQ 16.21875 41.5 20.09375 36.953125 \nQ 23.96875 32.421875 30.609375 32.421875 \nz\n\" id=\"DejaVuSans-57\"/>\n    <path d=\"M 10.6875 12.40625 \nL 21 12.40625 \nL 21 0 \nL 10.6875 0 \nz\n\" id=\"DejaVuSans-46\"/>\n   </defs>\n   <g transform=\"translate(144.290563 19.053563)scale(0.156 -0.156)\">\n    <use xlink:href=\"#DejaVuSans-85\"/>\n    <use x=\"73.193359\" xlink:href=\"#DejaVuSans-110\"/>\n    <use x=\"136.572266\" xlink:href=\"#DejaVuSans-99\"/>\n    <use x=\"191.552734\" xlink:href=\"#DejaVuSans-111\"/>\n    <use x=\"252.734375\" xlink:href=\"#DejaVuSans-110\"/>\n    <use x=\"316.113281\" xlink:href=\"#DejaVuSans-115\"/>\n    <use x=\"368.212891\" xlink:href=\"#DejaVuSans-116\"/>\n    <use x=\"407.421875\" xlink:href=\"#DejaVuSans-114\"/>\n    <use x=\"448.535156\" xlink:href=\"#DejaVuSans-97\"/>\n    <use x=\"509.814453\" xlink:href=\"#DejaVuSans-105\"/>\n    <use x=\"537.597656\" xlink:href=\"#DejaVuSans-110\"/>\n    <use x=\"600.976562\" xlink:href=\"#DejaVuSans-101\"/>\n    <use x=\"662.5\" xlink:href=\"#DejaVuSans-100\"/>\n    <use x=\"725.976562\" xlink:href=\"#DejaVuSans-32\"/>\n    <use x=\"757.763672\" xlink:href=\"#DejaVuSans-77\"/>\n    <use x=\"844.042969\" xlink:href=\"#DejaVuSans-111\"/>\n    <use x=\"905.224609\" xlink:href=\"#DejaVuSans-100\"/>\n    <use x=\"968.701172\" xlink:href=\"#DejaVuSans-101\"/>\n    <use x=\"1030.224609\" xlink:href=\"#DejaVuSans-108\"/>\n    <use x=\"1058.007812\" xlink:href=\"#DejaVuSans-58\"/>\n    <use x=\"1091.699219\" xlink:href=\"#DejaVuSans-32\"/>\n    <use x=\"1123.486328\" xlink:href=\"#DejaVuSans-65\"/>\n    <use x=\"1191.878906\" xlink:href=\"#DejaVuSans-99\"/>\n    <use x=\"1246.859375\" xlink:href=\"#DejaVuSans-99\"/>\n    <use x=\"1301.839844\" xlink:href=\"#DejaVuSans-117\"/>\n    <use x=\"1365.21875\" xlink:href=\"#DejaVuSans-114\"/>\n    <use x=\"1406.332031\" xlink:href=\"#DejaVuSans-97\"/>\n    <use x=\"1467.611328\" xlink:href=\"#DejaVuSans-99\"/>\n    <use x=\"1522.591797\" xlink:href=\"#DejaVuSans-121\"/>\n    <use x=\"1581.771484\" xlink:href=\"#DejaVuSans-32\"/>\n    <use x=\"1613.558594\" xlink:href=\"#DejaVuSans-61\"/>\n    <use x=\"1697.347656\" xlink:href=\"#DejaVuSans-32\"/>\n    <use x=\"1729.134766\" xlink:href=\"#DejaVuSans-57\"/>\n    <use x=\"1792.757812\" xlink:href=\"#DejaVuSans-53\"/>\n    <use x=\"1856.380859\" xlink:href=\"#DejaVuSans-46\"/>\n    <use x=\"1888.167969\" xlink:href=\"#DejaVuSans-53\"/>\n    <use x=\"1951.791016\" xlink:href=\"#DejaVuSans-48\"/>\n    <use x=\"2015.414062\" xlink:href=\"#DejaVuSans-37\"/>\n   </g>\n  </g>\n </g>\n <defs>\n  <clipPath id=\"pdbffb03209\">\n   <rect height=\"150.92\" width=\"157.883656\" x=\"114.019688\" y=\"42.84\"/>\n  </clipPath>\n  <clipPath id=\"pccda9da386\">\n   <rect height=\"150.92\" width=\"157.883656\" x=\"396.181032\" y=\"42.84\"/>\n  </clipPath>\n </defs>\n</svg>\n",
            "image/png": "[encoded data removed]"
          },
          "metadata": {
            "needs_background": "light"
          }
        }
      ]
    },
    {
      "cell_type": "markdown",
      "metadata": {
        "id": "fhTCSc9pWs9v",
        "colab_type": "text"
      },
      "source": [
        "While the overall false positive rate is less than 2%, the false positive rate on the sexuality-related comments is significantly higher. This is because the sexuality group is very small in size, and has a disproportionately higher fraction of comments annotated as toxic. Hence, training a model without constraints results in the model believing that sexuality-related terms are a strong indicator of toxicity."
      ]
    },
    {
      "cell_type": "markdown",
      "metadata": {
        "id": "KmxyAo9hWs9w",
        "colab_type": "text"
      },
      "source": [
        "## Train with constraints on false positive rates"
      ]
    },
    {
      "cell_type": "markdown",
      "metadata": {
        "id": "l3dYUchIWs9w",
        "colab_type": "text"
      },
      "source": [
        "To avoid large differences in false positive rates across different groups, we\n",
        "next train a model by constraining the false positive rates for each group to be within a desired limit. Specifically, we optimize the error rate of the model subject to the *per-group false positive rates being lesser or equal to 2%*.\n",
        "\n",
        "Performing minibatch training with per-group constraints can however be challenging for this dataset, as the groups we wish to constraint are all small in size, and its likely that the individual minibatches contains very few examples from each group. Hence the gradients we compute during training will be noisy, and result in the model converging very slowly.\n",
        "\n",
        "To mitigate this problem, we recommend using two streams of minibatches, with the first stream formed as before from the entire training set, and the second stream formed solely from the sensitive group examples. We will compute the objective using minibatches from the first stream and the per-group constraints using minibatches from the second stream. Because the batches from the second stream are likely to contain larger number of examples from each group, we expect our updates to be less noisy. This strategy is similar to the one described in the <a href=\"https://github.com/google-research/tensorflow_constrained_optimization/tree/master/examples/jupyter/Minibatch_training.ipynb\">Minibatch_training.ipynb</a> notebook.\n",
        "\n",
        "We create separate features, labels and groups tensors to hold the minibatches from the two streams."
      ]
    },
    {
      "cell_type": "code",
      "metadata": {
        "id": "vMuuTOEOWs9x",
        "colab_type": "code",
        "colab": {}
      },
      "source": [
        "# Set random seed.\n",
        "np.random.seed(121212)\n",
        "tf.random.set_seed(212121)\n",
        "\n",
        "# Features tensors.\n",
        "batch_shape = (hparams[\"batch_size\"], hparams['max_sequence_length'])\n",
        "features_tensor = tf.Variable(np.zeros(batch_shape, dtype='int32'), name='x')\n",
        "features_tensor_sen = tf.Variable(np.zeros(batch_shape, dtype='int32'), name='x_sen')\n",
        "\n",
        "# Labels tensors.\n",
        "batch_shape = (hparams[\"batch_size\"], 1)\n",
        "labels_tensor = tf.Variable(np.zeros(batch_shape, dtype='float32'), name='labels')\n",
        "labels_tensor_sen = tf.Variable(np.zeros(batch_shape, dtype='float32'), name='labels_sen')\n",
        "\n",
        "# Groups tensors.\n",
        "batch_shape = (hparams[\"batch_size\"], num_groups)\n",
        "groups_tensor_sen = tf.Variable(np.zeros(batch_shape, dtype='float32'), name='groups_sen')"
      ],
      "execution_count": 23,
      "outputs": []
    },
    {
      "cell_type": "markdown",
      "metadata": {
        "id": "-wh26V7nWs9z",
        "colab_type": "text"
      },
      "source": [
        "We instantiate a new model, and compute predictions for minibatches from the two streams."
      ]
    },
    {
      "cell_type": "code",
      "metadata": {
        "id": "kawyrkQIWs9z",
        "colab_type": "code",
        "colab": {}
      },
      "source": [
        "# Create model, and separate prediction functions for the two streams.\n",
        "# For the predictions, we use a nullary function returning a Tensor to support eager mode.\n",
        "model_constrained = create_model()\n",
        "\n",
        "def predictions():\n",
        "  return model_constrained(features_tensor)\n",
        "\n",
        "def predictions_sen():\n",
        "  return model_constrained(features_tensor_sen)"
      ],
      "execution_count": 24,
      "outputs": []
    },
    {
      "cell_type": "markdown",
      "metadata": {
        "id": "UG9t7dw1Ws91",
        "colab_type": "text"
      },
      "source": [
        "We then set up a constrained optimization problem with the error rate as the objective and with constraints on the per-group false positive rate."
      ]
    },
    {
      "cell_type": "code",
      "metadata": {
        "id": "EhKAMGSJWs93",
        "colab_type": "code",
        "colab": {}
      },
      "source": [
        "epsilon = 0.02  # Desired false-positive rate threshold.\n",
        "\n",
        "# Set up separate contexts for the two minibatch streams.\n",
        "context = tfco.rate_context(predictions, lambda: labels_tensor)\n",
        "context_sen = tfco.rate_context(predictions_sen, lambda: labels_tensor_sen)\n",
        "\n",
        "# Compute the objective using the first stream.\n",
        "objective = tfco.error_rate(context)\n",
        "\n",
        "# Compute the constraints using the second stream.\n",
        "# For each group, subset the examples belonging to that group from the second stream,\n",
        "# and add a constraint on the group's false positive rate.\n",
        "constraints = []\n",
        "for ii in range(num_groups):\n",
        "    context_sen_subset = context_sen.subset(\n",
        "        lambda kk=ii: groups_tensor_sen[:, kk] > 0)\n",
        "    # We pass the group index ii as a default argument to the the function, so\n",
        "    # that the function retains a local copy of this variable, and is unaffected\n",
        "    # by changes to the variable outside the function.\n",
        "    constraints.append(\n",
        "        tfco.false_positive_rate(context_sen_subset) <= epsilon)\n",
        "\n",
        "# Create a rate minimization problem.\n",
        "problem = tfco.RateMinimizationProblem(objective, constraints)\n",
        "\n",
        "# Set up a constrained optimizer.\n",
        "optimizer = tfco.ProxyLagrangianOptimizerV2(\n",
        "    optimizer=tf.keras.optimizers.Adam(learning_rate=hparams[\"learning_rate\"]),\n",
        "    num_constraints=problem.num_constraints)\n",
        "\n",
        "# List of variables to optimize include the model weights,\n",
        "# and the trainable variables from the rate minimization problem and\n",
        "# the constrained optimizer.\n",
        "var_list = (model_constrained.trainable_weights + problem.trainable_variables +\n",
        "            optimizer.trainable_variables())"
      ],
      "execution_count": 25,
      "outputs": []
    },
    {
      "cell_type": "markdown",
      "metadata": {
        "id": "CoFWd8wMWs94",
        "colab_type": "text"
      },
      "source": [
        "We are ready to train the model. We maintain a separate counter for the two minibatch streams. Every time we perform a gradient update, we will have to copy the minibatch contents from the first stream to the tensors `features_tensor` and `labels_tensor`, and the minibatch contents from the second stream to the tensors `features_tensor_sen`, `labels_tensor_sen` and `groups_tensor_sen`.\n",
        "\n",
        "Also note since we are solving a constrained optimization problem, the final iterate from training  may not always be the best solution, and an intermediate iterate may do a better job of optimizing objective while satisfying the constraints. So, we periodically snapshot the model parameters and evaluate its performance on the validation set. At the end of training, we choose the best iterate from the recorded snapshots using a heuristic provided the TF constrained optimization library.\n",
        "\n",
        "**Note**: The following code cell may take several minutes to run."
      ]
    },
    {
      "cell_type": "code",
      "metadata": {
        "id": "mHiCT2Qet1n9",
        "colab_type": "code",
        "colab": {
          "base_uri": "https://localhost:8080/",
          "height": 34
        },
        "outputId": "3faa9c91-507f-4900-9454-32e8a3c366e1"
      },
      "source": [
        "# Create temporary directory to record model snapshots.\n",
        "temp_directory = tempfile.mktemp()\n",
        "os.mkdir(temp_directory)\n",
        "\n",
        "# Indices of sensitive group members.\n",
        "protected_group_indices = np.nonzero(groups_train.sum(axis=1))[0]\n",
        "\n",
        "num_examples = text_train.shape[0]\n",
        "num_examples_sen = protected_group_indices.shape[0]\n",
        "batch_size = hparams[\"batch_size\"]\n",
        "\n",
        "# Number of steps needed for one epoch over the training sample.\n",
        "num_steps = int(num_examples / batch_size)\n",
        "\n",
        "# Number of steps to skip before check-pointing the current model.\n",
        "skip_steps = int(num_steps / 10)\n",
        "\n",
        "# List of recorded objectives and constrained violations.\n",
        "objectives_list = []\n",
        "violations_list = []\n",
        "\n",
        "start_time = time.time()\n",
        "\n",
        "# Loop over minibatches.\n",
        "for batch_index in range(num_steps):\n",
        "    # Indices for current minibatch in the first stream.\n",
        "    batch_indices = np.arange(batch_index * batch_size, (batch_index + 1) * batch_size)\n",
        "    batch_indices = [ind % num_examples for ind in batch_indices]\n",
        "\n",
        "    # Indices for current minibatch in the second stream.\n",
        "    batch_indices_sen = np.arange(batch_index * batch_size, (batch_index + 1) * batch_size)\n",
        "    batch_indices_sen = [protected_group_indices[ind % num_examples_sen]\n",
        "                         for ind in batch_indices_sen]\n",
        "\n",
        "    # Assign features, labels, groups from the minibatches to the respective tensors.\n",
        "    features_tensor.assign(text_train[batch_indices, :])\n",
        "    labels_tensor.assign(labels_train[batch_indices])\n",
        "\n",
        "    features_tensor_sen.assign(text_train[batch_indices_sen, :])\n",
        "    labels_tensor_sen.assign(labels_train[batch_indices_sen])\n",
        "    groups_tensor_sen.assign(groups_train[batch_indices_sen, :])\n",
        "\n",
        "    # Gradient update.\n",
        "    optimizer.minimize(problem, var_list=var_list)\n",
        "\n",
        "    # Once in every skip_steps iterations, snapshot model parameters\n",
        "    # and evaluate objective and constraint violations on validation set.\n",
        "    if batch_index % skip_steps == 0:\n",
        "        # Evaluate model on validation set.\n",
        "        scores_vali = model_constrained.predict(text_vali)\n",
        "\n",
        "        error = error_rate(labels_vali, scores_vali)  # Error rate\n",
        "        group_fprs = group_false_positive_rates(\n",
        "            labels_vali, scores_vali, groups_vali)\n",
        "        violations = [z - epsilon for z in group_fprs]  # FPR constraint violations\n",
        "\n",
        "        objectives_list.append(error)\n",
        "        violations_list.append(violations)\n",
        "\n",
        "        # Save model weights to temporary directory.\n",
        "        model_constrained.save_weights(\n",
        "            temp_directory + \"constrained_\" +\n",
        "            str(int(batch_index / skip_steps)) + \".h5\")\n",
        "\n",
        "    # Display most recently recorded objective and max violation in constraints.\n",
        "    elapsed_time = time.time() - start_time\n",
        "    sys.stdout.write(\n",
        "        \"\\rIteration %d / %d: Elapsed time = %d secs, Error = %.3f, Violation = %.3f \" %\n",
        "        (batch_index + 1, num_steps, elapsed_time, objectives_list[-1], \n",
        "         max(violations_list[-1])))\n",
        "\n",
        "# Select the best model from the recorded iterates using TFCO's find best\n",
        "# candidates heuristic.\n",
        "best_index = tfco.find_best_candidate_index(\n",
        "    np.array(objectives_list), np.array(violations_list), rank_objectives=False)\n",
        "\n",
        "# Load model weights for the best iterate from the snapshots saved previously.\n",
        "model_constrained.load_weights(\n",
        "    temp_directory + \"constrained_\" + str(best_index) + \".h5\")"
      ],
      "execution_count": 41,
      "outputs": [
        {
          "output_type": "stream",
          "text": [
            "Iteration 747 / 747: Elapsed time = 1093 secs, Error = 0.047, Violation = -0.001 "
          ],
          "name": "stdout"
        }
      ]
    },
    {
      "cell_type": "markdown",
      "metadata": {
        "id": "DdJfplDpWs97",
        "colab_type": "text"
      },
      "source": [
        "Having trained the constrained model, we plot various evaluation metrics for the model on the test set."
      ]
    },
    {
      "cell_type": "code",
      "metadata": {
        "id": "h1jRbseosqxQ",
        "colab_type": "code",
        "outputId": "9fe38e95-32ff-45c0-ee3d-46641b12aa97",
        "colab": {
          "base_uri": "https://localhost:8080/",
          "height": 254
        }
      },
      "source": [
        "scores_constrained_test = model_constrained.predict(text_test)\n",
        "plot_metrics(labels_test, scores_constrained_test, groups_test, group_names,\n",
        "             \"Constrained Model\")"
      ],
      "execution_count": 42,
      "outputs": [
        {
          "output_type": "display_data",
          "data": {
            "image/png": "[encoded data removed]",
            "text/plain": [
              "<Figure size 576x216 with 2 Axes>"
            ]
          },
          "metadata": {
            "tags": []
          }
        }
      ]
    },
    {
      "cell_type": "markdown",
      "metadata": {
        "id": "EfKo5O3QWs9-",
        "colab_type": "text"
      },
      "source": [
        "Below, we present a side-by-side comparison of the plots for the unconstrained and constrained models."
      ]
    },
    {
      "cell_type": "code",
      "metadata": {
        "id": "IFLLircZWs9-",
        "colab_type": "code",
        "colab": {
          "base_uri": "https://localhost:8080/",
          "height": 219
        },
        "outputId": "b84e2351-dd4b-4352-d823-3275c02d3030"
      },
      "source": [
        "# Evaluate all evaluation metrics.\n",
        "overall_error1 = error_rate(labels_test, scores_unconstrained_test)\n",
        "overall_error2 = error_rate(labels_test, scores_constrained_test)\n",
        "\n",
        "overall_fpr1 = false_positive_rate(labels_test, scores_unconstrained_test)\n",
        "overall_fpr2 = false_positive_rate(labels_test, scores_constrained_test)\n",
        "\n",
        "group_fprs1 = group_false_positive_rates(labels_test, scores_unconstrained_test, groups_test)\n",
        "group_fprs2 = group_false_positive_rates(labels_test, scores_constrained_test, groups_test)\n",
        "\n",
        "# Plot FPRs and FNRs.\n",
        "fig, ax = plt.subplots(1, 2, figsize=(8, 3))\n",
        "\n",
        "fpr_percentages1 = [x * 100 for x in [overall_fpr1] + group_fprs1]\n",
        "fpr_percentages2 = [x * 100 for x in [overall_fpr2] + group_fprs2]\n",
        "\n",
        "ax[0].barh(-np.arange(len(group_names) + 1), fpr_percentages1, color=cb_palette)\n",
        "ax[0].set_yticks(-np.arange(len(group_names) + 1))\n",
        "ax[0].set_yticklabels([\"overall\"] + group_names)\n",
        "ax[0].set_xlabel(\"False Positive Rate %\")\n",
        "ax[0].set_xlim([0, max(10, max(fpr_percentages1) + 1)])\n",
        "ax[0].set_title(\"Unconstrained Model\\nAccuracy = %.2f%%\" % ((1 - overall_error1) * 100),\n",
        "                fontsize=13)\n",
        "\n",
        "ax[1].barh(-np.arange(len(group_names) + 1), fpr_percentages2, color=cb_palette)\n",
        "ax[1].set_yticks(-np.arange(len(group_names) + 1))\n",
        "ax[1].set_yticklabels([\"overall\"] + group_names)\n",
        "ax[1].set_xlabel(\"False Positive Rate %\")\n",
        "ax[1].set_xlim([0, max(10, max(fpr_percentages2) + 1)])\n",
        "ax[1].set_title(\"Constrained Model\\nAccuracy = %.2f%%\" % ((1 - overall_error2) * 100),\n",
        "                fontsize=13)\n",
        "\n",
        "fig.tight_layout()"
      ],
      "execution_count": 37,
      "outputs": [
        {
          "output_type": "display_data",
          "data": {
            "image/png": "[encoded data removed]",
            "text/plain": [
              "<Figure size 576x216 with 2 Axes>"
            ]
          },
          "metadata": {
            "tags": []
          }
        }
      ]
    },
    {
      "cell_type": "markdown",
      "metadata": {
        "id": "IxshklMhWs-B",
        "colab_type": "text"
      },
      "source": [
        "Compared to the unconstrained model, the constrained model yields significantly lower false positive rates for the sexuality-related comments, and does so with only a slight dip in the overall accuracy."
      ]
    },
    {
      "cell_type": "markdown",
      "metadata": {
        "id": "ojUJFvHpWs-B",
        "colab_type": "text"
      },
      "source": [
        "## Train with robust optimization"
      ]
    },
    {
      "cell_type": "markdown",
      "metadata": {
        "id": "sjaERfx_Ws-C",
        "colab_type": "text"
      },
      "source": [
        "We have seen that by using constrained optimization, we can learn a model that has low false positive rates (FPRs) for all groups. However, the models we have trained so far all have high false negative rates (FNRs). We could try training a model with additional constraints on the per-group FNRs, but this is likely to overconstrain the model and produce a trivial solution, such as e.g. a model that makes the same prediction on all inputs.\n",
        "\n",
        "Instead, a more reasonable solution would be to train a model by optimizing for the worst-case  metric, i.e. minimizing the worst among all the metrics we care about. In the following, we seek to optimize the mean of the worst-case FPR and the worst-case FNR, i.e. the mean of the maximum among *the overall FPR* and *the FPRs for individual groups*, and the maximum among *the overall FNR* and *the FNRs for individual groups*. More formally, this can be stated as:\n",
        "\n",
        "$$\n",
        "minimize \\text{       }\\frac{1}{2}max\\big\\{OverallFPR, FPR(sexuality), \\ldots\\big\\} + \\frac{1}{2}\\max\\big\\{OverallFNR, FNR(sexuality), \\ldots\\big\\}.\n",
        "$$\n",
        "\n",
        "Since the goal here is to be robust to a set of different evaluation metrics, problems of this form are often referred to as *robust optimization problems*.\n",
        "\n",
        "Below, we solve the above robust optimization problem using the TF constrained optimization library. We once again use two streams of minibatches to better handle the small group sizes."
      ]
    },
    {
      "cell_type": "code",
      "metadata": {
        "id": "Ei947kcxWs-D",
        "colab_type": "code",
        "colab": {}
      },
      "source": [
        "# Set random seed.\n",
        "np.random.seed(121212)\n",
        "tf.set_random_seed(212121)\n",
        "\n",
        "# Features tensor.\n",
        "batch_shape = (hparams[\"batch_size\"], hparams['max_sequence_length'])\n",
        "features_tensor = tf.Variable(np.zeros(batch_shape, dtype='int32'), name='x')\n",
        "features_tensor_sen = tf.Variable(np.zeros(batch_shape, dtype='int32'), name='x_sen')\n",
        "\n",
        "# Label tensors.\n",
        "batch_shape = (hparams[\"batch_size\"], 1)\n",
        "labels_tensor = tf.Variable(np.zeros(batch_shape, dtype='float32'), name='labels')\n",
        "labels_tensor_sen = tf.Variable(np.zeros(batch_shape, dtype='float32'), name='labels_sen')\n",
        "\n",
        "# Group tensors.\n",
        "batch_shape = (hparams[\"batch_size\"], num_groups)\n",
        "groups_tensor_sen = tf.Variable(np.zeros(batch_shape, dtype='float32'), name='groups_sen')\n",
        "\n",
        "# Create model and predictions functions.\n",
        "model_robust = create_model()\n",
        "\n",
        "def predictions():\n",
        "  return model_robust(features_tensor)\n",
        "\n",
        "def predictions_sen():\n",
        "  return model_robust(features_tensor_sen)"
      ],
      "execution_count": 0,
      "outputs": []
    },
    {
      "cell_type": "markdown",
      "metadata": {
        "id": "5Uc6biFCWs-F",
        "colab_type": "text"
      },
      "source": [
        "We formulate a rate minimization problem by creating a list of rate metrics we are interested in and using `tfco.upper_bound` to define the maximum of these metrics as the optimization objective."
      ]
    },
    {
      "cell_type": "code",
      "metadata": {
        "id": "mcoozVktWs-F",
        "colab_type": "code",
        "colab": {}
      },
      "source": [
        "# Set up separate contexts for the two minibatch streams.\n",
        "context = tfco.rate_context(predictions, lambda: labels_tensor)\n",
        "context_sen = tfco.rate_context(predictions_sen, lambda: labels_tensor_sen)\n",
        "\n",
        "# List of metrics we are interested in.\n",
        "fprs = []\n",
        "fnrs = []\n",
        "\n",
        "# Add overall FPR and overall FNR, computed using the first stream.\n",
        "fprs.append(tfco.false_positive_rate(context))\n",
        "fnrs.append(tfco.false_negative_rate(context))\n",
        "\n",
        "# Add group-specific FPRs and FNRs, computed using the second stream.\n",
        "for ii in range(num_groups):\n",
        "    context_sen_subset = context_sen.subset(\n",
        "        lambda kk=ii: groups_tensor_sen[:, kk] > 0)\n",
        "    # We pass the group index ii as a default argument to the the function, so\n",
        "    # that the function retains a local copy of this variable, and is unaffected\n",
        "    # by changes to the variable outside the function.\n",
        "    fprs.append(tfco.false_positive_rate(context_sen_subset))\n",
        "    fnrs.append(tfco.false_negative_rate(context_sen_subset))\n",
        "\n",
        "# Set up optimization problem with the \"max\" of all the metrics as the objective.\n",
        "problem = tfco.RateMinimizationProblem(\n",
        "    0.5 * tfco.upper_bound(fprs) + 0.5 * tfco.upper_bound(fnrs))\n",
        "\n",
        "# Set up constrained optimizer.\n",
        "optimizer = tfco.ProxyLagrangianOptimizerV2(\n",
        "    optimizer=tf.keras.optimizers.Adam(learning_rate=hparams[\"learning_rate\"]),\n",
        "    num_constraints=problem.num_constraints)\n",
        "\n",
        "# List of variables to optimize include the model weights,\n",
        "# and the trainable variables from the rate minimization problem and\n",
        "# the constrained optimizer.\n",
        "var_list = (model_robust.trainable_weights + problem.trainable_variables +\n",
        "            optimizer.trainable_variables())"
      ],
      "execution_count": 0,
      "outputs": []
    },
    {
      "cell_type": "markdown",
      "metadata": {
        "id": "zW-1LU78Ws-H",
        "colab_type": "text"
      },
      "source": [
        "During training, we periodically snapshot the model parameters and evaluate the worst-case metric value (i.e. the \"max\" objective) on the validation set. At the end of training, we choose the iterate that yields the minimum worst-case metric.\n",
        "\n",
        "**Note**: The following code cell may take several minutes to run."
      ]
    },
    {
      "cell_type": "code",
      "metadata": {
        "id": "6IdlsJltWs-H",
        "colab_type": "code",
        "outputId": "084f4427-cb4d-4b74-ca0f-6211cecd0140",
        "colab": {
          "base_uri": "https://localhost:8080/",
          "height": 34
        }
      },
      "source": [
        "# Create temporary directory for snapshotting models.\n",
        "temp_directory = tempfile.mktemp()\n",
        "os.mkdir(temp_directory)\n",
        "\n",
        "# Indices of sensitive group members.\n",
        "protected_group_indices = np.nonzero(groups_train.sum(axis=1))[0]\n",
        "\n",
        "num_examples = text_train.shape[0]\n",
        "num_examples_sen = protected_group_indices.shape[0]\n",
        "batch_size = hparams[\"batch_size\"]\n",
        "\n",
        "# Number of steps needed for one epoch over the training sample.\n",
        "num_steps = int(num_examples / batch_size)\n",
        "\n",
        "# Number of steps after which to snap-shot the model.\n",
        "skip_steps = int(num_steps / 10)\n",
        "\n",
        "# List of recorded robust optimization objectives.\n",
        "objectives_list = []\n",
        "\n",
        "start_time = time.time()\n",
        "\n",
        "# Loop over minibatches.\n",
        "for batch_index in range(num_steps):\n",
        "    # Indices for current minibatch in the first stream.\n",
        "    batch_indices = np.arange(batch_index * batch_size, (batch_index + 1) * batch_size)\n",
        "    batch_indices = [ind % num_examples for ind in batch_indices]\n",
        "\n",
        "    # Indices for current minibatch in the second stream.\n",
        "    batch_indices_sen = np.arange(batch_index * batch_size, (batch_index + 1) * batch_size)\n",
        "    batch_indices_sen = [protected_group_indices[ind % num_examples_sen]\n",
        "                         for ind in batch_indices_sen]\n",
        "\n",
        "    # Assign features, labels, groups from the minibatches to the respective tensors.\n",
        "    features_tensor.assign(text_train[batch_indices, :])\n",
        "    labels_tensor.assign(labels_train[batch_indices])\n",
        "\n",
        "    features_tensor_sen.assign(text_train[batch_indices_sen, :])\n",
        "    labels_tensor_sen.assign(labels_train[batch_indices_sen])\n",
        "    groups_tensor_sen.assign(groups_train[batch_indices_sen, :])\n",
        "\n",
        "    # Gradient update.\n",
        "    optimizer.minimize(problem, var_list=var_list)\n",
        "\n",
        "    # Once in every skip_steps steps, snapshot model parameters\n",
        "    # and evaluate robust optimization objective on the validation set.\n",
        "    all_fprs = []\n",
        "    all_fnrs = []\n",
        "\n",
        "    if batch_index % skip_steps == 0:\n",
        "        # Evaluate on validation set.\n",
        "        scores_vali = model_robust.predict(text_vali)\n",
        "\n",
        "        fpr = false_positive_rate(labels_vali, scores_vali)\n",
        "        all_fprs += [fpr]\n",
        "\n",
        "        fnr = false_negative_rate(labels_vali, scores_vali)\n",
        "        all_fnrs += [fnr]\n",
        "\n",
        "        group_fprs = group_false_positive_rates(labels_vali, scores_vali, groups_vali)\n",
        "        group_fprs = [group_fprs[jj] for jj in range(num_groups)]\n",
        "        all_fprs += group_fprs\n",
        "\n",
        "        group_fnrs = group_false_negative_rates(labels_vali, scores_vali, groups_vali)\n",
        "        group_fnrs = [group_fnrs[jj] for jj in range(num_groups)]\n",
        "        all_fnrs += group_fnrs\n",
        "\n",
        "        objectives_list.append(0.5 * max(all_fprs) + 0.5 * max(all_fnrs))\n",
        "\n",
        "        # Save model weights to temporary directory.\n",
        "        model_robust.save_weights(\n",
        "            temp_directory + \"/robust_\" +\n",
        "            str(int(batch_index / skip_steps)) + \".h5\")\n",
        "\n",
        "    # Display most recently recorded objective.\n",
        "    elapsed_time = time.time() - start_time\n",
        "    sys.stdout.write(\n",
        "        \"\\rIteration %d / %d: Elapsed time = %d secs, Max objective = %.3f \" %\n",
        "        (batch_index + 1, num_steps, elapsed_time, objectives_list[-1]))\n",
        "\n",
        "# Select the best model from the recorded iterates. Pick the one with the\n",
        "# minimum \"max objective\", and load its weights.\n",
        "best_index = np.argmin(objectives_list)\n",
        "model_robust.load_weights(temp_directory + \"/robust_\" + str(best_index) + \".h5\")\n",
        "\n",
        "# Remove temporary directory.\n",
        "shutil.rmtree(temp_directory)"
      ],
      "execution_count": 45,
      "outputs": [
        {
          "output_type": "stream",
          "text": [
            "Iteration 747 / 747: Elapsed time = 1126 secs, Max objective = 0.199 "
          ],
          "name": "stdout"
        }
      ]
    },
    {
      "cell_type": "markdown",
      "metadata": {
        "id": "I_PdmG2qWs-J",
        "colab_type": "text"
      },
      "source": [
        "We plot various evaluation metrics for the trained model on the test set."
      ]
    },
    {
      "cell_type": "code",
      "metadata": {
        "id": "0emCk3Tvwj7U",
        "colab_type": "code",
        "outputId": "c80c1c11-3c30-4227-c470-6b5cd36da129",
        "colab": {
          "base_uri": "https://localhost:8080/",
          "height": 254
        }
      },
      "source": [
        "scores_test = model_robust.predict(text_test)\n",
        "plot_metrics(labels_test, scores_test, groups_test, group_names, \"Robust Opt Model\")"
      ],
      "execution_count": 46,
      "outputs": [
        {
          "output_type": "display_data",
          "data": {
            "image/png": "[encoded data removed]",
            "text/plain": [
              "<Figure size 576x216 with 2 Axes>"
            ]
          },
          "metadata": {
            "tags": []
          }
        }
      ]
    },
    {
      "cell_type": "markdown",
      "metadata": {
        "id": "mVZ23Q2bWs-N",
        "colab_type": "text"
      },
      "source": [
        "Compared to the two previous models, we can see a significant reduction in the false negative rates. This however comes at the cost of a lower accuracy and higher false positive rates. Indeed the trained model performs the best on the training objective that we sought to minimize. \n",
        "\n",
        "Note that if low false positive rates are more important than low false negative rates, one can modify the training objective to have a higher weight on the maximum FPR term than the maximum FNR term."
      ]
    },
    {
      "cell_type": "markdown",
      "metadata": {
        "id": "lfpQE4MSWs-O",
        "colab_type": "text"
      },
      "source": [
        "## Performance on finer groups"
      ]
    },
    {
      "cell_type": "markdown",
      "metadata": {
        "id": "ECi_IZiFWs-O",
        "colab_type": "text"
      },
      "source": [
        "We close this tutorial by noting that while constrained and robust optimization are effective means to enforce different fairness goals, with both these approaches, you at best get what you ask for!\n",
        "\n",
        "For example, with the robust optimization problem that we solved above, we observed that none of the four topic groups incurred a false positive rate or a false negative rate of more than 35%. However, the same may not hold for the finer sub-groups within these groups. Let's take a closer look at sub-groups within the *sexuality* topic group."
      ]
    },
    {
      "cell_type": "code",
      "metadata": {
        "scrolled": true,
        "id": "32x3i5WOWs-P",
        "colab_type": "code",
        "outputId": "e59cfb5c-2b15-4d09-cb9e-5024077909eb",
        "colab": {
          "base_uri": "https://localhost:8080/",
          "height": 235
        }
      },
      "source": [
        "# We treat each identity term related to \"sexuality\" as a separate sub-group.\n",
        "terms_sexuality = terms[\"sexuality\"]\n",
        "\n",
        "# Create a sub-group membership matrix.\n",
        "comments_test = data_test[\"comment\"]\n",
        "subgroups_test = np.zeros((comments_test.shape[0], len(terms_sexuality)))\n",
        "for ii in range(len(terms_sexuality)):\n",
        "    subgroups_test[:, ii] = comments_test.str.contains(terms_sexuality[ii], case=False)\n",
        "\n",
        "# Display sub-group statistics.\n",
        "group_stats = []\n",
        "for ii in range(len(terms_sexuality)):\n",
        "    group_stats.append([terms_sexuality[ii],\n",
        "                        \"%.2f%%\" % (subgroups_test[:, ii].mean() * 100),\n",
        "                        \"%.1f%%\" % (labels_test[subgroups_test[:, ii] == 1].mean() * 100)])\n",
        "group_stats_df = pd.DataFrame(\n",
        "    group_stats, columns=[\"Sub-group\", \"Sub-group proportion\", \"Label proportion\"])\n",
        "group_stats_df"
      ],
      "execution_count": 47,
      "outputs": [
        {
          "output_type": "execute_result",
          "data": {
            "text/html": [
              "<div>\n",
              "<style scoped>\n",
              "    .dataframe tbody tr th:only-of-type {\n",
              "        vertical-align: middle;\n",
              "    }\n",
              "\n",
              "    .dataframe tbody tr th {\n",
              "        vertical-align: top;\n",
              "    }\n",
              "\n",
              "    .dataframe thead th {\n",
              "        text-align: right;\n",
              "    }\n",
              "</style>\n",
              "<table border=\"1\" class=\"dataframe\">\n",
              "  <thead>\n",
              "    <tr style=\"text-align: right;\">\n",
              "      <th></th>\n",
              "      <th>Sub-group</th>\n",
              "      <th>Sub-group proportion</th>\n",
              "      <th>Label proportion</th>\n",
              "    </tr>\n",
              "  </thead>\n",
              "  <tbody>\n",
              "    <tr>\n",
              "      <th>0</th>\n",
              "      <td>gay</td>\n",
              "      <td>0.58%</td>\n",
              "      <td>55.9%</td>\n",
              "    </tr>\n",
              "    <tr>\n",
              "      <th>1</th>\n",
              "      <td>lesbian</td>\n",
              "      <td>0.06%</td>\n",
              "      <td>35.0%</td>\n",
              "    </tr>\n",
              "    <tr>\n",
              "      <th>2</th>\n",
              "      <td>bisexual</td>\n",
              "      <td>0.03%</td>\n",
              "      <td>0.0%</td>\n",
              "    </tr>\n",
              "    <tr>\n",
              "      <th>3</th>\n",
              "      <td>homosexual</td>\n",
              "      <td>0.24%</td>\n",
              "      <td>39.5%</td>\n",
              "    </tr>\n",
              "    <tr>\n",
              "      <th>4</th>\n",
              "      <td>straight</td>\n",
              "      <td>0.46%</td>\n",
              "      <td>7.6%</td>\n",
              "    </tr>\n",
              "    <tr>\n",
              "      <th>5</th>\n",
              "      <td>heterosexual</td>\n",
              "      <td>0.03%</td>\n",
              "      <td>11.1%</td>\n",
              "    </tr>\n",
              "  </tbody>\n",
              "</table>\n",
              "</div>"
            ],
            "text/plain": [
              "      Sub-group Sub-group proportion Label proportion\n",
              "0           gay                0.58%            55.9%\n",
              "1       lesbian                0.06%            35.0%\n",
              "2      bisexual                0.03%             0.0%\n",
              "3    homosexual                0.24%            39.5%\n",
              "4      straight                0.46%             7.6%\n",
              "5  heterosexual                0.03%            11.1%"
            ]
          },
          "metadata": {
            "tags": []
          },
          "execution_count": 47
        }
      ]
    },
    {
      "cell_type": "markdown",
      "metadata": {
        "id": "I4LJAIrGWs-S",
        "colab_type": "text"
      },
      "source": [
        "The performance of the robust optimization model within each of these subgroups is shown below."
      ]
    },
    {
      "cell_type": "code",
      "metadata": {
        "id": "uoUYq4b5tNK4",
        "colab_type": "code",
        "outputId": "5ddcdaac-0ae6-44b9-9fd0-2c1c1a0e6d7e",
        "colab": {
          "base_uri": "https://localhost:8080/",
          "height": 254
        }
      },
      "source": [
        "plot_metrics(labels_test, scores_test, subgroups_test,\n",
        "             group_names=terms_sexuality, title=\"Robust Opt Model on Finer Groups\")"
      ],
      "execution_count": 48,
      "outputs": [
        {
          "output_type": "display_data",
          "data": {
            "image/png": "[encoded data removed]",
            "text/plain": [
              "<Figure size 576x216 with 2 Axes>"
            ]
          },
          "metadata": {
            "tags": []
          }
        }
      ]
    },
    {
      "cell_type": "markdown",
      "metadata": {
        "id": "PrqVCJRhWs-U",
        "colab_type": "text"
      },
      "source": [
        "Notice that comments that contain the term \"heterosexual\" only constitute 0.03% of the dataset. It's therefore unsuprising that the robust optimization model has a false negative rate of 100% for this subgroup. Also notice that the comments containing the term \"gay\" and the comments containing the term \"bisexual\" have a higher false positive rate than the larger group of sexuality-related comments.\n",
        "\n",
        "While one could consider training a model by directly constraining these tiny subgroups, such a model is likely to generalize very poorly to new data. A better strategy would be to instead collect more training data for each of these subgroups, and then control performance on these subgroups through a constrained or robust optimization set-up."
      ]
    }
  ],
  "metadata": {
    "kernelspec": {
      "display_name": "Python 3",
      "language": "python",
      "name": "python3"
    },
    "language_info": {
      "codemirror_mode": {
        "name": "ipython",
        "version": 3
      },
      "file_extension": ".py",
      "mimetype": "text/x-python",
      "name": "python",
      "nbconvert_exporter": "python",
      "pygments_lexer": "ipython3",
      "version": "3.7.6-final"
    },
    "colab": {
      "name": "Wiki_toxicity_fairness.ipynb",
      "provenance": [],
      "collapsed_sections": []
    }
  },
  "nbformat": 4,
  "nbformat_minor": 0
}