{
 "cells": [
  {
   "cell_type": "code",
   "execution_count": 1,
   "metadata": {},
   "outputs": [],
   "source": [
    "import io\n",
    "import os\n",
    "import shutil\n",
    "import sys\n",
    "import tempfile\n",
    "import zipfile\n",
    "from urllib import request\n",
    "\n",
    "import matplotlib.pyplot as plt\n",
    "import numpy as np\n",
    "import pandas as pd\n",
    "import time\n",
    "\n",
    "import tensorflow as tf\n",
    "import tensorflow.keras as keras\n",
    "from tensorflow.keras import layers\n",
    "from tensorflow.keras.preprocessing import sequence\n",
    "from tensorflow.keras.preprocessing import text\n",
    "tf.debugging.set_log_device_placement(True)"
   ]
  },
  {
   "cell_type": "code",
   "execution_count": 2,
   "metadata": {},
   "outputs": [],
   "source": [
    "hparams = {\n",
    "    \"cnn_filter_sizes\": [128, 128, 128],\n",
    "    \"cnn_kernel_sizes\": [5, 5, 5],\n",
    "    \"cnn_pooling_sizes\": [5, 5, 40],\n",
    "    \"embedding_dim\": 100,\n",
    "    \"embedding_trainable\": False,\n",
    "    \"learning_rate\": 0.005,\n",
    "    \"max_num_words\": 10000,\n",
    "    \"max_sequence_length\": 250\n",
    "}"
   ]
  },
  {
   "cell_type": "code",
   "execution_count": 3,
   "metadata": {},
   "outputs": [],
   "source": [
    "toxicity_data_url = (\"https://raw.githubusercontent.com/conversationai/\"\n",
    "                     \"unintended-ml-bias-analysis/master/data/\")\n",
    "\n",
    "data_train = pd.read_csv(toxicity_data_url + \"wiki_train.csv\")\n",
    "data_test = pd.read_csv(toxicity_data_url + \"wiki_test.csv\")\n",
    "data_vali = pd.read_csv(toxicity_data_url + \"wiki_dev.csv\")"
   ]
  },
  {
   "cell_type": "code",
   "execution_count": 4,
   "metadata": {},
   "outputs": [],
   "source": [
    "labels_train = data_train[\"is_toxic\"].values.reshape(-1, 1) * 1.0\n",
    "labels_test = data_test[\"is_toxic\"].values.reshape(-1, 1) * 1.0\n",
    "labels_vali = data_vali[\"is_toxic\"].values.reshape(-1, 1) * 1.0"
   ]
  },
  {
   "cell_type": "code",
   "execution_count": 5,
   "metadata": {},
   "outputs": [],
   "source": [
    "tokenizer = text.Tokenizer(num_words=hparams[\"max_num_words\"])\n",
    "tokenizer.fit_on_texts(data_train[\"comment\"])\n",
    "\n",
    "def prep_text(texts, tokenizer, max_sequence_length):\n",
    "    # Turns text into into padded sequences.\n",
    "    text_sequences = tokenizer.texts_to_sequences(texts)\n",
    "    return sequence.pad_sequences(text_sequences, maxlen=max_sequence_length)\n",
    "\n",
    "text_train = prep_text(data_train[\"comment\"], tokenizer, hparams[\"max_sequence_length\"])\n",
    "text_test = prep_text(data_test[\"comment\"], tokenizer, hparams[\"max_sequence_length\"])\n",
    "text_vali = prep_text(data_vali[\"comment\"], tokenizer, hparams[\"max_sequence_length\"])"
   ]
  },
  {
   "cell_type": "code",
   "execution_count": 6,
   "metadata": {},
   "outputs": [],
   "source": [
    "terms = {\n",
    "    'sexuality': ['gay', 'lesbian', 'bisexual', 'homosexual', 'straight', 'heterosexual'],\n",
    "    'gender identity': ['trans', 'transgender', 'cis', 'nonbinary'],\n",
    "    'religion': ['christian', 'muslim', 'jewish', 'buddhist', 'catholic', 'protestant', 'sikh', 'taoist'],\n",
    "    'race': ['african', 'african american', 'black', 'white', 'european', 'hispanic', 'latino', 'latina',\n",
    "             'latinx', 'mexican', 'canadian', 'american', 'asian', 'indian', 'middle eastern', 'chinese',\n",
    "             'japanese']}\n",
    "\n",
    "group_names = list(terms.keys())\n",
    "num_groups = len(group_names)"
   ]
  },
  {
   "cell_type": "code",
   "execution_count": 7,
   "metadata": {},
   "outputs": [],
   "source": [
    "def get_groups(text):\n",
    "    # Returns a boolean NumPy array of shape (n, k), where n is the number of comments,\n",
    "    # and k is the number of groups. Each entry (i, j) indicates if the i-th comment\n",
    "    # contains a term from the j-th group.\n",
    "    groups = np.zeros((text.shape[0], num_groups))\n",
    "    for ii in range(num_groups):\n",
    "        groups[:, ii] = text.str.contains('|'.join(terms[group_names[ii]]), case=False)\n",
    "    return groups\n",
    "\n",
    "groups_train = get_groups(data_train[\"comment\"])\n",
    "groups_test = get_groups(data_test[\"comment\"])\n",
    "groups_vali = get_groups(data_vali[\"comment\"])"
   ]
  },
  {
   "cell_type": "code",
   "execution_count": 8,
   "metadata": {},
   "outputs": [
    {
     "output_type": "execute_result",
     "data": {
      "text/plain": "array([[0., 0., 0., 0.],\n       [0., 0., 0., 0.],\n       [0., 1., 0., 1.],\n       ...,\n       [0., 0., 0., 0.],\n       [0., 0., 0., 0.],\n       [0., 0., 0., 0.]])"
     },
     "metadata": {},
     "execution_count": 8
    }
   ],
   "source": [
    "groups_train"
   ]
  },
  {
   "cell_type": "code",
   "execution_count": 9,
   "metadata": {},
   "outputs": [],
   "source": [
    "embedding_matrix =np.load('embedding-matrix.npy')"
   ]
  },
  {
   "cell_type": "code",
   "execution_count": 10,
   "metadata": {},
   "outputs": [],
   "source": [
    "import setup\n",
    "experiment = setup.GroupFairness()"
   ]
  },
  {
   "cell_type": "code",
   "execution_count": 11,
   "metadata": {},
   "outputs": [],
   "source": [
    "experiment.protected_groups(None)"
   ]
  },
  {
   "cell_type": "code",
   "execution_count": 12,
   "metadata": {},
   "outputs": [
    {
     "output_type": "execute_result",
     "data": {
      "text/plain": "['sextuality', 'gender-identity', 'religion', 'race']"
     },
     "metadata": {},
     "execution_count": 12
    }
   ],
   "source": [
    "experiment.group_names"
   ]
  },
  {
   "cell_type": "code",
   "execution_count": 13,
   "metadata": {},
   "outputs": [
    {
     "output_type": "stream",
     "name": "stdout",
     "text": "Executing op RandomUniform in device /job:localhost/replica:0/task:0/device:CPU:0\nExecuting op Sub in device /job:localhost/replica:0/task:0/device:CPU:0\nExecuting op Mul in device /job:localhost/replica:0/task:0/device:CPU:0\nExecuting op Add in device /job:localhost/replica:0/task:0/device:CPU:0\nExecuting op VarHandleOp in device /job:localhost/replica:0/task:0/device:CPU:0\nExecuting op VarIsInitializedOp in device /job:localhost/replica:0/task:0/device:CPU:0\nExecuting op LogicalNot in device /job:localhost/replica:0/task:0/device:CPU:0\nExecuting op Assert in device /job:localhost/replica:0/task:0/device:CPU:0\nExecuting op AssignVariableOp in device /job:localhost/replica:0/task:0/device:CPU:0\nExecuting op RandomUniform in device /job:localhost/replica:0/task:0/device:GPU:0\nExecuting op Sub in device /job:localhost/replica:0/task:0/device:GPU:0\nExecuting op Mul in device /job:localhost/replica:0/task:0/device:GPU:0\nExecuting op Add in device /job:localhost/replica:0/task:0/device:GPU:0\nExecuting op VarHandleOp in device /job:localhost/replica:0/task:0/device:GPU:0\nExecuting op VarIsInitializedOp in device /job:localhost/replica:0/task:0/device:GPU:0\nExecuting op LogicalNot in device /job:localhost/replica:0/task:0/device:GPU:0\nExecuting op Assert in device /job:localhost/replica:0/task:0/device:GPU:0\nExecuting op AssignVariableOp in device /job:localhost/replica:0/task:0/device:GPU:0\nExecuting op Fill in device /job:localhost/replica:0/task:0/device:GPU:0\nExecuting op VarHandleOp in device /job:localhost/replica:0/task:0/device:GPU:0\nExecuting op RandomUniform in device /job:localhost/replica:0/task:0/device:GPU:0\nExecuting op VarHandleOp in device /job:localhost/replica:0/task:0/device:GPU:0\nExecuting op RandomUniform in device /job:localhost/replica:0/task:0/device:GPU:0\nExecuting op RandomUniform in device /job:localhost/replica:0/task:0/device:GPU:0\nExecuting op VarHandleOp in device /job:localhost/replica:0/task:0/device:GPU:0\nExecuting op RandomUniform in device /job:localhost/replica:0/task:0/device:GPU:0\nExecuting op VarHandleOp in device /job:localhost/replica:0/task:0/device:GPU:0\nExecuting op VarHandleOp in device /job:localhost/replica:0/task:0/device:GPU:0\nExecuting op RandomUniform in device /job:localhost/replica:0/task:0/device:GPU:0\nExecuting op VarHandleOp in device /job:localhost/replica:0/task:0/device:GPU:0\nExecuting op VarHandleOp in device /job:localhost/replica:0/task:0/device:GPU:0\nExecuting op RandomUniform in device /job:localhost/replica:0/task:0/device:GPU:0\nExecuting op VarHandleOp in device /job:localhost/replica:0/task:0/device:GPU:0\nExecuting op Reshape in device /job:localhost/replica:0/task:0/device:GPU:0\nExecuting op VarHandleOp in device /job:localhost/replica:0/task:0/device:GPU:0\nExecuting op RandomUniform in device /job:localhost/replica:0/task:0/device:GPU:0\nExecuting op RandomUniform in device /job:localhost/replica:0/task:0/device:GPU:0\nExecuting op RandomUniform in device /job:localhost/replica:0/task:0/device:GPU:0\nExecuting op RandomUniform in device /job:localhost/replica:0/task:0/device:GPU:0\nExecuting op RandomUniform in device /job:localhost/replica:0/task:0/device:GPU:0\nExecuting op RandomUniform in device /job:localhost/replica:0/task:0/device:GPU:0\nExecuting op RandomUniform in device /job:localhost/replica:0/task:0/device:GPU:0\nExecuting op RandomUniform in device /job:localhost/replica:0/task:0/device:GPU:0\nExecuting op RandomUniform in device /job:localhost/replica:0/task:0/device:GPU:0\nExecuting op RandomUniform in device /job:localhost/replica:0/task:0/device:GPU:0\nExecuting op RandomUniform in device /job:localhost/replica:0/task:0/device:GPU:0\nExecuting op RandomUniform in device /job:localhost/replica:0/task:0/device:GPU:0\nExecuting op RandomUniform in device /job:localhost/replica:0/task:0/device:GPU:0\nExecuting op RandomUniform in device /job:localhost/replica:0/task:0/device:GPU:0\nExecuting op RandomUniform in device /job:localhost/replica:0/task:0/device:GPU:0\nExecuting op RandomUniform in device /job:localhost/replica:0/task:0/device:GPU:0\nExecuting op RandomUniform in device /job:localhost/replica:0/task:0/device:GPU:0\nExecuting op RandomUniform in device /job:localhost/replica:0/task:0/device:GPU:0\nExecuting op RandomUniform in device /job:localhost/replica:0/task:0/device:GPU:0\nExecuting op RandomUniform in device /job:localhost/replica:0/task:0/device:GPU:0\nExecuting op RandomUniform in device /job:localhost/replica:0/task:0/device:GPU:0\nExecuting op RandomUniform in device /job:localhost/replica:0/task:0/device:GPU:0\nExecuting op RandomUniform in device /job:localhost/replica:0/task:0/device:GPU:0\nExecuting op RandomUniform in device /job:localhost/replica:0/task:0/device:GPU:0\nExecuting op RandomUniform in device /job:localhost/replica:0/task:0/device:GPU:0\nExecuting op RandomUniform in device /job:localhost/replica:0/task:0/device:GPU:0\nExecuting op RandomUniform in device /job:localhost/replica:0/task:0/device:GPU:0\nExecuting op RandomUniform in device /job:localhost/replica:0/task:0/device:GPU:0\nExecuting op RandomUniform in device /job:localhost/replica:0/task:0/device:GPU:0\nExecuting op RandomUniform in device /job:localhost/replica:0/task:0/device:GPU:0\n"
    }
   ],
   "source": [
    "experiment.set_graph(embedding_matrix)"
   ]
  },
  {
   "cell_type": "code",
   "execution_count": 14,
   "metadata": {},
   "outputs": [
    {
     "output_type": "stream",
     "name": "stdout",
     "text": "Executing op Cast in device /job:localhost/replica:0/task:0/device:GPU:0\n"
    }
   ],
   "source": [
    "\n",
    "experiment.fit(data_train, data_test)"
   ]
  },
  {
   "cell_type": "code",
   "execution_count": 15,
   "metadata": {},
   "outputs": [
    {
     "output_type": "stream",
     "name": "stdout",
     "text": "Executing op Cast in device /job:localhost/replica:0/task:0/device:GPU:0\n"
    }
   ],
   "source": []
  },
  {
   "cell_type": "code",
   "execution_count": 16,
   "metadata": {},
   "outputs": [
    {
     "output_type": "stream",
     "name": "stdout",
     "text": "Executing op Reshape in device /job:localhost/replica:0/task:0/device:GPU:0\n"
    }
   ],
   "source": []
  },
  {
   "cell_type": "code",
   "execution_count": 17,
   "metadata": {},
   "outputs": [
    {
     "output_type": "execute_result",
     "data": {
      "text/plain": "<tf.Tensor: shape=(31866,), dtype=int32, numpy=array([0, 0, 0, ..., 0, 0, 0], dtype=int32)>"
     },
     "metadata": {},
     "execution_count": 17
    }
   ],
   "source": [
    "labels_test"
   ]
  },
  {
   "cell_type": "code",
   "execution_count": 18,
   "metadata": {},
   "outputs": [
    {
     "output_type": "stream",
     "name": "stdout",
     "text": "Executing op OneHot in device /job:localhost/replica:0/task:0/device:GPU:0\n"
    }
   ],
   "source": [
    "labels_train, labels_test = tf.one_hot(labels_train, 2), tf.one_hot(labels_test, 2)"
   ]
  },
  {
   "cell_type": "code",
   "execution_count": 19,
   "metadata": {},
   "outputs": [
    {
     "output_type": "stream",
     "name": "stdout",
     "text": "Executing op Cast in device /job:localhost/replica:0/task:0/device:GPU:0\n"
    }
   ],
   "source": [
    "groups_train, groups_test  = tf.cast(groups_train, dtype = tf.int8), tf.cast(groups_test, dtype = tf.int8)"
   ]
  },
  {
   "cell_type": "code",
   "execution_count": 20,
   "metadata": {},
   "outputs": [],
   "source": []
  },
  {
   "cell_type": "code",
   "execution_count": 21,
   "metadata": {},
   "outputs": [
    {
     "output_type": "stream",
     "name": "stdout",
     "text": "Executing op TensorSliceDataset in device /job:localhost/replica:0/task:0/device:CPU:0\nExecuting op RepeatDataset in device /job:localhost/replica:0/task:0/device:CPU:0\nExecuting op Equal in device /job:localhost/replica:0/task:0/device:GPU:0\nExecuting op LogicalAnd in device /job:localhost/replica:0/task:0/device:GPU:0\nExecuting op SelectV2 in device /job:localhost/replica:0/task:0/device:GPU:0\nExecuting op AnonymousRandomSeedGenerator in device /job:localhost/replica:0/task:0/device:CPU:0\nExecuting op ShuffleDatasetV2 in device /job:localhost/replica:0/task:0/device:CPU:0\nExecuting op BatchDatasetV2 in device /job:localhost/replica:0/task:0/device:CPU:0\nExecuting op PrefetchDataset in device /job:localhost/replica:0/task:0/device:CPU:0\nExecuting op TakeDataset in device /job:localhost/replica:0/task:0/device:CPU:0\nExecuting op TensorSliceDataset in device /job:localhost/replica:0/task:0/device:CPU:0\nExecuting op RepeatDataset in device /job:localhost/replica:0/task:0/device:CPU:0\nExecuting op ShuffleDatasetV2 in device /job:localhost/replica:0/task:0/device:CPU:0\nExecuting op BatchDatasetV2 in device /job:localhost/replica:0/task:0/device:CPU:0\nExecuting op PrefetchDataset in device /job:localhost/replica:0/task:0/device:CPU:0\nExecuting op TakeDataset in device /job:localhost/replica:0/task:0/device:CPU:0\nExecuting op Sum in device /job:localhost/replica:0/task:0/device:CPU:0\nExecuting op Cast in device /job:localhost/replica:0/task:0/device:CPU:0\nExecuting op Greater in device /job:localhost/replica:0/task:0/device:GPU:0\nExecuting op Shape in device /job:localhost/replica:0/task:0/device:GPU:0\nExecuting op StridedSlice in device /job:localhost/replica:0/task:0/device:GPU:0\nExecuting op Prod in device /job:localhost/replica:0/task:0/device:GPU:0\nExecuting op StridedSlice in device /job:localhost/replica:0/task:0/device:GPU:0\nExecuting op StridedSlice in device /job:localhost/replica:0/task:0/device:GPU:0\nExecuting op Pack in device /job:localhost/replica:0/task:0/device:GPU:0\nExecuting op ConcatV2 in device /job:localhost/replica:0/task:0/device:GPU:0\nExecuting op Reshape in device /job:localhost/replica:0/task:0/device:GPU:0\nExecuting op Where in device /job:localhost/replica:0/task:0/device:GPU:0\nExecuting op Squeeze in device /job:localhost/replica:0/task:0/device:GPU:0\nExecuting op GatherV2 in device /job:localhost/replica:0/task:0/device:GPU:0\nExecuting op Shape in device /job:localhost/replica:0/task:0/device:GPU:0\nExecuting op Reshape in device /job:localhost/replica:0/task:0/device:GPU:0\nExecuting op GatherV2 in device /job:localhost/replica:0/task:0/device:CPU:0\nExecuting op TensorSliceDataset in device /job:localhost/replica:0/task:0/device:CPU:0\nExecuting op RepeatDataset in device /job:localhost/replica:0/task:0/device:CPU:0\nExecuting op ShuffleDatasetV2 in device /job:localhost/replica:0/task:0/device:CPU:0\nExecuting op BatchDatasetV2 in device /job:localhost/replica:0/task:0/device:CPU:0\nExecuting op PrefetchDataset in device /job:localhost/replica:0/task:0/device:CPU:0\nExecuting op TakeDataset in device /job:localhost/replica:0/task:0/device:CPU:0\nExecuting op TensorSliceDataset in device /job:localhost/replica:0/task:0/device:CPU:0\nExecuting op RepeatDataset in device /job:localhost/replica:0/task:0/device:CPU:0\nExecuting op ShuffleDatasetV2 in device /job:localhost/replica:0/task:0/device:CPU:0\nExecuting op BatchDatasetV2 in device /job:localhost/replica:0/task:0/device:CPU:0\nExecuting op PrefetchDataset in device /job:localhost/replica:0/task:0/device:CPU:0\nExecuting op TakeDataset in device /job:localhost/replica:0/task:0/device:CPU:0\nExecuting op Add in device /job:localhost/replica:0/task:0/device:CPU:0\nExecuting op SummaryWriter in device /job:localhost/replica:0/task:0/device:CPU:0\nExecuting op CreateSummaryFileWriter in device /job:localhost/replica:0/task:0/device:CPU:0\nExecuting op StridedSlice in device /job:localhost/replica:0/task:0/device:GPU:0\nExecuting op ConcatV2 in device /job:localhost/replica:0/task:0/device:GPU:0\nExecuting op StridedSlice in device /job:localhost/replica:0/task:0/device:GPU:0\nExecuting op ConcatV2 in device /job:localhost/replica:0/task:0/device:CPU:0\nExecuting op OptimizeDataset in device /job:localhost/replica:0/task:0/device:CPU:0\nExecuting op ModelDataset in device /job:localhost/replica:0/task:0/device:CPU:0\nExecuting op AnonymousIteratorV2 in device /job:localhost/replica:0/task:0/device:CPU:0\nExecuting op MakeIterator in device /job:localhost/replica:0/task:0/device:CPU:0\nExecuting op OptimizeDataset in device /job:localhost/replica:0/task:0/device:CPU:0\nExecuting op ModelDataset in device /job:localhost/replica:0/task:0/device:CPU:0\nExecuting op OptimizeDataset in device /job:localhost/replica:0/task:0/device:CPU:0\nExecuting op ModelDataset in device /job:localhost/replica:0/task:0/device:CPU:0\nExecuting op OptimizeDataset in device /job:localhost/replica:0/task:0/device:CPU:0\nExecuting op ModelDataset in device /job:localhost/replica:0/task:0/device:CPU:0\nExecuting op IteratorGetNextSync in device /job:localhost/replica:0/task:0/device:CPU:0\nExecuting op Cast in device /job:localhost/replica:0/task:0/device:GPU:0\nExecuting op ResourceGather in device /job:localhost/replica:0/task:0/device:CPU:0\nExecuting op Identity in device /job:localhost/replica:0/task:0/device:CPU:0\nExecuting op Identity in device /job:localhost/replica:0/task:0/device:GPU:0\nExecuting op ExpandDims in device /job:localhost/replica:0/task:0/device:GPU:0\nExecuting op ReadVariableOp in device /job:localhost/replica:0/task:0/device:GPU:0\nExecuting op Conv2D in device /job:localhost/replica:0/task:0/device:GPU:0\nExecuting op Squeeze in device /job:localhost/replica:0/task:0/device:GPU:0\nExecuting op BiasAdd in device /job:localhost/replica:0/task:0/device:GPU:0\nExecuting op Relu in device /job:localhost/replica:0/task:0/device:GPU:0\nExecuting op MaxPool in device /job:localhost/replica:0/task:0/device:GPU:0\nExecuting op Squeeze in device /job:localhost/replica:0/task:0/device:GPU:0\nExecuting op MaxPool in device /job:localhost/replica:0/task:0/device:GPU:0\nExecuting op MatMul in device /job:localhost/replica:0/task:0/device:GPU:0\nExecuting op __inference_logit_to_probability_1548 in device /job:localhost/replica:0/task:0/device:GPU:0\nExecuting op StridedSlice in device /job:localhost/replica:0/task:0/device:GPU:0\nExecuting op Equal in device /job:localhost/replica:0/task:0/device:GPU:0\nExecuting op StridedSlice in device /job:localhost/replica:0/task:0/device:GPU:0\nExecuting op Equal in device /job:localhost/replica:0/task:0/device:GPU:0\nExecuting op Mean in device /job:localhost/replica:0/task:0/device:GPU:0\nExecuting op AddV2 in device /job:localhost/replica:0/task:0/device:GPU:0\nExecuting op Tile in device /job:localhost/replica:0/task:0/device:GPU:0\nExecuting op Pow in device /job:localhost/replica:0/task:0/device:GPU:0\nExecuting op Sum in device /job:localhost/replica:0/task:0/device:GPU:0\nExecuting op RealDiv in device /job:localhost/replica:0/task:0/device:GPU:0\nExecuting op BroadcastGradientArgs in device /job:localhost/replica:0/task:0/device:GPU:0\nExecuting op ReluGrad in device /job:localhost/replica:0/task:0/device:GPU:0\nExecuting op Neg in device /job:localhost/replica:0/task:0/device:GPU:0\nExecuting op Pack in device /job:localhost/replica:0/task:0/device:GPU:0\nExecuting op Transpose in device /job:localhost/replica:0/task:0/device:GPU:0\nExecuting op Range in device /job:localhost/replica:0/task:0/device:GPU:0\nExecuting op AddN in device /job:localhost/replica:0/task:0/device:GPU:0\nExecuting op BiasAddGrad in device /job:localhost/replica:0/task:0/device:GPU:0\nExecuting op MatMul in device /job:localhost/replica:0/task:0/device:GPU:0\nExecuting op MatMul in device /job:localhost/replica:0/task:0/device:GPU:0\nExecuting op Sum in device /job:localhost/replica:0/task:0/device:GPU:0\nExecuting op Greater in device /job:localhost/replica:0/task:0/device:GPU:0\nExecuting op Select in device /job:localhost/replica:0/task:0/device:GPU:0\nExecuting op Sqrt in device /job:localhost/replica:0/task:0/device:GPU:0\nExecuting op Maximum in device /job:localhost/replica:0/task:0/device:GPU:0\nExecuting op VarHandleOp in device /job:localhost/replica:0/task:0/device:GPU:0\nExecuting op AssignVariableOp in device /job:localhost/replica:0/task:0/device:GPU:0\nExecuting op VarHandleOp in device /job:localhost/replica:0/task:0/device:GPU:0\nExecuting op Fill in device /job:localhost/replica:0/task:0/device:GPU:0\nExecuting op VarHandleOp in device /job:localhost/replica:0/task:0/device:GPU:0\nExecuting op LogicalNot in device /job:localhost/replica:0/task:0/device:GPU:0\nExecuting op Assert in device /job:localhost/replica:0/task:0/device:GPU:0\nExecuting op VarHandleOp in device /job:localhost/replica:0/task:0/device:GPU:0\nExecuting op VarHandleOp in device /job:localhost/replica:0/task:0/device:GPU:0\nExecuting op Reshape in device /job:localhost/replica:0/task:0/device:GPU:0\nExecuting op VarHandleOp in device /job:localhost/replica:0/task:0/device:GPU:0\nExecuting op Identity in device /job:localhost/replica:0/task:0/device:GPU:0\nExecuting op ReadVariableOp in device /job:localhost/replica:0/task:0/device:GPU:0\nExecuting op AddV2 in device /job:localhost/replica:0/task:0/device:GPU:0\nExecuting op Cast in device /job:localhost/replica:0/task:0/device:GPU:0\nExecuting op Pow in device /job:localhost/replica:0/task:0/device:GPU:0\nExecuting op Sub in device /job:localhost/replica:0/task:0/device:GPU:0\nExecuting op Sqrt in device /job:localhost/replica:0/task:0/device:GPU:0\nExecuting op RealDiv in device /job:localhost/replica:0/task:0/device:GPU:0\nExecuting op Mul in device /job:localhost/replica:0/task:0/device:GPU:0\nExecuting op ResourceApplyAdam in device /job:localhost/replica:0/task:0/device:GPU:0\nExecuting op AssignAddVariableOp in device /job:localhost/replica:0/task:0/device:GPU:0\nExecuting op IsNan in device /job:localhost/replica:0/task:0/device:GPU:0\nExecuting op WriteSummary in device /job:localhost/replica:0/task:0/device:CPU:0\nExecuting op FlushSummaryWriter in device /job:localhost/replica:0/task:0/device:CPU:0\nExecuting op Softmax in device /job:localhost/replica:0/task:0/device:GPU:0\nExecuting op Abs in device /job:localhost/replica:0/task:0/device:GPU:0\nExecuting op Log in device /job:localhost/replica:0/task:0/device:GPU:0\nExecuting op __forward_accuracy_186992 in device /job:localhost/replica:0/task:0/device:GPU:0\nExecuting op __forward_logit_to_probability_187172 in device /job:localhost/replica:0/task:0/device:GPU:0\nExecuting op StridedSlice in device /job:localhost/replica:0/task:0/device:GPU:0\nExecuting op Reciprocal in device /job:localhost/replica:0/task:0/device:GPU:0\nExecuting op StridedSliceGrad in device /job:localhost/replica:0/task:0/device:GPU:0\nExecuting op BroadcastTo in device /job:localhost/replica:0/task:0/device:GPU:0\nExecuting op Sign in device /job:localhost/replica:0/task:0/device:GPU:0\nExecuting op Shape in device /job:localhost/replica:0/task:0/device:GPU:0\nExecuting op Cast in device /job:localhost/replica:0/task:0/device:GPU:0\nExecuting op ExpandDims in device /job:localhost/replica:0/task:0/device:GPU:0\nWARNING:tensorflow:From /home/yuekai/anaconda3/lib/python3.7/site-packages/tensorflow_core/python/ops/array_grad.py:563: _EagerTensorBase.cpu (from tensorflow.python.framework.ops) is deprecated and will be removed in a future version.\nInstructions for updating:\nUse tf.identity instead.\nExecuting op ConcatV2 in device /job:localhost/replica:0/task:0/device:GPU:0\nExecuting op Reshape in device /job:localhost/replica:0/task:0/device:GPU:0\nExecuting op StridedSlice in device /job:localhost/replica:0/task:0/device:GPU:0\nExecuting op UnsortedSegmentSum in device /job:localhost/replica:0/task:0/device:GPU:0\nExecuting op AddN in device /job:localhost/replica:0/task:0/device:GPU:0\nExecuting op __inference___backward_logit_to_probability_187119_187173 in device /job:localhost/replica:0/task:0/device:GPU:0\nExecuting op AddN in device /job:localhost/replica:0/task:0/device:GPU:0\nExecuting op MaxPoolGrad in device /job:localhost/replica:0/task:0/device:GPU:0\nExecuting op ShapeN in device /job:localhost/replica:0/task:0/device:GPU:0\nExecuting op Conv2DBackpropInput in device /job:localhost/replica:0/task:0/device:GPU:0\nExecuting op Conv2DBackpropFilter in device /job:localhost/replica:0/task:0/device:GPU:0\nExecuting op MaxPoolGrad in device /job:localhost/replica:0/task:0/device:GPU:0\nExecuting op VarHandleOp in device /job:localhost/replica:0/task:0/device:GPU:0\nExecuting op VarHandleOp in device /job:localhost/replica:0/task:0/device:GPU:0\nExecuting op VarHandleOp in device /job:localhost/replica:0/task:0/device:GPU:0\nExecuting op VarHandleOp in device /job:localhost/replica:0/task:0/device:GPU:0\nExecuting op VarHandleOp in device /job:localhost/replica:0/task:0/device:GPU:0\nExecuting op VarHandleOp in device /job:localhost/replica:0/task:0/device:GPU:0\nExecuting op __inference_accuracy_186981 in device /job:localhost/replica:0/task:0/device:GPU:0\nExecuting op __inference_logit_to_probability_192643 in device /job:localhost/replica:0/task:0/device:GPU:0\nExecuting op NoOp in device /job:localhost/replica:0/task:0/device:CPU:0\nExecuting op Reshape in device /job:localhost/replica:0/task:0/device:CPU:0\nExecuting op Cast in device /job:localhost/replica:0/task:0/device:CPU:0\nExecuting op Equal in device /job:localhost/replica:0/task:0/device:CPU:0\nExecuting op Min in device /job:localhost/replica:0/task:0/device:CPU:0\nExecuting op Max in device /job:localhost/replica:0/task:0/device:CPU:0\nExecuting op Sub in device /job:localhost/replica:0/task:0/device:CPU:0\nExecuting op Equal in device /job:localhost/replica:0/task:0/device:CPU:0\nExecuting op Cast in device /job:localhost/replica:0/task:0/device:CPU:0\nExecuting op RealDiv in device /job:localhost/replica:0/task:0/device:CPU:0\nExecuting op Floor in device /job:localhost/replica:0/task:0/device:CPU:0\nExecuting op Cast in device /job:localhost/replica:0/task:0/device:CPU:0\nExecuting op Minimum in device /job:localhost/replica:0/task:0/device:CPU:0\nExecuting op OneHot in device /job:localhost/replica:0/task:0/device:CPU:0\nExecuting op Sum in device /job:localhost/replica:0/task:0/device:CPU:0\nExecuting op LinSpace in device /job:localhost/replica:0/task:0/device:CPU:0\nExecuting op StridedSlice in device /job:localhost/replica:0/task:0/device:CPU:0\nExecuting op Pack in device /job:localhost/replica:0/task:0/device:CPU:0\nExecuting op ConcatV2 in device /job:localhost/replica:0/task:0/device:CPU:0\nExecuting op StridedSlice in device /job:localhost/replica:0/task:0/device:CPU:0\nExecuting op Pack in device /job:localhost/replica:0/task:0/device:CPU:0\nExecuting op Transpose in device /job:localhost/replica:0/task:0/device:CPU:0\nExecuting op WriteSummary in device /job:localhost/replica:0/task:0/device:CPU:0\nExecuting op __inference_accuracy_192848 in device /job:localhost/replica:0/task:0/device:GPU:0\nExecuting op ArgMax in device /job:localhost/replica:0/task:0/device:GPU:0\nExecuting op Cast in device /job:localhost/replica:0/task:0/device:GPU:0\nExecuting op Equal in device /job:localhost/replica:0/task:0/device:GPU:0\nExecuting op Shape in device /job:localhost/replica:0/task:0/device:GPU:0\nExecuting op GatherV2 in device /job:localhost/replica:0/task:0/device:GPU:0\nTest accuracy for step 50: 0.4137499928474426\n\nTest GAP RMS for sextuality and step 50: 0.17417055368423462\n\nTest GAP RMS for gender-identity and step 50: 0.3439273536205292\n\nTest GAP RMS for religion and step 50: 0.2817468047142029\n\nTest GAP RMS for race and step 50: 0.15998251736164093\n\nTest balanced accuracy for step 50: 0.5548017024993896\n\n\nExecuting op DeleteIterator in device /job:localhost/replica:0/task:0/device:CPU:0\n{'epsilon': 1.0, 'lr': 0.0001, 'wlr': 1e-05, 'w_reg': 0.01}\nFinal test accuracy: 0.6931250095367432\nFinal test GAP RMS for sextuality: 0.10327663272619247\nFinal test GAP RMS for gender-identity: 0.2306908369064331\nFinal test GAP RMS for religion: 0.09649352729320526\nFinal test GAP RMS for race: 0.08966727554798126\nFinal test balanced accuracy: 0.7572365403175354\n\n\nWARNING:tensorflow:From /home/yuekai/anaconda3/lib/python3.7/site-packages/tensorflow_core/python/ops/resource_variable_ops.py:1786: calling BaseResourceVariable.__init__ (from tensorflow.python.ops.resource_variable_ops) with constraint is deprecated and will be removed in a future version.\nInstructions for updating:\nIf using Keras pass *_constraint arguments to layers.\nExecuting op StringJoin in device /job:localhost/replica:0/task:0/device:CPU:0\nExecuting op ShardedFilename in device /job:localhost/replica:0/task:0/device:CPU:0\nExecuting op ReadVariableOp in device /job:localhost/replica:0/task:0/device:CPU:0\nExecuting op SaveV2 in device /job:localhost/replica:0/task:0/device:CPU:0\nExecuting op SaveV2 in device /job:localhost/replica:0/task:0/device:CPU:0\nExecuting op Pack in device /job:localhost/replica:0/task:0/device:CPU:0\nExecuting op MergeV2Checkpoints in device /job:localhost/replica:0/task:0/device:CPU:0\nExecuting op Identity in device /job:localhost/replica:0/task:0/device:CPU:0\nINFO:tensorflow:Assets written to: saved-models/seed-1-lr-0.0001-wlr-1e-05-epsilon-1.0-w_reg-0.01-l2_reg-0/assets\n"
    }
   ],
   "source": []
  }
 ],
 "metadata": {
  "language_info": {
   "codemirror_mode": {
    "name": "ipython",
    "version": 3
   },
   "file_extension": ".py",
   "mimetype": "text/x-python",
   "name": "python",
   "nbconvert_exporter": "python",
   "pygments_lexer": "ipython3",
   "version": "3.7.6-final"
  },
  "orig_nbformat": 2,
  "kernelspec": {
   "name": "python3",
   "display_name": "Python 3"
  }
 },
 "nbformat": 4,
 "nbformat_minor": 2
}