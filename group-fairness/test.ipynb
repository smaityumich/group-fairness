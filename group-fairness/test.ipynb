{
 "cells": [
  {
   "cell_type": "code",
   "execution_count": 1,
   "metadata": {},
   "outputs": [],
   "source": [
    "import numpy as np\n",
    "import tensorflow as tf\n",
    "x_train, y_train, group_train = np.random.normal(size = (10000, 39)), np.random.binomial(1, 0.5, (10000, )), np.random.binomial(1, 0.5, (10000, 2))\n",
    "x_test, y_test, group_test = np.random.normal(size = (6000, 39)), np.random.binomial(1, 0.5, (6000, )), np.random.binomial(1, 0.5, (6000, 2))"
   ]
  },
  {
   "cell_type": "code",
   "execution_count": 4,
   "metadata": {},
   "outputs": [],
   "source": [
    "x_train, y_train, group_train = tf.cast(x_train, tf.float32), tf.one_hot(y_train, 2), tf.cast(group_train, tf.int32)\n",
    "x_test, y_test, group_test = tf.cast(x_test, tf.float32), tf.one_hot(y_test, 2), tf.cast(group_test, tf.int32)\n",
    "data_train = x_train, y_train, group_train\n",
    "data_test = x_test, y_test, group_test"
   ]
  },
  {
   "cell_type": "code",
   "execution_count": 3,
   "metadata": {},
   "outputs": [],
   "source": [
    "import itertools\n",
    "groups = list(itertools.product([0,1], [0,1]))\n",
    "groups = [list(x) for x in groups]\n",
    "groups = tf.cast(groups, tf.int32)"
   ]
  },
  {
   "cell_type": "code",
   "execution_count": 4,
   "metadata": {},
   "outputs": [
    {
     "output_type": "execute_result",
     "data": {
      "text/plain": "<tf.Tensor: shape=(4, 2), dtype=int32, numpy=\narray([[0, 0],\n       [0, 1],\n       [1, 0],\n       [1, 1]], dtype=int32)>"
     },
     "metadata": {},
     "execution_count": 4
    }
   ],
   "source": [
    "groups "
   ]
  },
  {
   "cell_type": "code",
   "execution_count": 5,
   "metadata": {},
   "outputs": [],
   "source": [
    "import setup2\n",
    "e = setup2.GroupFairness(epoch = 1000)\n",
    "e.set_graph(classifier_input_shape=(39,), n_groups=4)"
   ]
  },
  {
   "cell_type": "code",
   "execution_count": 6,
   "metadata": {},
   "outputs": [],
   "source": [
    "e.create_tensorboard()"
   ]
  },
  {
   "cell_type": "code",
   "execution_count": 7,
   "metadata": {},
   "outputs": [
    {
     "output_type": "stream",
     "name": "stdout",
     "text": "WARNING:tensorflow:From /Users/smaity/Library/Python/3.7/lib/python/site-packages/tensorflow_core/python/ops/array_grad.py:563: _EagerTensorBase.cpu (from tensorflow.python.framework.ops) is deprecated and will be removed in a future version.\nInstructions for updating:\nUse tf.identity instead.\nTest accuracy for step 500: 0.4975000023841858\n\nTest GAP RMS for 0 and step 500: 0.012841865420341492\n\nTest GAP RMS for 1 and step 500: 0.0238004419952631\n\nTest balanced accuracy for step 500: 0.4988960921764374\n\n\nTest accuracy for step 750: 0.5005000233650208\n\nTest GAP RMS for 0 and step 750: 0.013324983417987823\n\nTest GAP RMS for 1 and step 750: 0.02386459894478321\n\nTest balanced accuracy for step 750: 0.5005521178245544\n\n\n{'epsilon': 1.0, 'lr': 0.0001, 'wlr': 1e-05, 'w_reg': 0.01}\nFinal test accuracy: 0.5011666417121887\nFinal test GAP RMS for 0: 0.02432774007320404\nFinal test GAP RMS for 1: 0.019284237176179886\nFinal test balanced accuracy: 0.5010819435119629\n\n\n"
    }
   ],
   "source": [
    "e.fit(data_train, data_test, groups)"
   ]
  },
  {
   "cell_type": "code",
   "execution_count": 8,
   "metadata": {},
   "outputs": [
    {
     "output_type": "stream",
     "name": "stdout",
     "text": "WARNING:tensorflow:From /Users/smaity/Library/Python/3.7/lib/python/site-packages/tensorflow_core/python/ops/resource_variable_ops.py:1786: calling BaseResourceVariable.__init__ (from tensorflow.python.ops.resource_variable_ops) with constraint is deprecated and will be removed in a future version.\nInstructions for updating:\nIf using Keras pass *_constraint arguments to layers.\nINFO:tensorflow:Assets written to: saved-models/test-model/assets\n"
    }
   ],
   "source": [
    "e.classifier.model.save('saved-models/test-model')"
   ]
  },
  {
   "cell_type": "code",
   "execution_count": 2,
   "metadata": {},
   "outputs": [],
   "source": [
    "model = tf.keras.models.load_model('saved-models/test-model')"
   ]
  },
  {
   "cell_type": "code",
   "execution_count": 3,
   "metadata": {},
   "outputs": [
    {
     "output_type": "stream",
     "name": "stdout",
     "text": "Model: \"classifier\"\n_________________________________________________________________\nLayer (type)                 Output Shape              Param #   \n=================================================================\nhidden-layer-1 (Dense)       (None, 10)                400       \n_________________________________________________________________\nhidden-layer-2 (Dense)       (None, 20)                220       \n_________________________________________________________________\nlogit-layer (Dense)          (None, 2)                 42        \n=================================================================\nTotal params: 662\nTrainable params: 662\nNon-trainable params: 0\n_________________________________________________________________\n"
    }
   ],
   "source": [
    "model.summary()"
   ]
  },
  {
   "cell_type": "code",
   "execution_count": 5,
   "metadata": {},
   "outputs": [
    {
     "output_type": "execute_result",
     "data": {
      "text/plain": "<tf.Tensor: shape=(10000, 2), dtype=float32, numpy=\narray([[ 0.36286703,  0.6531146 ],\n       [-0.15655662,  0.12124513],\n       [ 0.5716924 ,  0.51805305],\n       ...,\n       [ 0.15494733, -0.10417779],\n       [ 0.00360449, -0.00113279],\n       [-0.5549497 , -0.11485155]], dtype=float32)>"
     },
     "metadata": {},
     "execution_count": 5
    }
   ],
   "source": [
    "model(x_train)"
   ]
  },
  {
   "cell_type": "code",
   "execution_count": null,
   "metadata": {},
   "outputs": [],
   "source": []
  }
 ],
 "metadata": {
  "language_info": {
   "codemirror_mode": {
    "name": "ipython",
    "version": 3
   },
   "file_extension": ".py",
   "mimetype": "text/x-python",
   "name": "python",
   "nbconvert_exporter": "python",
   "pygments_lexer": "ipython3",
   "version": "3.7.4-final"
  },
  "orig_nbformat": 2,
  "kernelspec": {
   "name": "python37464bit48aa32fa6dba4f1bbd692e320b15fd93",
   "display_name": "Python 3.7.4 64-bit"
  }
 },
 "nbformat": 4,
 "nbformat_minor": 2
}